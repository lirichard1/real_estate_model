{
  "cells": [
    {
      "cell_type": "markdown",
      "metadata": {
        "id": "gR7G8eSVtRcV"
      },
      "source": [
        "todo:\n",
        "feature engineering ideas? use stuff that I dropped?\n",
        "\n",
        "improve hyperparameter tuning\n",
        "\n",
        "gather more data\n",
        "\n",
        "new models to try out\n"
      ]
    },
    {
      "cell_type": "code",
      "execution_count": null,
      "metadata": {
        "colab": {
          "base_uri": "https://localhost:8080/"
        },
        "id": "sQMQ6mhrG854",
        "outputId": "54cde22d-1bcf-463b-aded-c0a16ff2561c"
      },
      "outputs": [
        {
          "output_type": "stream",
          "name": "stdout",
          "text": [
            "Collecting scikit-optimize\n",
            "  Downloading scikit_optimize-0.9.0-py2.py3-none-any.whl (100 kB)\n",
            "\u001b[2K     \u001b[90m━━━━━━━━━━━━━━━━━━━━━━━━━━━━━━━━━━━━━━━\u001b[0m \u001b[32m100.3/100.3 kB\u001b[0m \u001b[31m1.8 MB/s\u001b[0m eta \u001b[36m0:00:00\u001b[0m\n",
            "\u001b[?25hRequirement already satisfied: joblib>=0.11 in /usr/local/lib/python3.10/dist-packages (from scikit-optimize) (1.3.1)\n",
            "Collecting pyaml>=16.9 (from scikit-optimize)\n",
            "  Downloading pyaml-23.7.0-py3-none-any.whl (17 kB)\n",
            "Requirement already satisfied: numpy>=1.13.3 in /usr/local/lib/python3.10/dist-packages (from scikit-optimize) (1.23.5)\n",
            "Requirement already satisfied: scipy>=0.19.1 in /usr/local/lib/python3.10/dist-packages (from scikit-optimize) (1.10.1)\n",
            "Requirement already satisfied: scikit-learn>=0.20.0 in /usr/local/lib/python3.10/dist-packages (from scikit-optimize) (1.2.2)\n",
            "Requirement already satisfied: PyYAML in /usr/local/lib/python3.10/dist-packages (from pyaml>=16.9->scikit-optimize) (6.0.1)\n",
            "Requirement already satisfied: threadpoolctl>=2.0.0 in /usr/local/lib/python3.10/dist-packages (from scikit-learn>=0.20.0->scikit-optimize) (3.2.0)\n",
            "Installing collected packages: pyaml, scikit-optimize\n",
            "Successfully installed pyaml-23.7.0 scikit-optimize-0.9.0\n"
          ]
        }
      ],
      "source": [
        "pip install scikit-optimize"
      ]
    },
    {
      "cell_type": "code",
      "execution_count": null,
      "metadata": {
        "id": "ILml7BNKEigR"
      },
      "outputs": [],
      "source": [
        "import numpy as np # linear algebra\n",
        "import pandas as pd # data processing, CSV file I/O (e.g. pd.read_csv)\n",
        "import seaborn as sns\n",
        "import matplotlib\n",
        "import matplotlib.pyplot as plt\n",
        "from sklearn.preprocessing import StandardScaler\n",
        "from scipy.stats import norm\n",
        "from sklearn.model_selection import train_test_split\n",
        "from xgboost import XGBRegressor\n",
        "import lightgbm as ltb\n",
        "from sklearn.linear_model import LinearRegression\n",
        "from sklearn.ensemble import RandomForestRegressor\n",
        "from sklearn.svm import SVR\n",
        "from sklearn.linear_model import RidgeCV\n",
        "from skopt import BayesSearchCV\n",
        "from sklearn.ensemble import StackingRegressor\n",
        "from sklearn.metrics import mean_squared_error\n",
        "from sklearn.metrics import r2_score"
      ]
    },
    {
      "cell_type": "code",
      "execution_count": null,
      "metadata": {
        "colab": {
          "base_uri": "https://localhost:8080/"
        },
        "id": "g8Shm52viOuy",
        "outputId": "11dff116-3a50-474a-e18d-6c2fd4518c44"
      },
      "outputs": [
        {
          "output_type": "stream",
          "name": "stdout",
          "text": [
            "Mounted at /content/drive\n"
          ]
        }
      ],
      "source": [
        "from google.colab import drive\n",
        "drive.mount('/content/drive')"
      ]
    },
    {
      "cell_type": "code",
      "execution_count": null,
      "metadata": {
        "id": "w5pgZv9bTMEu"
      },
      "outputs": [],
      "source": [
        "cnndf = pd.read_csv(\"/content/drive/MyDrive/Real Estate/df_with_predictions(loss = 0.2630).csv\")"
      ]
    },
    {
      "cell_type": "code",
      "execution_count": null,
      "metadata": {
        "id": "wkxV9g6yF8Uc"
      },
      "outputs": [],
      "source": [
        "df = pd.read_csv(\"/content/drive/MyDrive/Real Estate/realEstateCombinedData.csv\") #remember to download data and mount it to google drive"
      ]
    },
    {
      "cell_type": "code",
      "execution_count": null,
      "metadata": {
        "colab": {
          "base_uri": "https://localhost:8080/",
          "height": 424
        },
        "id": "wy0Pc3B3PgLE",
        "outputId": "8c76c7b8-979d-42ad-86ed-bb802c494f85"
      },
      "outputs": [
        {
          "data": {
            "text/html": [
              "\n",
              "\n",
              "  <div id=\"df-d002353a-7124-4052-8047-cee6d35fcc98\">\n",
              "    <div class=\"colab-df-container\">\n",
              "      <div>\n",
              "<style scoped>\n",
              "    .dataframe tbody tr th:only-of-type {\n",
              "        vertical-align: middle;\n",
              "    }\n",
              "\n",
              "    .dataframe tbody tr th {\n",
              "        vertical-align: top;\n",
              "    }\n",
              "\n",
              "    .dataframe thead th {\n",
              "        text-align: right;\n",
              "    }\n",
              "</style>\n",
              "<table border=\"1\" class=\"dataframe\">\n",
              "  <thead>\n",
              "    <tr style=\"text-align: right;\">\n",
              "      <th></th>\n",
              "      <th>image_id</th>\n",
              "      <th>street</th>\n",
              "      <th>citi</th>\n",
              "      <th>n_citi</th>\n",
              "      <th>bed</th>\n",
              "      <th>bath</th>\n",
              "      <th>sqft</th>\n",
              "      <th>price</th>\n",
              "      <th>std_from_mean</th>\n",
              "      <th>predicted_std_from_mean</th>\n",
              "    </tr>\n",
              "  </thead>\n",
              "  <tbody>\n",
              "    <tr>\n",
              "      <th>8485</th>\n",
              "      <td>8485</td>\n",
              "      <td>73833 White Sands Drive</td>\n",
              "      <td>29 Palms, CA</td>\n",
              "      <td>0</td>\n",
              "      <td>3</td>\n",
              "      <td>2.0</td>\n",
              "      <td>1518</td>\n",
              "      <td>225000</td>\n",
              "      <td>-1.268306</td>\n",
              "      <td>-0.406040</td>\n",
              "    </tr>\n",
              "    <tr>\n",
              "      <th>8397</th>\n",
              "      <td>8397</td>\n",
              "      <td>72912 Manana Drive</td>\n",
              "      <td>29 Palms, CA</td>\n",
              "      <td>0</td>\n",
              "      <td>3</td>\n",
              "      <td>2.0</td>\n",
              "      <td>1280</td>\n",
              "      <td>220000</td>\n",
              "      <td>-1.281569</td>\n",
              "      <td>-0.267824</td>\n",
              "    </tr>\n",
              "    <tr>\n",
              "      <th>8333</th>\n",
              "      <td>8333</td>\n",
              "      <td>71598 Sunflower Drive</td>\n",
              "      <td>29 Palms, CA</td>\n",
              "      <td>0</td>\n",
              "      <td>4</td>\n",
              "      <td>2.0</td>\n",
              "      <td>1604</td>\n",
              "      <td>208000</td>\n",
              "      <td>-1.313401</td>\n",
              "      <td>0.176072</td>\n",
              "    </tr>\n",
              "    <tr>\n",
              "      <th>8534</th>\n",
              "      <td>8534</td>\n",
              "      <td>4838 Sunmore</td>\n",
              "      <td>29 Palms, CA</td>\n",
              "      <td>0</td>\n",
              "      <td>3</td>\n",
              "      <td>2.0</td>\n",
              "      <td>1694</td>\n",
              "      <td>279000</td>\n",
              "      <td>-1.125060</td>\n",
              "      <td>1.105903</td>\n",
              "    </tr>\n",
              "    <tr>\n",
              "      <th>8456</th>\n",
              "      <td>8456</td>\n",
              "      <td>5229 Verenda Avenue</td>\n",
              "      <td>29 Palms, CA</td>\n",
              "      <td>0</td>\n",
              "      <td>3</td>\n",
              "      <td>2.0</td>\n",
              "      <td>1618</td>\n",
              "      <td>215000</td>\n",
              "      <td>-1.294832</td>\n",
              "      <td>-0.243400</td>\n",
              "    </tr>\n",
              "    <tr>\n",
              "      <th>...</th>\n",
              "      <td>...</td>\n",
              "      <td>...</td>\n",
              "      <td>...</td>\n",
              "      <td>...</td>\n",
              "      <td>...</td>\n",
              "      <td>...</td>\n",
              "      <td>...</td>\n",
              "      <td>...</td>\n",
              "      <td>...</td>\n",
              "      <td>...</td>\n",
              "    </tr>\n",
              "    <tr>\n",
              "      <th>8442</th>\n",
              "      <td>8442</td>\n",
              "      <td>5111 Linda Lee Drive</td>\n",
              "      <td>Yucca Valley, CA</td>\n",
              "      <td>414</td>\n",
              "      <td>2</td>\n",
              "      <td>1.0</td>\n",
              "      <td>926</td>\n",
              "      <td>210000</td>\n",
              "      <td>-1.308096</td>\n",
              "      <td>-0.314879</td>\n",
              "    </tr>\n",
              "    <tr>\n",
              "      <th>9051</th>\n",
              "      <td>9051</td>\n",
              "      <td>7545 PINON Drive</td>\n",
              "      <td>Yucca Valley, CA</td>\n",
              "      <td>414</td>\n",
              "      <td>4</td>\n",
              "      <td>2.0</td>\n",
              "      <td>2161</td>\n",
              "      <td>379000</td>\n",
              "      <td>-0.859792</td>\n",
              "      <td>0.036334</td>\n",
              "    </tr>\n",
              "    <tr>\n",
              "      <th>8670</th>\n",
              "      <td>8670</td>\n",
              "      <td>7562 Valley Vista Avenue</td>\n",
              "      <td>Yucca Valley, CA</td>\n",
              "      <td>414</td>\n",
              "      <td>3</td>\n",
              "      <td>2.0</td>\n",
              "      <td>1368</td>\n",
              "      <td>245900</td>\n",
              "      <td>-1.212864</td>\n",
              "      <td>0.276548</td>\n",
              "    </tr>\n",
              "    <tr>\n",
              "      <th>8967</th>\n",
              "      <td>8967</td>\n",
              "      <td>6404 Airway Avenue</td>\n",
              "      <td>Yucca Valley, CA</td>\n",
              "      <td>414</td>\n",
              "      <td>4</td>\n",
              "      <td>2.0</td>\n",
              "      <td>2313</td>\n",
              "      <td>399000</td>\n",
              "      <td>-0.806738</td>\n",
              "      <td>0.056939</td>\n",
              "    </tr>\n",
              "    <tr>\n",
              "      <th>8687</th>\n",
              "      <td>8687</td>\n",
              "      <td>5729 Buena Suerte Road</td>\n",
              "      <td>Yucca Valley, CA</td>\n",
              "      <td>414</td>\n",
              "      <td>4</td>\n",
              "      <td>2.0</td>\n",
              "      <td>1520</td>\n",
              "      <td>249900</td>\n",
              "      <td>-1.202254</td>\n",
              "      <td>0.402303</td>\n",
              "    </tr>\n",
              "  </tbody>\n",
              "</table>\n",
              "<p>15474 rows × 10 columns</p>\n",
              "</div>\n",
              "      <button class=\"colab-df-convert\" onclick=\"convertToInteractive('df-d002353a-7124-4052-8047-cee6d35fcc98')\"\n",
              "              title=\"Convert this dataframe to an interactive table.\"\n",
              "              style=\"display:none;\">\n",
              "\n",
              "  <svg xmlns=\"http://www.w3.org/2000/svg\" height=\"24px\"viewBox=\"0 0 24 24\"\n",
              "       width=\"24px\">\n",
              "    <path d=\"M0 0h24v24H0V0z\" fill=\"none\"/>\n",
              "    <path d=\"M18.56 5.44l.94 2.06.94-2.06 2.06-.94-2.06-.94-.94-2.06-.94 2.06-2.06.94zm-11 1L8.5 8.5l.94-2.06 2.06-.94-2.06-.94L8.5 2.5l-.94 2.06-2.06.94zm10 10l.94 2.06.94-2.06 2.06-.94-2.06-.94-.94-2.06-.94 2.06-2.06.94z\"/><path d=\"M17.41 7.96l-1.37-1.37c-.4-.4-.92-.59-1.43-.59-.52 0-1.04.2-1.43.59L10.3 9.45l-7.72 7.72c-.78.78-.78 2.05 0 2.83L4 21.41c.39.39.9.59 1.41.59.51 0 1.02-.2 1.41-.59l7.78-7.78 2.81-2.81c.8-.78.8-2.07 0-2.86zM5.41 20L4 18.59l7.72-7.72 1.47 1.35L5.41 20z\"/>\n",
              "  </svg>\n",
              "      </button>\n",
              "\n",
              "\n",
              "\n",
              "    <div id=\"df-abb11ddb-ff26-4df0-bad7-ec9799ea3d66\">\n",
              "      <button class=\"colab-df-quickchart\" onclick=\"quickchart('df-abb11ddb-ff26-4df0-bad7-ec9799ea3d66')\"\n",
              "              title=\"Suggest charts.\"\n",
              "              style=\"display:none;\">\n",
              "\n",
              "<svg xmlns=\"http://www.w3.org/2000/svg\" height=\"24px\"viewBox=\"0 0 24 24\"\n",
              "     width=\"24px\">\n",
              "    <g>\n",
              "        <path d=\"M19 3H5c-1.1 0-2 .9-2 2v14c0 1.1.9 2 2 2h14c1.1 0 2-.9 2-2V5c0-1.1-.9-2-2-2zM9 17H7v-7h2v7zm4 0h-2V7h2v10zm4 0h-2v-4h2v4z\"/>\n",
              "    </g>\n",
              "</svg>\n",
              "      </button>\n",
              "    </div>\n",
              "\n",
              "<style>\n",
              "  .colab-df-quickchart {\n",
              "    background-color: #E8F0FE;\n",
              "    border: none;\n",
              "    border-radius: 50%;\n",
              "    cursor: pointer;\n",
              "    display: none;\n",
              "    fill: #1967D2;\n",
              "    height: 32px;\n",
              "    padding: 0 0 0 0;\n",
              "    width: 32px;\n",
              "  }\n",
              "\n",
              "  .colab-df-quickchart:hover {\n",
              "    background-color: #E2EBFA;\n",
              "    box-shadow: 0px 1px 2px rgba(60, 64, 67, 0.3), 0px 1px 3px 1px rgba(60, 64, 67, 0.15);\n",
              "    fill: #174EA6;\n",
              "  }\n",
              "\n",
              "  [theme=dark] .colab-df-quickchart {\n",
              "    background-color: #3B4455;\n",
              "    fill: #D2E3FC;\n",
              "  }\n",
              "\n",
              "  [theme=dark] .colab-df-quickchart:hover {\n",
              "    background-color: #434B5C;\n",
              "    box-shadow: 0px 1px 3px 1px rgba(0, 0, 0, 0.15);\n",
              "    filter: drop-shadow(0px 1px 2px rgba(0, 0, 0, 0.3));\n",
              "    fill: #FFFFFF;\n",
              "  }\n",
              "</style>\n",
              "\n",
              "    <script>\n",
              "      async function quickchart(key) {\n",
              "        const containerElement = document.querySelector('#' + key);\n",
              "        const charts = await google.colab.kernel.invokeFunction(\n",
              "            'suggestCharts', [key], {});\n",
              "      }\n",
              "    </script>\n",
              "\n",
              "      <script>\n",
              "\n",
              "function displayQuickchartButton(domScope) {\n",
              "  let quickchartButtonEl =\n",
              "    domScope.querySelector('#df-abb11ddb-ff26-4df0-bad7-ec9799ea3d66 button.colab-df-quickchart');\n",
              "  quickchartButtonEl.style.display =\n",
              "    google.colab.kernel.accessAllowed ? 'block' : 'none';\n",
              "}\n",
              "\n",
              "        displayQuickchartButton(document);\n",
              "      </script>\n",
              "      <style>\n",
              "    .colab-df-container {\n",
              "      display:flex;\n",
              "      flex-wrap:wrap;\n",
              "      gap: 12px;\n",
              "    }\n",
              "\n",
              "    .colab-df-convert {\n",
              "      background-color: #E8F0FE;\n",
              "      border: none;\n",
              "      border-radius: 50%;\n",
              "      cursor: pointer;\n",
              "      display: none;\n",
              "      fill: #1967D2;\n",
              "      height: 32px;\n",
              "      padding: 0 0 0 0;\n",
              "      width: 32px;\n",
              "    }\n",
              "\n",
              "    .colab-df-convert:hover {\n",
              "      background-color: #E2EBFA;\n",
              "      box-shadow: 0px 1px 2px rgba(60, 64, 67, 0.3), 0px 1px 3px 1px rgba(60, 64, 67, 0.15);\n",
              "      fill: #174EA6;\n",
              "    }\n",
              "\n",
              "    [theme=dark] .colab-df-convert {\n",
              "      background-color: #3B4455;\n",
              "      fill: #D2E3FC;\n",
              "    }\n",
              "\n",
              "    [theme=dark] .colab-df-convert:hover {\n",
              "      background-color: #434B5C;\n",
              "      box-shadow: 0px 1px 3px 1px rgba(0, 0, 0, 0.15);\n",
              "      filter: drop-shadow(0px 1px 2px rgba(0, 0, 0, 0.3));\n",
              "      fill: #FFFFFF;\n",
              "    }\n",
              "  </style>\n",
              "\n",
              "      <script>\n",
              "        const buttonEl =\n",
              "          document.querySelector('#df-d002353a-7124-4052-8047-cee6d35fcc98 button.colab-df-convert');\n",
              "        buttonEl.style.display =\n",
              "          google.colab.kernel.accessAllowed ? 'block' : 'none';\n",
              "\n",
              "        async function convertToInteractive(key) {\n",
              "          const element = document.querySelector('#df-d002353a-7124-4052-8047-cee6d35fcc98');\n",
              "          const dataTable =\n",
              "            await google.colab.kernel.invokeFunction('convertToInteractive',\n",
              "                                                     [key], {});\n",
              "          if (!dataTable) return;\n",
              "\n",
              "          const docLinkHtml = 'Like what you see? Visit the ' +\n",
              "            '<a target=\"_blank\" href=https://colab.research.google.com/notebooks/data_table.ipynb>data table notebook</a>'\n",
              "            + ' to learn more about interactive tables.';\n",
              "          element.innerHTML = '';\n",
              "          dataTable['output_type'] = 'display_data';\n",
              "          await google.colab.output.renderOutput(dataTable, element);\n",
              "          const docLink = document.createElement('div');\n",
              "          docLink.innerHTML = docLinkHtml;\n",
              "          element.appendChild(docLink);\n",
              "        }\n",
              "      </script>\n",
              "    </div>\n",
              "  </div>\n"
            ],
            "text/plain": [
              "      image_id                    street              citi  n_citi  bed  bath  \\\n",
              "8485      8485   73833 White Sands Drive      29 Palms, CA       0    3   2.0   \n",
              "8397      8397        72912 Manana Drive      29 Palms, CA       0    3   2.0   \n",
              "8333      8333     71598 Sunflower Drive      29 Palms, CA       0    4   2.0   \n",
              "8534      8534              4838 Sunmore      29 Palms, CA       0    3   2.0   \n",
              "8456      8456       5229 Verenda Avenue      29 Palms, CA       0    3   2.0   \n",
              "...        ...                       ...               ...     ...  ...   ...   \n",
              "8442      8442      5111 Linda Lee Drive  Yucca Valley, CA     414    2   1.0   \n",
              "9051      9051          7545 PINON Drive  Yucca Valley, CA     414    4   2.0   \n",
              "8670      8670  7562 Valley Vista Avenue  Yucca Valley, CA     414    3   2.0   \n",
              "8967      8967        6404 Airway Avenue  Yucca Valley, CA     414    4   2.0   \n",
              "8687      8687    5729 Buena Suerte Road  Yucca Valley, CA     414    4   2.0   \n",
              "\n",
              "      sqft   price  std_from_mean  predicted_std_from_mean  \n",
              "8485  1518  225000      -1.268306                -0.406040  \n",
              "8397  1280  220000      -1.281569                -0.267824  \n",
              "8333  1604  208000      -1.313401                 0.176072  \n",
              "8534  1694  279000      -1.125060                 1.105903  \n",
              "8456  1618  215000      -1.294832                -0.243400  \n",
              "...    ...     ...            ...                      ...  \n",
              "8442   926  210000      -1.308096                -0.314879  \n",
              "9051  2161  379000      -0.859792                 0.036334  \n",
              "8670  1368  245900      -1.212864                 0.276548  \n",
              "8967  2313  399000      -0.806738                 0.056939  \n",
              "8687  1520  249900      -1.202254                 0.402303  \n",
              "\n",
              "[15474 rows x 10 columns]"
            ]
          },
          "execution_count": 7,
          "metadata": {},
          "output_type": "execute_result"
        }
      ],
      "source": [
        "df.sort_values(by = \"n_citi\")"
      ]
    },
    {
      "cell_type": "code",
      "execution_count": null,
      "metadata": {
        "id": "CbDbEdosPgPl"
      },
      "outputs": [],
      "source": [
        "df.drop(inplace = True, columns = \"citi\")"
      ]
    },
    {
      "cell_type": "code",
      "execution_count": null,
      "metadata": {
        "colab": {
          "base_uri": "https://localhost:8080/"
        },
        "id": "fHuDILzQPgR2",
        "outputId": "2abf0e57-e655-4566-f84b-71828b578a9e"
      },
      "outputs": [
        {
          "data": {
            "text/plain": [
              "15474"
            ]
          },
          "execution_count": 9,
          "metadata": {},
          "output_type": "execute_result"
        }
      ],
      "source": [
        "len(df)"
      ]
    },
    {
      "cell_type": "code",
      "execution_count": null,
      "metadata": {
        "id": "KG_JqE9cPnQO"
      },
      "outputs": [],
      "source": [
        "df.drop(columns = \"std_from_mean\", inplace = True)"
      ]
    },
    {
      "cell_type": "code",
      "execution_count": null,
      "metadata": {
        "colab": {
          "base_uri": "https://localhost:8080/",
          "height": 424
        },
        "id": "VQ35PdNePt2_",
        "outputId": "9f1b1aa6-31c8-4028-ec30-5d4e1cd50401"
      },
      "outputs": [
        {
          "data": {
            "text/html": [
              "\n",
              "\n",
              "  <div id=\"df-0f8aa32b-a443-4aeb-8b23-c07116c214fe\">\n",
              "    <div class=\"colab-df-container\">\n",
              "      <div>\n",
              "<style scoped>\n",
              "    .dataframe tbody tr th:only-of-type {\n",
              "        vertical-align: middle;\n",
              "    }\n",
              "\n",
              "    .dataframe tbody tr th {\n",
              "        vertical-align: top;\n",
              "    }\n",
              "\n",
              "    .dataframe thead th {\n",
              "        text-align: right;\n",
              "    }\n",
              "</style>\n",
              "<table border=\"1\" class=\"dataframe\">\n",
              "  <thead>\n",
              "    <tr style=\"text-align: right;\">\n",
              "      <th></th>\n",
              "      <th>image_id</th>\n",
              "      <th>street</th>\n",
              "      <th>n_citi</th>\n",
              "      <th>bed</th>\n",
              "      <th>bath</th>\n",
              "      <th>sqft</th>\n",
              "      <th>price</th>\n",
              "      <th>predicted_std_from_mean</th>\n",
              "    </tr>\n",
              "  </thead>\n",
              "  <tbody>\n",
              "    <tr>\n",
              "      <th>0</th>\n",
              "      <td>0</td>\n",
              "      <td>1317 Van Buren Avenue</td>\n",
              "      <td>317</td>\n",
              "      <td>3</td>\n",
              "      <td>2.0</td>\n",
              "      <td>1560</td>\n",
              "      <td>201900</td>\n",
              "      <td>-1.472661</td>\n",
              "    </tr>\n",
              "    <tr>\n",
              "      <th>1</th>\n",
              "      <td>1</td>\n",
              "      <td>124 C Street W</td>\n",
              "      <td>48</td>\n",
              "      <td>3</td>\n",
              "      <td>2.0</td>\n",
              "      <td>713</td>\n",
              "      <td>228500</td>\n",
              "      <td>-0.574631</td>\n",
              "    </tr>\n",
              "    <tr>\n",
              "      <th>2</th>\n",
              "      <td>2</td>\n",
              "      <td>2304 Clark Road</td>\n",
              "      <td>152</td>\n",
              "      <td>3</td>\n",
              "      <td>1.0</td>\n",
              "      <td>800</td>\n",
              "      <td>273950</td>\n",
              "      <td>-0.421288</td>\n",
              "    </tr>\n",
              "    <tr>\n",
              "      <th>3</th>\n",
              "      <td>3</td>\n",
              "      <td>755 Brawley Avenue</td>\n",
              "      <td>48</td>\n",
              "      <td>3</td>\n",
              "      <td>1.0</td>\n",
              "      <td>1082</td>\n",
              "      <td>350000</td>\n",
              "      <td>-0.731896</td>\n",
              "    </tr>\n",
              "    <tr>\n",
              "      <th>4</th>\n",
              "      <td>4</td>\n",
              "      <td>2207 R Carrillo Court</td>\n",
              "      <td>55</td>\n",
              "      <td>4</td>\n",
              "      <td>3.0</td>\n",
              "      <td>2547</td>\n",
              "      <td>385100</td>\n",
              "      <td>-0.621437</td>\n",
              "    </tr>\n",
              "    <tr>\n",
              "      <th>...</th>\n",
              "      <td>...</td>\n",
              "      <td>...</td>\n",
              "      <td>...</td>\n",
              "      <td>...</td>\n",
              "      <td>...</td>\n",
              "      <td>...</td>\n",
              "      <td>...</td>\n",
              "      <td>...</td>\n",
              "    </tr>\n",
              "    <tr>\n",
              "      <th>15469</th>\n",
              "      <td>15469</td>\n",
              "      <td>4156 Sterlingview Drive</td>\n",
              "      <td>227</td>\n",
              "      <td>5</td>\n",
              "      <td>4.1</td>\n",
              "      <td>4092</td>\n",
              "      <td>949000</td>\n",
              "      <td>-0.312242</td>\n",
              "    </tr>\n",
              "    <tr>\n",
              "      <th>15470</th>\n",
              "      <td>15470</td>\n",
              "      <td>4355 Avenida Prado</td>\n",
              "      <td>372</td>\n",
              "      <td>5</td>\n",
              "      <td>3.0</td>\n",
              "      <td>2773</td>\n",
              "      <td>949900</td>\n",
              "      <td>-0.372756</td>\n",
              "    </tr>\n",
              "    <tr>\n",
              "      <th>15471</th>\n",
              "      <td>15471</td>\n",
              "      <td>12717 Koenigstein Rd Road</td>\n",
              "      <td>338</td>\n",
              "      <td>3</td>\n",
              "      <td>2.0</td>\n",
              "      <td>1576</td>\n",
              "      <td>920000</td>\n",
              "      <td>0.287374</td>\n",
              "    </tr>\n",
              "    <tr>\n",
              "      <th>15472</th>\n",
              "      <td>15472</td>\n",
              "      <td>36 Kunkle Street</td>\n",
              "      <td>253</td>\n",
              "      <td>4</td>\n",
              "      <td>2.0</td>\n",
              "      <td>2086</td>\n",
              "      <td>997000</td>\n",
              "      <td>0.775862</td>\n",
              "    </tr>\n",
              "    <tr>\n",
              "      <th>15473</th>\n",
              "      <td>15473</td>\n",
              "      <td>4562 Eastbourne Bay</td>\n",
              "      <td>261</td>\n",
              "      <td>2</td>\n",
              "      <td>2.0</td>\n",
              "      <td>1216</td>\n",
              "      <td>975000</td>\n",
              "      <td>-0.546601</td>\n",
              "    </tr>\n",
              "  </tbody>\n",
              "</table>\n",
              "<p>15474 rows × 8 columns</p>\n",
              "</div>\n",
              "      <button class=\"colab-df-convert\" onclick=\"convertToInteractive('df-0f8aa32b-a443-4aeb-8b23-c07116c214fe')\"\n",
              "              title=\"Convert this dataframe to an interactive table.\"\n",
              "              style=\"display:none;\">\n",
              "\n",
              "  <svg xmlns=\"http://www.w3.org/2000/svg\" height=\"24px\"viewBox=\"0 0 24 24\"\n",
              "       width=\"24px\">\n",
              "    <path d=\"M0 0h24v24H0V0z\" fill=\"none\"/>\n",
              "    <path d=\"M18.56 5.44l.94 2.06.94-2.06 2.06-.94-2.06-.94-.94-2.06-.94 2.06-2.06.94zm-11 1L8.5 8.5l.94-2.06 2.06-.94-2.06-.94L8.5 2.5l-.94 2.06-2.06.94zm10 10l.94 2.06.94-2.06 2.06-.94-2.06-.94-.94-2.06-.94 2.06-2.06.94z\"/><path d=\"M17.41 7.96l-1.37-1.37c-.4-.4-.92-.59-1.43-.59-.52 0-1.04.2-1.43.59L10.3 9.45l-7.72 7.72c-.78.78-.78 2.05 0 2.83L4 21.41c.39.39.9.59 1.41.59.51 0 1.02-.2 1.41-.59l7.78-7.78 2.81-2.81c.8-.78.8-2.07 0-2.86zM5.41 20L4 18.59l7.72-7.72 1.47 1.35L5.41 20z\"/>\n",
              "  </svg>\n",
              "      </button>\n",
              "\n",
              "\n",
              "\n",
              "    <div id=\"df-00103f63-3400-4539-a2e4-dadea20a0202\">\n",
              "      <button class=\"colab-df-quickchart\" onclick=\"quickchart('df-00103f63-3400-4539-a2e4-dadea20a0202')\"\n",
              "              title=\"Suggest charts.\"\n",
              "              style=\"display:none;\">\n",
              "\n",
              "<svg xmlns=\"http://www.w3.org/2000/svg\" height=\"24px\"viewBox=\"0 0 24 24\"\n",
              "     width=\"24px\">\n",
              "    <g>\n",
              "        <path d=\"M19 3H5c-1.1 0-2 .9-2 2v14c0 1.1.9 2 2 2h14c1.1 0 2-.9 2-2V5c0-1.1-.9-2-2-2zM9 17H7v-7h2v7zm4 0h-2V7h2v10zm4 0h-2v-4h2v4z\"/>\n",
              "    </g>\n",
              "</svg>\n",
              "      </button>\n",
              "    </div>\n",
              "\n",
              "<style>\n",
              "  .colab-df-quickchart {\n",
              "    background-color: #E8F0FE;\n",
              "    border: none;\n",
              "    border-radius: 50%;\n",
              "    cursor: pointer;\n",
              "    display: none;\n",
              "    fill: #1967D2;\n",
              "    height: 32px;\n",
              "    padding: 0 0 0 0;\n",
              "    width: 32px;\n",
              "  }\n",
              "\n",
              "  .colab-df-quickchart:hover {\n",
              "    background-color: #E2EBFA;\n",
              "    box-shadow: 0px 1px 2px rgba(60, 64, 67, 0.3), 0px 1px 3px 1px rgba(60, 64, 67, 0.15);\n",
              "    fill: #174EA6;\n",
              "  }\n",
              "\n",
              "  [theme=dark] .colab-df-quickchart {\n",
              "    background-color: #3B4455;\n",
              "    fill: #D2E3FC;\n",
              "  }\n",
              "\n",
              "  [theme=dark] .colab-df-quickchart:hover {\n",
              "    background-color: #434B5C;\n",
              "    box-shadow: 0px 1px 3px 1px rgba(0, 0, 0, 0.15);\n",
              "    filter: drop-shadow(0px 1px 2px rgba(0, 0, 0, 0.3));\n",
              "    fill: #FFFFFF;\n",
              "  }\n",
              "</style>\n",
              "\n",
              "    <script>\n",
              "      async function quickchart(key) {\n",
              "        const containerElement = document.querySelector('#' + key);\n",
              "        const charts = await google.colab.kernel.invokeFunction(\n",
              "            'suggestCharts', [key], {});\n",
              "      }\n",
              "    </script>\n",
              "\n",
              "      <script>\n",
              "\n",
              "function displayQuickchartButton(domScope) {\n",
              "  let quickchartButtonEl =\n",
              "    domScope.querySelector('#df-00103f63-3400-4539-a2e4-dadea20a0202 button.colab-df-quickchart');\n",
              "  quickchartButtonEl.style.display =\n",
              "    google.colab.kernel.accessAllowed ? 'block' : 'none';\n",
              "}\n",
              "\n",
              "        displayQuickchartButton(document);\n",
              "      </script>\n",
              "      <style>\n",
              "    .colab-df-container {\n",
              "      display:flex;\n",
              "      flex-wrap:wrap;\n",
              "      gap: 12px;\n",
              "    }\n",
              "\n",
              "    .colab-df-convert {\n",
              "      background-color: #E8F0FE;\n",
              "      border: none;\n",
              "      border-radius: 50%;\n",
              "      cursor: pointer;\n",
              "      display: none;\n",
              "      fill: #1967D2;\n",
              "      height: 32px;\n",
              "      padding: 0 0 0 0;\n",
              "      width: 32px;\n",
              "    }\n",
              "\n",
              "    .colab-df-convert:hover {\n",
              "      background-color: #E2EBFA;\n",
              "      box-shadow: 0px 1px 2px rgba(60, 64, 67, 0.3), 0px 1px 3px 1px rgba(60, 64, 67, 0.15);\n",
              "      fill: #174EA6;\n",
              "    }\n",
              "\n",
              "    [theme=dark] .colab-df-convert {\n",
              "      background-color: #3B4455;\n",
              "      fill: #D2E3FC;\n",
              "    }\n",
              "\n",
              "    [theme=dark] .colab-df-convert:hover {\n",
              "      background-color: #434B5C;\n",
              "      box-shadow: 0px 1px 3px 1px rgba(0, 0, 0, 0.15);\n",
              "      filter: drop-shadow(0px 1px 2px rgba(0, 0, 0, 0.3));\n",
              "      fill: #FFFFFF;\n",
              "    }\n",
              "  </style>\n",
              "\n",
              "      <script>\n",
              "        const buttonEl =\n",
              "          document.querySelector('#df-0f8aa32b-a443-4aeb-8b23-c07116c214fe button.colab-df-convert');\n",
              "        buttonEl.style.display =\n",
              "          google.colab.kernel.accessAllowed ? 'block' : 'none';\n",
              "\n",
              "        async function convertToInteractive(key) {\n",
              "          const element = document.querySelector('#df-0f8aa32b-a443-4aeb-8b23-c07116c214fe');\n",
              "          const dataTable =\n",
              "            await google.colab.kernel.invokeFunction('convertToInteractive',\n",
              "                                                     [key], {});\n",
              "          if (!dataTable) return;\n",
              "\n",
              "          const docLinkHtml = 'Like what you see? Visit the ' +\n",
              "            '<a target=\"_blank\" href=https://colab.research.google.com/notebooks/data_table.ipynb>data table notebook</a>'\n",
              "            + ' to learn more about interactive tables.';\n",
              "          element.innerHTML = '';\n",
              "          dataTable['output_type'] = 'display_data';\n",
              "          await google.colab.output.renderOutput(dataTable, element);\n",
              "          const docLink = document.createElement('div');\n",
              "          docLink.innerHTML = docLinkHtml;\n",
              "          element.appendChild(docLink);\n",
              "        }\n",
              "      </script>\n",
              "    </div>\n",
              "  </div>\n"
            ],
            "text/plain": [
              "       image_id                     street  n_citi  bed  bath  sqft   price  \\\n",
              "0             0      1317 Van Buren Avenue     317    3   2.0  1560  201900   \n",
              "1             1             124 C Street W      48    3   2.0   713  228500   \n",
              "2             2            2304 Clark Road     152    3   1.0   800  273950   \n",
              "3             3         755 Brawley Avenue      48    3   1.0  1082  350000   \n",
              "4             4      2207 R Carrillo Court      55    4   3.0  2547  385100   \n",
              "...         ...                        ...     ...  ...   ...   ...     ...   \n",
              "15469     15469    4156 Sterlingview Drive     227    5   4.1  4092  949000   \n",
              "15470     15470         4355 Avenida Prado     372    5   3.0  2773  949900   \n",
              "15471     15471  12717 Koenigstein Rd Road     338    3   2.0  1576  920000   \n",
              "15472     15472           36 Kunkle Street     253    4   2.0  2086  997000   \n",
              "15473     15473        4562 Eastbourne Bay     261    2   2.0  1216  975000   \n",
              "\n",
              "       predicted_std_from_mean  \n",
              "0                    -1.472661  \n",
              "1                    -0.574631  \n",
              "2                    -0.421288  \n",
              "3                    -0.731896  \n",
              "4                    -0.621437  \n",
              "...                        ...  \n",
              "15469                -0.312242  \n",
              "15470                -0.372756  \n",
              "15471                 0.287374  \n",
              "15472                 0.775862  \n",
              "15473                -0.546601  \n",
              "\n",
              "[15474 rows x 8 columns]"
            ]
          },
          "execution_count": 11,
          "metadata": {},
          "output_type": "execute_result"
        }
      ],
      "source": [
        "df"
      ]
    },
    {
      "cell_type": "code",
      "execution_count": null,
      "metadata": {
        "colab": {
          "base_uri": "https://localhost:8080/",
          "height": 674
        },
        "id": "q7AvEE9VPgT_",
        "outputId": "e9020f8b-8927-4bcf-cb90-203fd84b5b58"
      },
      "outputs": [
        {
          "name": "stderr",
          "output_type": "stream",
          "text": [
            "<ipython-input-12-8f51bcbe91d9>:1: FutureWarning: The default value of numeric_only in DataFrame.corr is deprecated. In a future version, it will default to False. Select only valid columns or specify the value of numeric_only to silence this warning.\n",
            "  sns.heatmap(data=df.corr(),annot = True) #heatmap to find correlation between features and target\n"
          ]
        },
        {
          "data": {
            "text/plain": [
              "<Axes: >"
            ]
          },
          "execution_count": 12,
          "metadata": {},
          "output_type": "execute_result"
        },
        {
          "data": {
            "image/png": "[encoded data removed]",
            "text/plain": [
              "<Figure size 640x480 with 2 Axes>"
            ]
          },
          "metadata": {},
          "output_type": "display_data"
        }
      ],
      "source": [
        "sns.heatmap(data=df.corr(),annot = True) #heatmap to find correlation between features and target"
      ]
    },
    {
      "cell_type": "code",
      "execution_count": null,
      "metadata": {
        "colab": {
          "base_uri": "https://localhost:8080/",
          "height": 490
        },
        "id": "cVorDot_PgWe",
        "outputId": "d7753339-d7f3-4947-a0a4-96a7037eae2e"
      },
      "outputs": [
        {
          "name": "stderr",
          "output_type": "stream",
          "text": [
            "<ipython-input-13-49f9e2fb7e7c>:1: FutureWarning: The default value of numeric_only in DataFrame.corr is deprecated. In a future version, it will default to False. Select only valid columns or specify the value of numeric_only to silence this warning.\n",
            "  corrmat = df.corr()\n"
          ]
        },
        {
          "data": {
            "image/png": "[encoded data removed]",
            "text/plain": [
              "<Figure size 640x480 with 2 Axes>"
            ]
          },
          "metadata": {},
          "output_type": "display_data"
        }
      ],
      "source": [
        "corrmat = df.corr()\n",
        "k = 4 #number of variables for heatmap\n",
        "cols = corrmat.nlargest(k, 'price')['price'].index #selects k variables with highest corr with price and returns the index labels of the variables\n",
        "cm = np.corrcoef(df[cols].values.T) #gets correlation coefficients of the variables (.values.T turns df[cols] into a transposed array which is the input for np.corrcoef)\n",
        "sns.heatmap(cm, annot=True, fmt='.2f', annot_kws={'size': 10}, yticklabels=cols.values, xticklabels=cols.values) #heatmap\n",
        "plt.show()"
      ]
    },
    {
      "cell_type": "code",
      "execution_count": null,
      "metadata": {
        "colab": {
          "base_uri": "https://localhost:8080/",
          "height": 175
        },
        "id": "kNBPC74ZPgaq",
        "outputId": "1b61dabc-2c97-4cfb-d1ea-864cfeec6896"
      },
      "outputs": [
        {
          "data": {
            "text/html": [
              "\n",
              "\n",
              "  <div id=\"df-f1e5891a-46f1-47cf-8576-f896264c7aca\">\n",
              "    <div class=\"colab-df-container\">\n",
              "      <div>\n",
              "<style scoped>\n",
              "    .dataframe tbody tr th:only-of-type {\n",
              "        vertical-align: middle;\n",
              "    }\n",
              "\n",
              "    .dataframe tbody tr th {\n",
              "        vertical-align: top;\n",
              "    }\n",
              "\n",
              "    .dataframe thead th {\n",
              "        text-align: right;\n",
              "    }\n",
              "</style>\n",
              "<table border=\"1\" class=\"dataframe\">\n",
              "  <thead>\n",
              "    <tr style=\"text-align: right;\">\n",
              "      <th></th>\n",
              "      <th>Most Correlated Features</th>\n",
              "    </tr>\n",
              "  </thead>\n",
              "  <tbody>\n",
              "    <tr>\n",
              "      <th>0</th>\n",
              "      <td>price</td>\n",
              "    </tr>\n",
              "    <tr>\n",
              "      <th>1</th>\n",
              "      <td>sqft</td>\n",
              "    </tr>\n",
              "    <tr>\n",
              "      <th>2</th>\n",
              "      <td>bath</td>\n",
              "    </tr>\n",
              "    <tr>\n",
              "      <th>3</th>\n",
              "      <td>bed</td>\n",
              "    </tr>\n",
              "  </tbody>\n",
              "</table>\n",
              "</div>\n",
              "      <button class=\"colab-df-convert\" onclick=\"convertToInteractive('df-f1e5891a-46f1-47cf-8576-f896264c7aca')\"\n",
              "              title=\"Convert this dataframe to an interactive table.\"\n",
              "              style=\"display:none;\">\n",
              "\n",
              "  <svg xmlns=\"http://www.w3.org/2000/svg\" height=\"24px\"viewBox=\"0 0 24 24\"\n",
              "       width=\"24px\">\n",
              "    <path d=\"M0 0h24v24H0V0z\" fill=\"none\"/>\n",
              "    <path d=\"M18.56 5.44l.94 2.06.94-2.06 2.06-.94-2.06-.94-.94-2.06-.94 2.06-2.06.94zm-11 1L8.5 8.5l.94-2.06 2.06-.94-2.06-.94L8.5 2.5l-.94 2.06-2.06.94zm10 10l.94 2.06.94-2.06 2.06-.94-2.06-.94-.94-2.06-.94 2.06-2.06.94z\"/><path d=\"M17.41 7.96l-1.37-1.37c-.4-.4-.92-.59-1.43-.59-.52 0-1.04.2-1.43.59L10.3 9.45l-7.72 7.72c-.78.78-.78 2.05 0 2.83L4 21.41c.39.39.9.59 1.41.59.51 0 1.02-.2 1.41-.59l7.78-7.78 2.81-2.81c.8-.78.8-2.07 0-2.86zM5.41 20L4 18.59l7.72-7.72 1.47 1.35L5.41 20z\"/>\n",
              "  </svg>\n",
              "      </button>\n",
              "\n",
              "\n",
              "\n",
              "    <div id=\"df-3687807a-306a-431b-a0f3-229774af9bb1\">\n",
              "      <button class=\"colab-df-quickchart\" onclick=\"quickchart('df-3687807a-306a-431b-a0f3-229774af9bb1')\"\n",
              "              title=\"Suggest charts.\"\n",
              "              style=\"display:none;\">\n",
              "\n",
              "<svg xmlns=\"http://www.w3.org/2000/svg\" height=\"24px\"viewBox=\"0 0 24 24\"\n",
              "     width=\"24px\">\n",
              "    <g>\n",
              "        <path d=\"M19 3H5c-1.1 0-2 .9-2 2v14c0 1.1.9 2 2 2h14c1.1 0 2-.9 2-2V5c0-1.1-.9-2-2-2zM9 17H7v-7h2v7zm4 0h-2V7h2v10zm4 0h-2v-4h2v4z\"/>\n",
              "    </g>\n",
              "</svg>\n",
              "      </button>\n",
              "    </div>\n",
              "\n",
              "<style>\n",
              "  .colab-df-quickchart {\n",
              "    background-color: #E8F0FE;\n",
              "    border: none;\n",
              "    border-radius: 50%;\n",
              "    cursor: pointer;\n",
              "    display: none;\n",
              "    fill: #1967D2;\n",
              "    height: 32px;\n",
              "    padding: 0 0 0 0;\n",
              "    width: 32px;\n",
              "  }\n",
              "\n",
              "  .colab-df-quickchart:hover {\n",
              "    background-color: #E2EBFA;\n",
              "    box-shadow: 0px 1px 2px rgba(60, 64, 67, 0.3), 0px 1px 3px 1px rgba(60, 64, 67, 0.15);\n",
              "    fill: #174EA6;\n",
              "  }\n",
              "\n",
              "  [theme=dark] .colab-df-quickchart {\n",
              "    background-color: #3B4455;\n",
              "    fill: #D2E3FC;\n",
              "  }\n",
              "\n",
              "  [theme=dark] .colab-df-quickchart:hover {\n",
              "    background-color: #434B5C;\n",
              "    box-shadow: 0px 1px 3px 1px rgba(0, 0, 0, 0.15);\n",
              "    filter: drop-shadow(0px 1px 2px rgba(0, 0, 0, 0.3));\n",
              "    fill: #FFFFFF;\n",
              "  }\n",
              "</style>\n",
              "\n",
              "    <script>\n",
              "      async function quickchart(key) {\n",
              "        const containerElement = document.querySelector('#' + key);\n",
              "        const charts = await google.colab.kernel.invokeFunction(\n",
              "            'suggestCharts', [key], {});\n",
              "      }\n",
              "    </script>\n",
              "\n",
              "      <script>\n",
              "\n",
              "function displayQuickchartButton(domScope) {\n",
              "  let quickchartButtonEl =\n",
              "    domScope.querySelector('#df-3687807a-306a-431b-a0f3-229774af9bb1 button.colab-df-quickchart');\n",
              "  quickchartButtonEl.style.display =\n",
              "    google.colab.kernel.accessAllowed ? 'block' : 'none';\n",
              "}\n",
              "\n",
              "        displayQuickchartButton(document);\n",
              "      </script>\n",
              "      <style>\n",
              "    .colab-df-container {\n",
              "      display:flex;\n",
              "      flex-wrap:wrap;\n",
              "      gap: 12px;\n",
              "    }\n",
              "\n",
              "    .colab-df-convert {\n",
              "      background-color: #E8F0FE;\n",
              "      border: none;\n",
              "      border-radius: 50%;\n",
              "      cursor: pointer;\n",
              "      display: none;\n",
              "      fill: #1967D2;\n",
              "      height: 32px;\n",
              "      padding: 0 0 0 0;\n",
              "      width: 32px;\n",
              "    }\n",
              "\n",
              "    .colab-df-convert:hover {\n",
              "      background-color: #E2EBFA;\n",
              "      box-shadow: 0px 1px 2px rgba(60, 64, 67, 0.3), 0px 1px 3px 1px rgba(60, 64, 67, 0.15);\n",
              "      fill: #174EA6;\n",
              "    }\n",
              "\n",
              "    [theme=dark] .colab-df-convert {\n",
              "      background-color: #3B4455;\n",
              "      fill: #D2E3FC;\n",
              "    }\n",
              "\n",
              "    [theme=dark] .colab-df-convert:hover {\n",
              "      background-color: #434B5C;\n",
              "      box-shadow: 0px 1px 3px 1px rgba(0, 0, 0, 0.15);\n",
              "      filter: drop-shadow(0px 1px 2px rgba(0, 0, 0, 0.3));\n",
              "      fill: #FFFFFF;\n",
              "    }\n",
              "  </style>\n",
              "\n",
              "      <script>\n",
              "        const buttonEl =\n",
              "          document.querySelector('#df-f1e5891a-46f1-47cf-8576-f896264c7aca button.colab-df-convert');\n",
              "        buttonEl.style.display =\n",
              "          google.colab.kernel.accessAllowed ? 'block' : 'none';\n",
              "\n",
              "        async function convertToInteractive(key) {\n",
              "          const element = document.querySelector('#df-f1e5891a-46f1-47cf-8576-f896264c7aca');\n",
              "          const dataTable =\n",
              "            await google.colab.kernel.invokeFunction('convertToInteractive',\n",
              "                                                     [key], {});\n",
              "          if (!dataTable) return;\n",
              "\n",
              "          const docLinkHtml = 'Like what you see? Visit the ' +\n",
              "            '<a target=\"_blank\" href=https://colab.research.google.com/notebooks/data_table.ipynb>data table notebook</a>'\n",
              "            + ' to learn more about interactive tables.';\n",
              "          element.innerHTML = '';\n",
              "          dataTable['output_type'] = 'display_data';\n",
              "          await google.colab.output.renderOutput(dataTable, element);\n",
              "          const docLink = document.createElement('div');\n",
              "          docLink.innerHTML = docLinkHtml;\n",
              "          element.appendChild(docLink);\n",
              "        }\n",
              "      </script>\n",
              "    </div>\n",
              "  </div>\n"
            ],
            "text/plain": [
              "  Most Correlated Features\n",
              "0                    price\n",
              "1                     sqft\n",
              "2                     bath\n",
              "3                      bed"
            ]
          },
          "execution_count": 14,
          "metadata": {},
          "output_type": "execute_result"
        }
      ],
      "source": [
        "most_corr = pd.DataFrame(cols)\n",
        "most_corr.columns = ['Most Correlated Features'] #show most correlated features with price\n",
        "most_corr"
      ]
    },
    {
      "cell_type": "code",
      "execution_count": null,
      "metadata": {
        "colab": {
          "base_uri": "https://localhost:8080/"
        },
        "id": "8FBcMJfyPgdT",
        "outputId": "03e92fa1-9ec2-4bab-cd94-5d4956be0165"
      },
      "outputs": [
        {
          "data": {
            "text/plain": [
              "image_id                   0\n",
              "street                     0\n",
              "n_citi                     0\n",
              "bed                        0\n",
              "bath                       0\n",
              "sqft                       0\n",
              "price                      0\n",
              "predicted_std_from_mean    0\n",
              "dtype: int64"
            ]
          },
          "execution_count": 15,
          "metadata": {},
          "output_type": "execute_result"
        }
      ],
      "source": [
        "df.isnull().sum() #check for missing values"
      ]
    },
    {
      "cell_type": "code",
      "execution_count": null,
      "metadata": {
        "id": "oL6xGF2CPggf"
      },
      "outputs": [],
      "source": [
        "# from sklearn.preprocessing import LabelEncoder #kinda useless cuz i end up dropping street anyway\n",
        "# le = LabelEncoder() #label encoder can be used to transform non numerical values into numerical values\n",
        "\n",
        "# transformcols = [\"street\"]\n",
        "# df.info()\n",
        "# for col in transformcols:\n",
        "#     df[col] = le.fit_transform(df[col]) #fit and transform data\n",
        "#     print(le.classes_)"
      ]
    },
    {
      "cell_type": "code",
      "execution_count": null,
      "metadata": {
        "colab": {
          "base_uri": "https://localhost:8080/",
          "height": 424
        },
        "id": "CadfAMmMPgie",
        "outputId": "0043b12a-b39c-4e92-a12d-594f06bb2ed3"
      },
      "outputs": [
        {
          "data": {
            "text/html": [
              "\n",
              "\n",
              "  <div id=\"df-3d3ac5c2-8d45-4b0b-bf82-3d7e9d5b1791\">\n",
              "    <div class=\"colab-df-container\">\n",
              "      <div>\n",
              "<style scoped>\n",
              "    .dataframe tbody tr th:only-of-type {\n",
              "        vertical-align: middle;\n",
              "    }\n",
              "\n",
              "    .dataframe tbody tr th {\n",
              "        vertical-align: top;\n",
              "    }\n",
              "\n",
              "    .dataframe thead th {\n",
              "        text-align: right;\n",
              "    }\n",
              "</style>\n",
              "<table border=\"1\" class=\"dataframe\">\n",
              "  <thead>\n",
              "    <tr style=\"text-align: right;\">\n",
              "      <th></th>\n",
              "      <th>image_id</th>\n",
              "      <th>street</th>\n",
              "      <th>n_citi</th>\n",
              "      <th>bed</th>\n",
              "      <th>bath</th>\n",
              "      <th>sqft</th>\n",
              "      <th>price</th>\n",
              "      <th>predicted_std_from_mean</th>\n",
              "    </tr>\n",
              "  </thead>\n",
              "  <tbody>\n",
              "    <tr>\n",
              "      <th>15023</th>\n",
              "      <td>15023</td>\n",
              "      <td>0 H Street</td>\n",
              "      <td>261</td>\n",
              "      <td>3</td>\n",
              "      <td>2.1</td>\n",
              "      <td>1653</td>\n",
              "      <td>575000</td>\n",
              "      <td>2.322474</td>\n",
              "    </tr>\n",
              "    <tr>\n",
              "      <th>18</th>\n",
              "      <td>18</td>\n",
              "      <td>0 Oak Creek rd</td>\n",
              "      <td>367</td>\n",
              "      <td>4</td>\n",
              "      <td>1.1</td>\n",
              "      <td>1980</td>\n",
              "      <td>1995000</td>\n",
              "      <td>-0.609120</td>\n",
              "    </tr>\n",
              "    <tr>\n",
              "      <th>11768</th>\n",
              "      <td>11768</td>\n",
              "      <td>0000 Roadrunner Ridge</td>\n",
              "      <td>384</td>\n",
              "      <td>2</td>\n",
              "      <td>1.0</td>\n",
              "      <td>1045</td>\n",
              "      <td>460000</td>\n",
              "      <td>-0.306655</td>\n",
              "    </tr>\n",
              "    <tr>\n",
              "      <th>3263</th>\n",
              "      <td>3263</td>\n",
              "      <td>1 Anapamu Street</td>\n",
              "      <td>177</td>\n",
              "      <td>4</td>\n",
              "      <td>4.1</td>\n",
              "      <td>3700</td>\n",
              "      <td>1595000</td>\n",
              "      <td>0.263639</td>\n",
              "    </tr>\n",
              "    <tr>\n",
              "      <th>3055</th>\n",
              "      <td>3055</td>\n",
              "      <td>1 Flintridge Avenue</td>\n",
              "      <td>177</td>\n",
              "      <td>6</td>\n",
              "      <td>4.0</td>\n",
              "      <td>3100</td>\n",
              "      <td>1075000</td>\n",
              "      <td>-0.951805</td>\n",
              "    </tr>\n",
              "    <tr>\n",
              "      <th>...</th>\n",
              "      <td>...</td>\n",
              "      <td>...</td>\n",
              "      <td>...</td>\n",
              "      <td>...</td>\n",
              "      <td>...</td>\n",
              "      <td>...</td>\n",
              "      <td>...</td>\n",
              "      <td>...</td>\n",
              "    </tr>\n",
              "    <tr>\n",
              "      <th>12567</th>\n",
              "      <td>12567</td>\n",
              "      <td>Address not provided</td>\n",
              "      <td>80</td>\n",
              "      <td>4</td>\n",
              "      <td>2.1</td>\n",
              "      <td>1937</td>\n",
              "      <td>678900</td>\n",
              "      <td>2.421290</td>\n",
              "    </tr>\n",
              "    <tr>\n",
              "      <th>14886</th>\n",
              "      <td>14886</td>\n",
              "      <td>Address not provided</td>\n",
              "      <td>261</td>\n",
              "      <td>3</td>\n",
              "      <td>2.0</td>\n",
              "      <td>1704</td>\n",
              "      <td>550000</td>\n",
              "      <td>-0.667458</td>\n",
              "    </tr>\n",
              "    <tr>\n",
              "      <th>11964</th>\n",
              "      <td>11964</td>\n",
              "      <td>Address not provided</td>\n",
              "      <td>356</td>\n",
              "      <td>3</td>\n",
              "      <td>2.0</td>\n",
              "      <td>1415</td>\n",
              "      <td>519999</td>\n",
              "      <td>-0.263721</td>\n",
              "    </tr>\n",
              "    <tr>\n",
              "      <th>5197</th>\n",
              "      <td>5197</td>\n",
              "      <td>Residence Club Cove</td>\n",
              "      <td>175</td>\n",
              "      <td>3</td>\n",
              "      <td>3.1</td>\n",
              "      <td>3567</td>\n",
              "      <td>1600000</td>\n",
              "      <td>0.045243</td>\n",
              "    </tr>\n",
              "    <tr>\n",
              "      <th>7711</th>\n",
              "      <td>7711</td>\n",
              "      <td>Vista Calico</td>\n",
              "      <td>175</td>\n",
              "      <td>3</td>\n",
              "      <td>3.0</td>\n",
              "      <td>2924</td>\n",
              "      <td>850000</td>\n",
              "      <td>-0.273356</td>\n",
              "    </tr>\n",
              "  </tbody>\n",
              "</table>\n",
              "<p>15474 rows × 8 columns</p>\n",
              "</div>\n",
              "      <button class=\"colab-df-convert\" onclick=\"convertToInteractive('df-3d3ac5c2-8d45-4b0b-bf82-3d7e9d5b1791')\"\n",
              "              title=\"Convert this dataframe to an interactive table.\"\n",
              "              style=\"display:none;\">\n",
              "\n",
              "  <svg xmlns=\"http://www.w3.org/2000/svg\" height=\"24px\"viewBox=\"0 0 24 24\"\n",
              "       width=\"24px\">\n",
              "    <path d=\"M0 0h24v24H0V0z\" fill=\"none\"/>\n",
              "    <path d=\"M18.56 5.44l.94 2.06.94-2.06 2.06-.94-2.06-.94-.94-2.06-.94 2.06-2.06.94zm-11 1L8.5 8.5l.94-2.06 2.06-.94-2.06-.94L8.5 2.5l-.94 2.06-2.06.94zm10 10l.94 2.06.94-2.06 2.06-.94-2.06-.94-.94-2.06-.94 2.06-2.06.94z\"/><path d=\"M17.41 7.96l-1.37-1.37c-.4-.4-.92-.59-1.43-.59-.52 0-1.04.2-1.43.59L10.3 9.45l-7.72 7.72c-.78.78-.78 2.05 0 2.83L4 21.41c.39.39.9.59 1.41.59.51 0 1.02-.2 1.41-.59l7.78-7.78 2.81-2.81c.8-.78.8-2.07 0-2.86zM5.41 20L4 18.59l7.72-7.72 1.47 1.35L5.41 20z\"/>\n",
              "  </svg>\n",
              "      </button>\n",
              "\n",
              "\n",
              "\n",
              "    <div id=\"df-f7052e3c-0633-4183-92df-e37232290c85\">\n",
              "      <button class=\"colab-df-quickchart\" onclick=\"quickchart('df-f7052e3c-0633-4183-92df-e37232290c85')\"\n",
              "              title=\"Suggest charts.\"\n",
              "              style=\"display:none;\">\n",
              "\n",
              "<svg xmlns=\"http://www.w3.org/2000/svg\" height=\"24px\"viewBox=\"0 0 24 24\"\n",
              "     width=\"24px\">\n",
              "    <g>\n",
              "        <path d=\"M19 3H5c-1.1 0-2 .9-2 2v14c0 1.1.9 2 2 2h14c1.1 0 2-.9 2-2V5c0-1.1-.9-2-2-2zM9 17H7v-7h2v7zm4 0h-2V7h2v10zm4 0h-2v-4h2v4z\"/>\n",
              "    </g>\n",
              "</svg>\n",
              "      </button>\n",
              "    </div>\n",
              "\n",
              "<style>\n",
              "  .colab-df-quickchart {\n",
              "    background-color: #E8F0FE;\n",
              "    border: none;\n",
              "    border-radius: 50%;\n",
              "    cursor: pointer;\n",
              "    display: none;\n",
              "    fill: #1967D2;\n",
              "    height: 32px;\n",
              "    padding: 0 0 0 0;\n",
              "    width: 32px;\n",
              "  }\n",
              "\n",
              "  .colab-df-quickchart:hover {\n",
              "    background-color: #E2EBFA;\n",
              "    box-shadow: 0px 1px 2px rgba(60, 64, 67, 0.3), 0px 1px 3px 1px rgba(60, 64, 67, 0.15);\n",
              "    fill: #174EA6;\n",
              "  }\n",
              "\n",
              "  [theme=dark] .colab-df-quickchart {\n",
              "    background-color: #3B4455;\n",
              "    fill: #D2E3FC;\n",
              "  }\n",
              "\n",
              "  [theme=dark] .colab-df-quickchart:hover {\n",
              "    background-color: #434B5C;\n",
              "    box-shadow: 0px 1px 3px 1px rgba(0, 0, 0, 0.15);\n",
              "    filter: drop-shadow(0px 1px 2px rgba(0, 0, 0, 0.3));\n",
              "    fill: #FFFFFF;\n",
              "  }\n",
              "</style>\n",
              "\n",
              "    <script>\n",
              "      async function quickchart(key) {\n",
              "        const containerElement = document.querySelector('#' + key);\n",
              "        const charts = await google.colab.kernel.invokeFunction(\n",
              "            'suggestCharts', [key], {});\n",
              "      }\n",
              "    </script>\n",
              "\n",
              "      <script>\n",
              "\n",
              "function displayQuickchartButton(domScope) {\n",
              "  let quickchartButtonEl =\n",
              "    domScope.querySelector('#df-f7052e3c-0633-4183-92df-e37232290c85 button.colab-df-quickchart');\n",
              "  quickchartButtonEl.style.display =\n",
              "    google.colab.kernel.accessAllowed ? 'block' : 'none';\n",
              "}\n",
              "\n",
              "        displayQuickchartButton(document);\n",
              "      </script>\n",
              "      <style>\n",
              "    .colab-df-container {\n",
              "      display:flex;\n",
              "      flex-wrap:wrap;\n",
              "      gap: 12px;\n",
              "    }\n",
              "\n",
              "    .colab-df-convert {\n",
              "      background-color: #E8F0FE;\n",
              "      border: none;\n",
              "      border-radius: 50%;\n",
              "      cursor: pointer;\n",
              "      display: none;\n",
              "      fill: #1967D2;\n",
              "      height: 32px;\n",
              "      padding: 0 0 0 0;\n",
              "      width: 32px;\n",
              "    }\n",
              "\n",
              "    .colab-df-convert:hover {\n",
              "      background-color: #E2EBFA;\n",
              "      box-shadow: 0px 1px 2px rgba(60, 64, 67, 0.3), 0px 1px 3px 1px rgba(60, 64, 67, 0.15);\n",
              "      fill: #174EA6;\n",
              "    }\n",
              "\n",
              "    [theme=dark] .colab-df-convert {\n",
              "      background-color: #3B4455;\n",
              "      fill: #D2E3FC;\n",
              "    }\n",
              "\n",
              "    [theme=dark] .colab-df-convert:hover {\n",
              "      background-color: #434B5C;\n",
              "      box-shadow: 0px 1px 3px 1px rgba(0, 0, 0, 0.15);\n",
              "      filter: drop-shadow(0px 1px 2px rgba(0, 0, 0, 0.3));\n",
              "      fill: #FFFFFF;\n",
              "    }\n",
              "  </style>\n",
              "\n",
              "      <script>\n",
              "        const buttonEl =\n",
              "          document.querySelector('#df-3d3ac5c2-8d45-4b0b-bf82-3d7e9d5b1791 button.colab-df-convert');\n",
              "        buttonEl.style.display =\n",
              "          google.colab.kernel.accessAllowed ? 'block' : 'none';\n",
              "\n",
              "        async function convertToInteractive(key) {\n",
              "          const element = document.querySelector('#df-3d3ac5c2-8d45-4b0b-bf82-3d7e9d5b1791');\n",
              "          const dataTable =\n",
              "            await google.colab.kernel.invokeFunction('convertToInteractive',\n",
              "                                                     [key], {});\n",
              "          if (!dataTable) return;\n",
              "\n",
              "          const docLinkHtml = 'Like what you see? Visit the ' +\n",
              "            '<a target=\"_blank\" href=https://colab.research.google.com/notebooks/data_table.ipynb>data table notebook</a>'\n",
              "            + ' to learn more about interactive tables.';\n",
              "          element.innerHTML = '';\n",
              "          dataTable['output_type'] = 'display_data';\n",
              "          await google.colab.output.renderOutput(dataTable, element);\n",
              "          const docLink = document.createElement('div');\n",
              "          docLink.innerHTML = docLinkHtml;\n",
              "          element.appendChild(docLink);\n",
              "        }\n",
              "      </script>\n",
              "    </div>\n",
              "  </div>\n"
            ],
            "text/plain": [
              "       image_id                 street  n_citi  bed  bath  sqft    price  \\\n",
              "15023     15023             0 H Street     261    3   2.1  1653   575000   \n",
              "18           18         0 Oak Creek rd     367    4   1.1  1980  1995000   \n",
              "11768     11768  0000 Roadrunner Ridge     384    2   1.0  1045   460000   \n",
              "3263       3263       1 Anapamu Street     177    4   4.1  3700  1595000   \n",
              "3055       3055    1 Flintridge Avenue     177    6   4.0  3100  1075000   \n",
              "...         ...                    ...     ...  ...   ...   ...      ...   \n",
              "12567     12567   Address not provided      80    4   2.1  1937   678900   \n",
              "14886     14886   Address not provided     261    3   2.0  1704   550000   \n",
              "11964     11964   Address not provided     356    3   2.0  1415   519999   \n",
              "5197       5197    Residence Club Cove     175    3   3.1  3567  1600000   \n",
              "7711       7711           Vista Calico     175    3   3.0  2924   850000   \n",
              "\n",
              "       predicted_std_from_mean  \n",
              "15023                 2.322474  \n",
              "18                   -0.609120  \n",
              "11768                -0.306655  \n",
              "3263                  0.263639  \n",
              "3055                 -0.951805  \n",
              "...                        ...  \n",
              "12567                 2.421290  \n",
              "14886                -0.667458  \n",
              "11964                -0.263721  \n",
              "5197                  0.045243  \n",
              "7711                 -0.273356  \n",
              "\n",
              "[15474 rows x 8 columns]"
            ]
          },
          "execution_count": 17,
          "metadata": {},
          "output_type": "execute_result"
        }
      ],
      "source": [
        "df.sort_values(by = \"street\")"
      ]
    },
    {
      "cell_type": "code",
      "execution_count": null,
      "metadata": {
        "id": "QK4Ts_SRPglJ"
      },
      "outputs": [],
      "source": [
        "#df[\"street\"].corr(df[\"price\"]) #street correlation with price"
      ]
    },
    {
      "cell_type": "code",
      "execution_count": null,
      "metadata": {
        "id": "v2ojtOB9Pgno"
      },
      "outputs": [],
      "source": [
        "df.drop(columns = \"street\",inplace=True) #drop street because doesn't seem to have high correlation with price anyway"
      ]
    },
    {
      "cell_type": "code",
      "execution_count": null,
      "metadata": {
        "colab": {
          "base_uri": "https://localhost:8080/"
        },
        "id": "sTc0AEdHR0_L",
        "outputId": "989aa27f-de88-4ca9-d278-d38a8ec1c592"
      },
      "outputs": [
        {
          "name": "stdout",
          "output_type": "stream",
          "text": [
            "703120.9375080781\n"
          ]
        }
      ],
      "source": [
        "mean_price = df[\"price\"].mean()\n",
        "print(mean_price)"
      ]
    },
    {
      "cell_type": "code",
      "execution_count": null,
      "metadata": {
        "id": "-mbtn-vtJ2gy"
      },
      "outputs": [],
      "source": [
        "std_price = df[\"price\"].std()\n",
        "\n",
        "#df[\"std_dev_from_mean\"] = (df[\"price\"] - mean_price) / std_price"
      ]
    },
    {
      "cell_type": "code",
      "execution_count": null,
      "metadata": {
        "colab": {
          "base_uri": "https://localhost:8080/"
        },
        "id": "XepK8Nc-KZ0Y",
        "outputId": "dd306248-908f-4dab-b1f3-32b77d3a3cee"
      },
      "outputs": [
        {
          "data": {
            "text/plain": [
              "703120.9375080781"
            ]
          },
          "execution_count": 22,
          "metadata": {},
          "output_type": "execute_result"
        }
      ],
      "source": [
        "mean_price"
      ]
    },
    {
      "cell_type": "code",
      "execution_count": null,
      "metadata": {
        "colab": {
          "base_uri": "https://localhost:8080/",
          "height": 424
        },
        "id": "uEyzefQXPgpz",
        "outputId": "b4e5ff5a-1519-437b-8bcd-c83deb0830b6"
      },
      "outputs": [
        {
          "data": {
            "text/html": [
              "\n",
              "\n",
              "  <div id=\"df-fa4d1c6d-bf6e-4244-869c-644aa86760bf\">\n",
              "    <div class=\"colab-df-container\">\n",
              "      <div>\n",
              "<style scoped>\n",
              "    .dataframe tbody tr th:only-of-type {\n",
              "        vertical-align: middle;\n",
              "    }\n",
              "\n",
              "    .dataframe tbody tr th {\n",
              "        vertical-align: top;\n",
              "    }\n",
              "\n",
              "    .dataframe thead th {\n",
              "        text-align: right;\n",
              "    }\n",
              "</style>\n",
              "<table border=\"1\" class=\"dataframe\">\n",
              "  <thead>\n",
              "    <tr style=\"text-align: right;\">\n",
              "      <th></th>\n",
              "      <th>image_id</th>\n",
              "      <th>n_citi</th>\n",
              "      <th>bed</th>\n",
              "      <th>bath</th>\n",
              "      <th>sqft</th>\n",
              "      <th>price</th>\n",
              "      <th>predicted_std_from_mean</th>\n",
              "    </tr>\n",
              "  </thead>\n",
              "  <tbody>\n",
              "    <tr>\n",
              "      <th>0</th>\n",
              "      <td>0</td>\n",
              "      <td>317</td>\n",
              "      <td>3</td>\n",
              "      <td>2.0</td>\n",
              "      <td>1560</td>\n",
              "      <td>201900</td>\n",
              "      <td>-1.472661</td>\n",
              "    </tr>\n",
              "    <tr>\n",
              "      <th>1</th>\n",
              "      <td>1</td>\n",
              "      <td>48</td>\n",
              "      <td>3</td>\n",
              "      <td>2.0</td>\n",
              "      <td>713</td>\n",
              "      <td>228500</td>\n",
              "      <td>-0.574631</td>\n",
              "    </tr>\n",
              "    <tr>\n",
              "      <th>2</th>\n",
              "      <td>2</td>\n",
              "      <td>152</td>\n",
              "      <td>3</td>\n",
              "      <td>1.0</td>\n",
              "      <td>800</td>\n",
              "      <td>273950</td>\n",
              "      <td>-0.421288</td>\n",
              "    </tr>\n",
              "    <tr>\n",
              "      <th>3</th>\n",
              "      <td>3</td>\n",
              "      <td>48</td>\n",
              "      <td>3</td>\n",
              "      <td>1.0</td>\n",
              "      <td>1082</td>\n",
              "      <td>350000</td>\n",
              "      <td>-0.731896</td>\n",
              "    </tr>\n",
              "    <tr>\n",
              "      <th>4</th>\n",
              "      <td>4</td>\n",
              "      <td>55</td>\n",
              "      <td>4</td>\n",
              "      <td>3.0</td>\n",
              "      <td>2547</td>\n",
              "      <td>385100</td>\n",
              "      <td>-0.621437</td>\n",
              "    </tr>\n",
              "    <tr>\n",
              "      <th>...</th>\n",
              "      <td>...</td>\n",
              "      <td>...</td>\n",
              "      <td>...</td>\n",
              "      <td>...</td>\n",
              "      <td>...</td>\n",
              "      <td>...</td>\n",
              "      <td>...</td>\n",
              "    </tr>\n",
              "    <tr>\n",
              "      <th>15469</th>\n",
              "      <td>15469</td>\n",
              "      <td>227</td>\n",
              "      <td>5</td>\n",
              "      <td>4.1</td>\n",
              "      <td>4092</td>\n",
              "      <td>949000</td>\n",
              "      <td>-0.312242</td>\n",
              "    </tr>\n",
              "    <tr>\n",
              "      <th>15470</th>\n",
              "      <td>15470</td>\n",
              "      <td>372</td>\n",
              "      <td>5</td>\n",
              "      <td>3.0</td>\n",
              "      <td>2773</td>\n",
              "      <td>949900</td>\n",
              "      <td>-0.372756</td>\n",
              "    </tr>\n",
              "    <tr>\n",
              "      <th>15471</th>\n",
              "      <td>15471</td>\n",
              "      <td>338</td>\n",
              "      <td>3</td>\n",
              "      <td>2.0</td>\n",
              "      <td>1576</td>\n",
              "      <td>920000</td>\n",
              "      <td>0.287374</td>\n",
              "    </tr>\n",
              "    <tr>\n",
              "      <th>15472</th>\n",
              "      <td>15472</td>\n",
              "      <td>253</td>\n",
              "      <td>4</td>\n",
              "      <td>2.0</td>\n",
              "      <td>2086</td>\n",
              "      <td>997000</td>\n",
              "      <td>0.775862</td>\n",
              "    </tr>\n",
              "    <tr>\n",
              "      <th>15473</th>\n",
              "      <td>15473</td>\n",
              "      <td>261</td>\n",
              "      <td>2</td>\n",
              "      <td>2.0</td>\n",
              "      <td>1216</td>\n",
              "      <td>975000</td>\n",
              "      <td>-0.546601</td>\n",
              "    </tr>\n",
              "  </tbody>\n",
              "</table>\n",
              "<p>15474 rows × 7 columns</p>\n",
              "</div>\n",
              "      <button class=\"colab-df-convert\" onclick=\"convertToInteractive('df-fa4d1c6d-bf6e-4244-869c-644aa86760bf')\"\n",
              "              title=\"Convert this dataframe to an interactive table.\"\n",
              "              style=\"display:none;\">\n",
              "\n",
              "  <svg xmlns=\"http://www.w3.org/2000/svg\" height=\"24px\"viewBox=\"0 0 24 24\"\n",
              "       width=\"24px\">\n",
              "    <path d=\"M0 0h24v24H0V0z\" fill=\"none\"/>\n",
              "    <path d=\"M18.56 5.44l.94 2.06.94-2.06 2.06-.94-2.06-.94-.94-2.06-.94 2.06-2.06.94zm-11 1L8.5 8.5l.94-2.06 2.06-.94-2.06-.94L8.5 2.5l-.94 2.06-2.06.94zm10 10l.94 2.06.94-2.06 2.06-.94-2.06-.94-.94-2.06-.94 2.06-2.06.94z\"/><path d=\"M17.41 7.96l-1.37-1.37c-.4-.4-.92-.59-1.43-.59-.52 0-1.04.2-1.43.59L10.3 9.45l-7.72 7.72c-.78.78-.78 2.05 0 2.83L4 21.41c.39.39.9.59 1.41.59.51 0 1.02-.2 1.41-.59l7.78-7.78 2.81-2.81c.8-.78.8-2.07 0-2.86zM5.41 20L4 18.59l7.72-7.72 1.47 1.35L5.41 20z\"/>\n",
              "  </svg>\n",
              "      </button>\n",
              "\n",
              "\n",
              "\n",
              "    <div id=\"df-d6795385-4a87-40c0-925d-81a376f3ab8b\">\n",
              "      <button class=\"colab-df-quickchart\" onclick=\"quickchart('df-d6795385-4a87-40c0-925d-81a376f3ab8b')\"\n",
              "              title=\"Suggest charts.\"\n",
              "              style=\"display:none;\">\n",
              "\n",
              "<svg xmlns=\"http://www.w3.org/2000/svg\" height=\"24px\"viewBox=\"0 0 24 24\"\n",
              "     width=\"24px\">\n",
              "    <g>\n",
              "        <path d=\"M19 3H5c-1.1 0-2 .9-2 2v14c0 1.1.9 2 2 2h14c1.1 0 2-.9 2-2V5c0-1.1-.9-2-2-2zM9 17H7v-7h2v7zm4 0h-2V7h2v10zm4 0h-2v-4h2v4z\"/>\n",
              "    </g>\n",
              "</svg>\n",
              "      </button>\n",
              "    </div>\n",
              "\n",
              "<style>\n",
              "  .colab-df-quickchart {\n",
              "    background-color: #E8F0FE;\n",
              "    border: none;\n",
              "    border-radius: 50%;\n",
              "    cursor: pointer;\n",
              "    display: none;\n",
              "    fill: #1967D2;\n",
              "    height: 32px;\n",
              "    padding: 0 0 0 0;\n",
              "    width: 32px;\n",
              "  }\n",
              "\n",
              "  .colab-df-quickchart:hover {\n",
              "    background-color: #E2EBFA;\n",
              "    box-shadow: 0px 1px 2px rgba(60, 64, 67, 0.3), 0px 1px 3px 1px rgba(60, 64, 67, 0.15);\n",
              "    fill: #174EA6;\n",
              "  }\n",
              "\n",
              "  [theme=dark] .colab-df-quickchart {\n",
              "    background-color: #3B4455;\n",
              "    fill: #D2E3FC;\n",
              "  }\n",
              "\n",
              "  [theme=dark] .colab-df-quickchart:hover {\n",
              "    background-color: #434B5C;\n",
              "    box-shadow: 0px 1px 3px 1px rgba(0, 0, 0, 0.15);\n",
              "    filter: drop-shadow(0px 1px 2px rgba(0, 0, 0, 0.3));\n",
              "    fill: #FFFFFF;\n",
              "  }\n",
              "</style>\n",
              "\n",
              "    <script>\n",
              "      async function quickchart(key) {\n",
              "        const containerElement = document.querySelector('#' + key);\n",
              "        const charts = await google.colab.kernel.invokeFunction(\n",
              "            'suggestCharts', [key], {});\n",
              "      }\n",
              "    </script>\n",
              "\n",
              "      <script>\n",
              "\n",
              "function displayQuickchartButton(domScope) {\n",
              "  let quickchartButtonEl =\n",
              "    domScope.querySelector('#df-d6795385-4a87-40c0-925d-81a376f3ab8b button.colab-df-quickchart');\n",
              "  quickchartButtonEl.style.display =\n",
              "    google.colab.kernel.accessAllowed ? 'block' : 'none';\n",
              "}\n",
              "\n",
              "        displayQuickchartButton(document);\n",
              "      </script>\n",
              "      <style>\n",
              "    .colab-df-container {\n",
              "      display:flex;\n",
              "      flex-wrap:wrap;\n",
              "      gap: 12px;\n",
              "    }\n",
              "\n",
              "    .colab-df-convert {\n",
              "      background-color: #E8F0FE;\n",
              "      border: none;\n",
              "      border-radius: 50%;\n",
              "      cursor: pointer;\n",
              "      display: none;\n",
              "      fill: #1967D2;\n",
              "      height: 32px;\n",
              "      padding: 0 0 0 0;\n",
              "      width: 32px;\n",
              "    }\n",
              "\n",
              "    .colab-df-convert:hover {\n",
              "      background-color: #E2EBFA;\n",
              "      box-shadow: 0px 1px 2px rgba(60, 64, 67, 0.3), 0px 1px 3px 1px rgba(60, 64, 67, 0.15);\n",
              "      fill: #174EA6;\n",
              "    }\n",
              "\n",
              "    [theme=dark] .colab-df-convert {\n",
              "      background-color: #3B4455;\n",
              "      fill: #D2E3FC;\n",
              "    }\n",
              "\n",
              "    [theme=dark] .colab-df-convert:hover {\n",
              "      background-color: #434B5C;\n",
              "      box-shadow: 0px 1px 3px 1px rgba(0, 0, 0, 0.15);\n",
              "      filter: drop-shadow(0px 1px 2px rgba(0, 0, 0, 0.3));\n",
              "      fill: #FFFFFF;\n",
              "    }\n",
              "  </style>\n",
              "\n",
              "      <script>\n",
              "        const buttonEl =\n",
              "          document.querySelector('#df-fa4d1c6d-bf6e-4244-869c-644aa86760bf button.colab-df-convert');\n",
              "        buttonEl.style.display =\n",
              "          google.colab.kernel.accessAllowed ? 'block' : 'none';\n",
              "\n",
              "        async function convertToInteractive(key) {\n",
              "          const element = document.querySelector('#df-fa4d1c6d-bf6e-4244-869c-644aa86760bf');\n",
              "          const dataTable =\n",
              "            await google.colab.kernel.invokeFunction('convertToInteractive',\n",
              "                                                     [key], {});\n",
              "          if (!dataTable) return;\n",
              "\n",
              "          const docLinkHtml = 'Like what you see? Visit the ' +\n",
              "            '<a target=\"_blank\" href=https://colab.research.google.com/notebooks/data_table.ipynb>data table notebook</a>'\n",
              "            + ' to learn more about interactive tables.';\n",
              "          element.innerHTML = '';\n",
              "          dataTable['output_type'] = 'display_data';\n",
              "          await google.colab.output.renderOutput(dataTable, element);\n",
              "          const docLink = document.createElement('div');\n",
              "          docLink.innerHTML = docLinkHtml;\n",
              "          element.appendChild(docLink);\n",
              "        }\n",
              "      </script>\n",
              "    </div>\n",
              "  </div>\n"
            ],
            "text/plain": [
              "       image_id  n_citi  bed  bath  sqft   price  predicted_std_from_mean\n",
              "0             0     317    3   2.0  1560  201900                -1.472661\n",
              "1             1      48    3   2.0   713  228500                -0.574631\n",
              "2             2     152    3   1.0   800  273950                -0.421288\n",
              "3             3      48    3   1.0  1082  350000                -0.731896\n",
              "4             4      55    4   3.0  2547  385100                -0.621437\n",
              "...         ...     ...  ...   ...   ...     ...                      ...\n",
              "15469     15469     227    5   4.1  4092  949000                -0.312242\n",
              "15470     15470     372    5   3.0  2773  949900                -0.372756\n",
              "15471     15471     338    3   2.0  1576  920000                 0.287374\n",
              "15472     15472     253    4   2.0  2086  997000                 0.775862\n",
              "15473     15473     261    2   2.0  1216  975000                -0.546601\n",
              "\n",
              "[15474 rows x 7 columns]"
            ]
          },
          "execution_count": 23,
          "metadata": {},
          "output_type": "execute_result"
        }
      ],
      "source": [
        "df"
      ]
    },
    {
      "cell_type": "code",
      "execution_count": null,
      "metadata": {
        "id": "bk-T7c5LxdxU"
      },
      "outputs": [],
      "source": [
        "\n"
      ]
    },
    {
      "cell_type": "code",
      "execution_count": null,
      "metadata": {
        "id": "3vRW_gssRoxU"
      },
      "outputs": [],
      "source": [
        "X = df.drop(columns = \"price\")\n",
        "y = df[\"price\"]"
      ]
    },
    {
      "cell_type": "code",
      "execution_count": null,
      "metadata": {
        "colab": {
          "base_uri": "https://localhost:8080/",
          "height": 656
        },
        "id": "7u-trY1jpQk_",
        "outputId": "00e3017a-b230-4123-a115-203423989723"
      },
      "outputs": [
        {
          "name": "stderr",
          "output_type": "stream",
          "text": [
            "<ipython-input-25-aa0b57ab91d2>:1: UserWarning: \n",
            "\n",
            "`distplot` is a deprecated function and will be removed in seaborn v0.14.0.\n",
            "\n",
            "Please adapt your code to use either `displot` (a figure-level function with\n",
            "similar flexibility) or `histplot` (an axes-level function for histograms).\n",
            "\n",
            "For a guide to updating your code to use the new functions, please see\n",
            "https://gist.github.com/mwaskom/de44147ed2974457ad6372750bbe5751\n",
            "\n",
            "  sns.distplot(y,fit=norm); #data without log transform applied (very skewed)\n"
          ]
        },
        {
          "data": {
            "image/png": "[encoded data removed]",
            "text/plain": [
              "<Figure size 640x480 with 1 Axes>"
            ]
          },
          "metadata": {},
          "output_type": "display_data"
        }
      ],
      "source": [
        "sns.distplot(y,fit=norm); #data without log transform applied (very skewed)"
      ]
    },
    {
      "cell_type": "code",
      "execution_count": null,
      "metadata": {
        "colab": {
          "base_uri": "https://localhost:8080/",
          "height": 640
        },
        "id": "Ypd77DGyRo3x",
        "outputId": "db62d830-7a74-46dc-aac5-c27071e9fe93"
      },
      "outputs": [
        {
          "name": "stderr",
          "output_type": "stream",
          "text": [
            "<ipython-input-26-c71c0625c818>:2: UserWarning: \n",
            "\n",
            "`distplot` is a deprecated function and will be removed in seaborn v0.14.0.\n",
            "\n",
            "Please adapt your code to use either `displot` (a figure-level function with\n",
            "similar flexibility) or `histplot` (an axes-level function for histograms).\n",
            "\n",
            "For a guide to updating your code to use the new functions, please see\n",
            "https://gist.github.com/mwaskom/de44147ed2974457ad6372750bbe5751\n",
            "\n",
            "  sns.distplot(y , fit=norm);\n"
          ]
        },
        {
          "data": {
            "image/png": "[encoded data removed]",
            "text/plain": [
              "<Figure size 640x480 with 1 Axes>"
            ]
          },
          "metadata": {},
          "output_type": "display_data"
        }
      ],
      "source": [
        "y = np.log1p(y) #takes natural log of y+1 basically just transforms skewed data\n",
        "sns.distplot(y , fit=norm);"
      ]
    },
    {
      "cell_type": "code",
      "execution_count": null,
      "metadata": {
        "colab": {
          "base_uri": "https://localhost:8080/",
          "height": 424
        },
        "id": "XjHDtYUDsnwm",
        "outputId": "ddb71ac9-e3c6-403b-e190-9875c74a1926"
      },
      "outputs": [
        {
          "data": {
            "text/html": [
              "\n",
              "\n",
              "  <div id=\"df-382c2040-2f45-4bfd-a848-3c914854f904\">\n",
              "    <div class=\"colab-df-container\">\n",
              "      <div>\n",
              "<style scoped>\n",
              "    .dataframe tbody tr th:only-of-type {\n",
              "        vertical-align: middle;\n",
              "    }\n",
              "\n",
              "    .dataframe tbody tr th {\n",
              "        vertical-align: top;\n",
              "    }\n",
              "\n",
              "    .dataframe thead th {\n",
              "        text-align: right;\n",
              "    }\n",
              "</style>\n",
              "<table border=\"1\" class=\"dataframe\">\n",
              "  <thead>\n",
              "    <tr style=\"text-align: right;\">\n",
              "      <th></th>\n",
              "      <th>image_id</th>\n",
              "      <th>n_citi</th>\n",
              "      <th>bed</th>\n",
              "      <th>bath</th>\n",
              "      <th>sqft</th>\n",
              "      <th>price</th>\n",
              "      <th>predicted_std_from_mean</th>\n",
              "    </tr>\n",
              "  </thead>\n",
              "  <tbody>\n",
              "    <tr>\n",
              "      <th>0</th>\n",
              "      <td>0</td>\n",
              "      <td>317</td>\n",
              "      <td>3</td>\n",
              "      <td>2.0</td>\n",
              "      <td>1560</td>\n",
              "      <td>201900</td>\n",
              "      <td>-1.472661</td>\n",
              "    </tr>\n",
              "    <tr>\n",
              "      <th>1</th>\n",
              "      <td>1</td>\n",
              "      <td>48</td>\n",
              "      <td>3</td>\n",
              "      <td>2.0</td>\n",
              "      <td>713</td>\n",
              "      <td>228500</td>\n",
              "      <td>-0.574631</td>\n",
              "    </tr>\n",
              "    <tr>\n",
              "      <th>2</th>\n",
              "      <td>2</td>\n",
              "      <td>152</td>\n",
              "      <td>3</td>\n",
              "      <td>1.0</td>\n",
              "      <td>800</td>\n",
              "      <td>273950</td>\n",
              "      <td>-0.421288</td>\n",
              "    </tr>\n",
              "    <tr>\n",
              "      <th>3</th>\n",
              "      <td>3</td>\n",
              "      <td>48</td>\n",
              "      <td>3</td>\n",
              "      <td>1.0</td>\n",
              "      <td>1082</td>\n",
              "      <td>350000</td>\n",
              "      <td>-0.731896</td>\n",
              "    </tr>\n",
              "    <tr>\n",
              "      <th>4</th>\n",
              "      <td>4</td>\n",
              "      <td>55</td>\n",
              "      <td>4</td>\n",
              "      <td>3.0</td>\n",
              "      <td>2547</td>\n",
              "      <td>385100</td>\n",
              "      <td>-0.621437</td>\n",
              "    </tr>\n",
              "    <tr>\n",
              "      <th>...</th>\n",
              "      <td>...</td>\n",
              "      <td>...</td>\n",
              "      <td>...</td>\n",
              "      <td>...</td>\n",
              "      <td>...</td>\n",
              "      <td>...</td>\n",
              "      <td>...</td>\n",
              "    </tr>\n",
              "    <tr>\n",
              "      <th>15469</th>\n",
              "      <td>15469</td>\n",
              "      <td>227</td>\n",
              "      <td>5</td>\n",
              "      <td>4.1</td>\n",
              "      <td>4092</td>\n",
              "      <td>949000</td>\n",
              "      <td>-0.312242</td>\n",
              "    </tr>\n",
              "    <tr>\n",
              "      <th>15470</th>\n",
              "      <td>15470</td>\n",
              "      <td>372</td>\n",
              "      <td>5</td>\n",
              "      <td>3.0</td>\n",
              "      <td>2773</td>\n",
              "      <td>949900</td>\n",
              "      <td>-0.372756</td>\n",
              "    </tr>\n",
              "    <tr>\n",
              "      <th>15471</th>\n",
              "      <td>15471</td>\n",
              "      <td>338</td>\n",
              "      <td>3</td>\n",
              "      <td>2.0</td>\n",
              "      <td>1576</td>\n",
              "      <td>920000</td>\n",
              "      <td>0.287374</td>\n",
              "    </tr>\n",
              "    <tr>\n",
              "      <th>15472</th>\n",
              "      <td>15472</td>\n",
              "      <td>253</td>\n",
              "      <td>4</td>\n",
              "      <td>2.0</td>\n",
              "      <td>2086</td>\n",
              "      <td>997000</td>\n",
              "      <td>0.775862</td>\n",
              "    </tr>\n",
              "    <tr>\n",
              "      <th>15473</th>\n",
              "      <td>15473</td>\n",
              "      <td>261</td>\n",
              "      <td>2</td>\n",
              "      <td>2.0</td>\n",
              "      <td>1216</td>\n",
              "      <td>975000</td>\n",
              "      <td>-0.546601</td>\n",
              "    </tr>\n",
              "  </tbody>\n",
              "</table>\n",
              "<p>15474 rows × 7 columns</p>\n",
              "</div>\n",
              "      <button class=\"colab-df-convert\" onclick=\"convertToInteractive('df-382c2040-2f45-4bfd-a848-3c914854f904')\"\n",
              "              title=\"Convert this dataframe to an interactive table.\"\n",
              "              style=\"display:none;\">\n",
              "\n",
              "  <svg xmlns=\"http://www.w3.org/2000/svg\" height=\"24px\"viewBox=\"0 0 24 24\"\n",
              "       width=\"24px\">\n",
              "    <path d=\"M0 0h24v24H0V0z\" fill=\"none\"/>\n",
              "    <path d=\"M18.56 5.44l.94 2.06.94-2.06 2.06-.94-2.06-.94-.94-2.06-.94 2.06-2.06.94zm-11 1L8.5 8.5l.94-2.06 2.06-.94-2.06-.94L8.5 2.5l-.94 2.06-2.06.94zm10 10l.94 2.06.94-2.06 2.06-.94-2.06-.94-.94-2.06-.94 2.06-2.06.94z\"/><path d=\"M17.41 7.96l-1.37-1.37c-.4-.4-.92-.59-1.43-.59-.52 0-1.04.2-1.43.59L10.3 9.45l-7.72 7.72c-.78.78-.78 2.05 0 2.83L4 21.41c.39.39.9.59 1.41.59.51 0 1.02-.2 1.41-.59l7.78-7.78 2.81-2.81c.8-.78.8-2.07 0-2.86zM5.41 20L4 18.59l7.72-7.72 1.47 1.35L5.41 20z\"/>\n",
              "  </svg>\n",
              "      </button>\n",
              "\n",
              "\n",
              "\n",
              "    <div id=\"df-ef7703d3-f5eb-4bbe-a136-5460b484cc81\">\n",
              "      <button class=\"colab-df-quickchart\" onclick=\"quickchart('df-ef7703d3-f5eb-4bbe-a136-5460b484cc81')\"\n",
              "              title=\"Suggest charts.\"\n",
              "              style=\"display:none;\">\n",
              "\n",
              "<svg xmlns=\"http://www.w3.org/2000/svg\" height=\"24px\"viewBox=\"0 0 24 24\"\n",
              "     width=\"24px\">\n",
              "    <g>\n",
              "        <path d=\"M19 3H5c-1.1 0-2 .9-2 2v14c0 1.1.9 2 2 2h14c1.1 0 2-.9 2-2V5c0-1.1-.9-2-2-2zM9 17H7v-7h2v7zm4 0h-2V7h2v10zm4 0h-2v-4h2v4z\"/>\n",
              "    </g>\n",
              "</svg>\n",
              "      </button>\n",
              "    </div>\n",
              "\n",
              "<style>\n",
              "  .colab-df-quickchart {\n",
              "    background-color: #E8F0FE;\n",
              "    border: none;\n",
              "    border-radius: 50%;\n",
              "    cursor: pointer;\n",
              "    display: none;\n",
              "    fill: #1967D2;\n",
              "    height: 32px;\n",
              "    padding: 0 0 0 0;\n",
              "    width: 32px;\n",
              "  }\n",
              "\n",
              "  .colab-df-quickchart:hover {\n",
              "    background-color: #E2EBFA;\n",
              "    box-shadow: 0px 1px 2px rgba(60, 64, 67, 0.3), 0px 1px 3px 1px rgba(60, 64, 67, 0.15);\n",
              "    fill: #174EA6;\n",
              "  }\n",
              "\n",
              "  [theme=dark] .colab-df-quickchart {\n",
              "    background-color: #3B4455;\n",
              "    fill: #D2E3FC;\n",
              "  }\n",
              "\n",
              "  [theme=dark] .colab-df-quickchart:hover {\n",
              "    background-color: #434B5C;\n",
              "    box-shadow: 0px 1px 3px 1px rgba(0, 0, 0, 0.15);\n",
              "    filter: drop-shadow(0px 1px 2px rgba(0, 0, 0, 0.3));\n",
              "    fill: #FFFFFF;\n",
              "  }\n",
              "</style>\n",
              "\n",
              "    <script>\n",
              "      async function quickchart(key) {\n",
              "        const containerElement = document.querySelector('#' + key);\n",
              "        const charts = await google.colab.kernel.invokeFunction(\n",
              "            'suggestCharts', [key], {});\n",
              "      }\n",
              "    </script>\n",
              "\n",
              "      <script>\n",
              "\n",
              "function displayQuickchartButton(domScope) {\n",
              "  let quickchartButtonEl =\n",
              "    domScope.querySelector('#df-ef7703d3-f5eb-4bbe-a136-5460b484cc81 button.colab-df-quickchart');\n",
              "  quickchartButtonEl.style.display =\n",
              "    google.colab.kernel.accessAllowed ? 'block' : 'none';\n",
              "}\n",
              "\n",
              "        displayQuickchartButton(document);\n",
              "      </script>\n",
              "      <style>\n",
              "    .colab-df-container {\n",
              "      display:flex;\n",
              "      flex-wrap:wrap;\n",
              "      gap: 12px;\n",
              "    }\n",
              "\n",
              "    .colab-df-convert {\n",
              "      background-color: #E8F0FE;\n",
              "      border: none;\n",
              "      border-radius: 50%;\n",
              "      cursor: pointer;\n",
              "      display: none;\n",
              "      fill: #1967D2;\n",
              "      height: 32px;\n",
              "      padding: 0 0 0 0;\n",
              "      width: 32px;\n",
              "    }\n",
              "\n",
              "    .colab-df-convert:hover {\n",
              "      background-color: #E2EBFA;\n",
              "      box-shadow: 0px 1px 2px rgba(60, 64, 67, 0.3), 0px 1px 3px 1px rgba(60, 64, 67, 0.15);\n",
              "      fill: #174EA6;\n",
              "    }\n",
              "\n",
              "    [theme=dark] .colab-df-convert {\n",
              "      background-color: #3B4455;\n",
              "      fill: #D2E3FC;\n",
              "    }\n",
              "\n",
              "    [theme=dark] .colab-df-convert:hover {\n",
              "      background-color: #434B5C;\n",
              "      box-shadow: 0px 1px 3px 1px rgba(0, 0, 0, 0.15);\n",
              "      filter: drop-shadow(0px 1px 2px rgba(0, 0, 0, 0.3));\n",
              "      fill: #FFFFFF;\n",
              "    }\n",
              "  </style>\n",
              "\n",
              "      <script>\n",
              "        const buttonEl =\n",
              "          document.querySelector('#df-382c2040-2f45-4bfd-a848-3c914854f904 button.colab-df-convert');\n",
              "        buttonEl.style.display =\n",
              "          google.colab.kernel.accessAllowed ? 'block' : 'none';\n",
              "\n",
              "        async function convertToInteractive(key) {\n",
              "          const element = document.querySelector('#df-382c2040-2f45-4bfd-a848-3c914854f904');\n",
              "          const dataTable =\n",
              "            await google.colab.kernel.invokeFunction('convertToInteractive',\n",
              "                                                     [key], {});\n",
              "          if (!dataTable) return;\n",
              "\n",
              "          const docLinkHtml = 'Like what you see? Visit the ' +\n",
              "            '<a target=\"_blank\" href=https://colab.research.google.com/notebooks/data_table.ipynb>data table notebook</a>'\n",
              "            + ' to learn more about interactive tables.';\n",
              "          element.innerHTML = '';\n",
              "          dataTable['output_type'] = 'display_data';\n",
              "          await google.colab.output.renderOutput(dataTable, element);\n",
              "          const docLink = document.createElement('div');\n",
              "          docLink.innerHTML = docLinkHtml;\n",
              "          element.appendChild(docLink);\n",
              "        }\n",
              "      </script>\n",
              "    </div>\n",
              "  </div>\n"
            ],
            "text/plain": [
              "       image_id  n_citi  bed  bath  sqft   price  predicted_std_from_mean\n",
              "0             0     317    3   2.0  1560  201900                -1.472661\n",
              "1             1      48    3   2.0   713  228500                -0.574631\n",
              "2             2     152    3   1.0   800  273950                -0.421288\n",
              "3             3      48    3   1.0  1082  350000                -0.731896\n",
              "4             4      55    4   3.0  2547  385100                -0.621437\n",
              "...         ...     ...  ...   ...   ...     ...                      ...\n",
              "15469     15469     227    5   4.1  4092  949000                -0.312242\n",
              "15470     15470     372    5   3.0  2773  949900                -0.372756\n",
              "15471     15471     338    3   2.0  1576  920000                 0.287374\n",
              "15472     15472     253    4   2.0  2086  997000                 0.775862\n",
              "15473     15473     261    2   2.0  1216  975000                -0.546601\n",
              "\n",
              "[15474 rows x 7 columns]"
            ]
          },
          "execution_count": 27,
          "metadata": {},
          "output_type": "execute_result"
        }
      ],
      "source": [
        "df"
      ]
    },
    {
      "cell_type": "code",
      "execution_count": null,
      "metadata": {
        "id": "ZE85QuGbRo5_"
      },
      "outputs": [],
      "source": [
        "X_train, X_val, y_train, y_val = train_test_split(X, y, test_size=0.3)"
      ]
    },
    {
      "cell_type": "code",
      "execution_count": null,
      "metadata": {
        "id": "hnMhH609klp0"
      },
      "outputs": [],
      "source": [
        "X_val, X_test, y_val, y_test = train_test_split(X_val,y_val, test_size = 0.5)\n"
      ]
    },
    {
      "cell_type": "code",
      "execution_count": null,
      "metadata": {
        "colab": {
          "base_uri": "https://localhost:8080/"
        },
        "id": "BzNLYPMeuDPD",
        "outputId": "465aa0a9-0172-41b7-a82d-73e9df89d889"
      },
      "outputs": [
        {
          "data": {
            "text/plain": [
              "8321     12.429220\n",
              "11716    13.112315\n",
              "5559     12.464587\n",
              "6348     13.038984\n",
              "2747     13.697854\n",
              "           ...    \n",
              "5887     12.765406\n",
              "7264     13.422469\n",
              "9586     13.217675\n",
              "1170     12.807655\n",
              "4654     13.592367\n",
              "Name: price, Length: 2322, dtype: float64"
            ]
          },
          "execution_count": 30,
          "metadata": {},
          "output_type": "execute_result"
        }
      ],
      "source": [
        "y_test"
      ]
    },
    {
      "cell_type": "code",
      "execution_count": null,
      "metadata": {
        "colab": {
          "base_uri": "https://localhost:8080/"
        },
        "id": "LmJxChwRl1H5",
        "outputId": "db9af353-07a4-46c4-c94a-6d4e535ef118"
      },
      "outputs": [
        {
          "data": {
            "text/plain": [
              "10831"
            ]
          },
          "execution_count": 31,
          "metadata": {},
          "output_type": "execute_result"
        }
      ],
      "source": [
        "len(X_train)"
      ]
    },
    {
      "cell_type": "code",
      "execution_count": null,
      "metadata": {
        "colab": {
          "base_uri": "https://localhost:8080/"
        },
        "id": "QhiqzLkSmO6V",
        "outputId": "3a5f61ca-0f3f-4217-a511-8a78df7bad49"
      },
      "outputs": [
        {
          "data": {
            "text/plain": [
              "10831"
            ]
          },
          "execution_count": 32,
          "metadata": {},
          "output_type": "execute_result"
        }
      ],
      "source": [
        "len(y_train)"
      ]
    },
    {
      "cell_type": "code",
      "execution_count": null,
      "metadata": {
        "colab": {
          "base_uri": "https://localhost:8080/"
        },
        "id": "DVanL2ahmYuM",
        "outputId": "dabb2184-2580-4832-ed4d-21e9ee0677a7"
      },
      "outputs": [
        {
          "data": {
            "text/plain": [
              "2321"
            ]
          },
          "execution_count": 33,
          "metadata": {},
          "output_type": "execute_result"
        }
      ],
      "source": [
        "len(X_val)"
      ]
    },
    {
      "cell_type": "code",
      "execution_count": null,
      "metadata": {
        "colab": {
          "base_uri": "https://localhost:8080/"
        },
        "id": "Fls5621Rmame",
        "outputId": "4499e704-f584-4a14-8af7-aa18fb176522"
      },
      "outputs": [
        {
          "data": {
            "text/plain": [
              "2321"
            ]
          },
          "execution_count": 34,
          "metadata": {},
          "output_type": "execute_result"
        }
      ],
      "source": [
        "len(y_val)"
      ]
    },
    {
      "cell_type": "code",
      "execution_count": null,
      "metadata": {
        "colab": {
          "base_uri": "https://localhost:8080/"
        },
        "id": "xFJRCCKZmcO-",
        "outputId": "f1822c8f-b825-47f2-c135-8b9c6e75114c"
      },
      "outputs": [
        {
          "data": {
            "text/plain": [
              "2322"
            ]
          },
          "execution_count": 35,
          "metadata": {},
          "output_type": "execute_result"
        }
      ],
      "source": [
        "len(X_test)"
      ]
    },
    {
      "cell_type": "code",
      "execution_count": null,
      "metadata": {
        "colab": {
          "base_uri": "https://localhost:8080/"
        },
        "id": "avphaXP3meAW",
        "outputId": "9a5016ca-7b78-4904-e92f-4bf38b64f40a"
      },
      "outputs": [
        {
          "data": {
            "text/plain": [
              "2322"
            ]
          },
          "execution_count": 36,
          "metadata": {},
          "output_type": "execute_result"
        }
      ],
      "source": [
        "len(y_test)"
      ]
    },
    {
      "cell_type": "code",
      "execution_count": null,
      "metadata": {
        "colab": {
          "base_uri": "https://localhost:8080/"
        },
        "id": "c_-bR2_I09l8",
        "outputId": "e28cc756-a175-4611-c74d-cd1afee165d1"
      },
      "outputs": [
        {
          "data": {
            "text/plain": [
              "8321     12.429220\n",
              "11716    13.112315\n",
              "5559     12.464587\n",
              "6348     13.038984\n",
              "2747     13.697854\n",
              "           ...    \n",
              "5887     12.765406\n",
              "7264     13.422469\n",
              "9586     13.217675\n",
              "1170     12.807655\n",
              "4654     13.592367\n",
              "Name: price, Length: 2322, dtype: float64"
            ]
          },
          "execution_count": 37,
          "metadata": {},
          "output_type": "execute_result"
        }
      ],
      "source": [
        "y_test"
      ]
    },
    {
      "cell_type": "code",
      "execution_count": null,
      "metadata": {
        "id": "mL6xQ-ULuAnX"
      },
      "outputs": [],
      "source": []
    },
    {
      "cell_type": "code",
      "execution_count": null,
      "metadata": {
        "id": "0VGrUXyARo79"
      },
      "outputs": [],
      "source": [
        "scaler = StandardScaler()\n",
        "X_train = scaler.fit_transform(X_train)\n",
        "X_test = scaler.transform(X_test)\n"
      ]
    },
    {
      "cell_type": "code",
      "execution_count": null,
      "metadata": {
        "id": "LWR2rBr9t-SW"
      },
      "outputs": [],
      "source": []
    },
    {
      "cell_type": "code",
      "execution_count": null,
      "metadata": {
        "colab": {
          "base_uri": "https://localhost:8080/"
        },
        "id": "keixnt_iRo-T",
        "outputId": "40c06f93-af61-45a1-ad57-36ea03b9590f"
      },
      "outputs": [
        {
          "data": {
            "text/plain": [
              "array([[-1.46294857,  0.44866091, -0.49302484, -0.47273377, -0.56603403,\n",
              "        -0.66336384],\n",
              "       [ 0.5374317 ,  0.77709005,  1.45835541,  0.66736408,  1.08589735,\n",
              "         1.60074536],\n",
              "       [ 0.73832171,  0.91911346,  0.48266528, -0.36908851,  0.67993885,\n",
              "        -0.10142897],\n",
              "       ...,\n",
              "       [ 0.18946149,  0.90136053, -1.46871497, -1.50918636, -1.19095822,\n",
              "        -0.12338624],\n",
              "       [-0.74077587,  0.26225519,  0.48266528,  0.56371882,  0.14221338,\n",
              "         0.09532271],\n",
              "       [-0.79503411, -0.60763819, -0.49302484, -0.47273377, -0.86638519,\n",
              "         2.48838012]])"
            ]
          },
          "execution_count": 39,
          "metadata": {},
          "output_type": "execute_result"
        }
      ],
      "source": [
        "X_train"
      ]
    },
    {
      "cell_type": "code",
      "execution_count": null,
      "metadata": {
        "colab": {
          "base_uri": "https://localhost:8080/"
        },
        "id": "YyKBkaudRpAp",
        "outputId": "00fb2be4-8a08-4ec5-d1ea-90ebadaa0520"
      },
      "outputs": [
        {
          "data": {
            "text/plain": [
              "array([[ 0.12959806, -0.65202051, -0.49302484, -0.47273377, -0.84894545,\n",
              "        -0.42467172],\n",
              "       [ 0.89078289,  0.52854908, -0.49302484, -0.47273377, -0.50693267,\n",
              "        -0.29240291],\n",
              "       [-0.48966335, -1.02483196, -0.49302484, -0.47273377, -0.66001488,\n",
              "         2.5052989 ],\n",
              "       ...,\n",
              "       [ 0.41322068, -0.86505562,  2.43404554,  1.60017141,  1.45988299,\n",
              "        -0.2996385 ],\n",
              "       [-1.47371053, -0.20819736,  0.48266528,  0.56371882, -0.41585845,\n",
              "        -0.62385598],\n",
              "       [-0.69257123,  0.37764921, -0.49302484, -0.47273377, -0.3373796 ,\n",
              "        -0.59003341]])"
            ]
          },
          "execution_count": 40,
          "metadata": {},
          "output_type": "execute_result"
        }
      ],
      "source": [
        "X_test"
      ]
    },
    {
      "cell_type": "code",
      "execution_count": null,
      "metadata": {
        "colab": {
          "base_uri": "https://localhost:8080/",
          "height": 424
        },
        "id": "dWfMUz-alNgG",
        "outputId": "c8de3885-bd20-4846-9671-80c723c0b4d0"
      },
      "outputs": [
        {
          "data": {
            "text/html": [
              "\n",
              "\n",
              "  <div id=\"df-7f0e482c-5acf-47f2-a6d1-a395d794a118\">\n",
              "    <div class=\"colab-df-container\">\n",
              "      <div>\n",
              "<style scoped>\n",
              "    .dataframe tbody tr th:only-of-type {\n",
              "        vertical-align: middle;\n",
              "    }\n",
              "\n",
              "    .dataframe tbody tr th {\n",
              "        vertical-align: top;\n",
              "    }\n",
              "\n",
              "    .dataframe thead th {\n",
              "        text-align: right;\n",
              "    }\n",
              "</style>\n",
              "<table border=\"1\" class=\"dataframe\">\n",
              "  <thead>\n",
              "    <tr style=\"text-align: right;\">\n",
              "      <th></th>\n",
              "      <th>image_id</th>\n",
              "      <th>n_citi</th>\n",
              "      <th>bed</th>\n",
              "      <th>bath</th>\n",
              "      <th>sqft</th>\n",
              "      <th>predicted_std_from_mean</th>\n",
              "    </tr>\n",
              "  </thead>\n",
              "  <tbody>\n",
              "    <tr>\n",
              "      <th>13713</th>\n",
              "      <td>13713</td>\n",
              "      <td>21</td>\n",
              "      <td>3</td>\n",
              "      <td>3.0</td>\n",
              "      <td>1832</td>\n",
              "      <td>-0.513874</td>\n",
              "    </tr>\n",
              "    <tr>\n",
              "      <th>14714</th>\n",
              "      <td>14714</td>\n",
              "      <td>372</td>\n",
              "      <td>5</td>\n",
              "      <td>4.0</td>\n",
              "      <td>3789</td>\n",
              "      <td>2.945127</td>\n",
              "    </tr>\n",
              "    <tr>\n",
              "      <th>2149</th>\n",
              "      <td>2149</td>\n",
              "      <td>330</td>\n",
              "      <td>3</td>\n",
              "      <td>1.1</td>\n",
              "      <td>1208</td>\n",
              "      <td>0.373723</td>\n",
              "    </tr>\n",
              "    <tr>\n",
              "      <th>6156</th>\n",
              "      <td>6156</td>\n",
              "      <td>185</td>\n",
              "      <td>4</td>\n",
              "      <td>3.0</td>\n",
              "      <td>2595</td>\n",
              "      <td>0.950576</td>\n",
              "    </tr>\n",
              "    <tr>\n",
              "      <th>6778</th>\n",
              "      <td>6778</td>\n",
              "      <td>141</td>\n",
              "      <td>6</td>\n",
              "      <td>4.0</td>\n",
              "      <td>3610</td>\n",
              "      <td>1.413639</td>\n",
              "    </tr>\n",
              "    <tr>\n",
              "      <th>...</th>\n",
              "      <td>...</td>\n",
              "      <td>...</td>\n",
              "      <td>...</td>\n",
              "      <td>...</td>\n",
              "      <td>...</td>\n",
              "      <td>...</td>\n",
              "    </tr>\n",
              "    <tr>\n",
              "      <th>11187</th>\n",
              "      <td>11187</td>\n",
              "      <td>294</td>\n",
              "      <td>3</td>\n",
              "      <td>2.0</td>\n",
              "      <td>1920</td>\n",
              "      <td>1.610984</td>\n",
              "    </tr>\n",
              "    <tr>\n",
              "      <th>5259</th>\n",
              "      <td>5259</td>\n",
              "      <td>87</td>\n",
              "      <td>5</td>\n",
              "      <td>5.1</td>\n",
              "      <td>5955</td>\n",
              "      <td>0.518551</td>\n",
              "    </tr>\n",
              "    <tr>\n",
              "      <th>12322</th>\n",
              "      <td>12322</td>\n",
              "      <td>320</td>\n",
              "      <td>2</td>\n",
              "      <td>1.0</td>\n",
              "      <td>997</td>\n",
              "      <td>1.524582</td>\n",
              "    </tr>\n",
              "    <tr>\n",
              "      <th>5613</th>\n",
              "      <td>5613</td>\n",
              "      <td>154</td>\n",
              "      <td>2</td>\n",
              "      <td>2.0</td>\n",
              "      <td>1432</td>\n",
              "      <td>2.187195</td>\n",
              "    </tr>\n",
              "    <tr>\n",
              "      <th>9297</th>\n",
              "      <td>9297</td>\n",
              "      <td>307</td>\n",
              "      <td>5</td>\n",
              "      <td>3.0</td>\n",
              "      <td>2544</td>\n",
              "      <td>0.583003</td>\n",
              "    </tr>\n",
              "  </tbody>\n",
              "</table>\n",
              "<p>2321 rows × 6 columns</p>\n",
              "</div>\n",
              "      <button class=\"colab-df-convert\" onclick=\"convertToInteractive('df-7f0e482c-5acf-47f2-a6d1-a395d794a118')\"\n",
              "              title=\"Convert this dataframe to an interactive table.\"\n",
              "              style=\"display:none;\">\n",
              "\n",
              "  <svg xmlns=\"http://www.w3.org/2000/svg\" height=\"24px\"viewBox=\"0 0 24 24\"\n",
              "       width=\"24px\">\n",
              "    <path d=\"M0 0h24v24H0V0z\" fill=\"none\"/>\n",
              "    <path d=\"M18.56 5.44l.94 2.06.94-2.06 2.06-.94-2.06-.94-.94-2.06-.94 2.06-2.06.94zm-11 1L8.5 8.5l.94-2.06 2.06-.94-2.06-.94L8.5 2.5l-.94 2.06-2.06.94zm10 10l.94 2.06.94-2.06 2.06-.94-2.06-.94-.94-2.06-.94 2.06-2.06.94z\"/><path d=\"M17.41 7.96l-1.37-1.37c-.4-.4-.92-.59-1.43-.59-.52 0-1.04.2-1.43.59L10.3 9.45l-7.72 7.72c-.78.78-.78 2.05 0 2.83L4 21.41c.39.39.9.59 1.41.59.51 0 1.02-.2 1.41-.59l7.78-7.78 2.81-2.81c.8-.78.8-2.07 0-2.86zM5.41 20L4 18.59l7.72-7.72 1.47 1.35L5.41 20z\"/>\n",
              "  </svg>\n",
              "      </button>\n",
              "\n",
              "\n",
              "\n",
              "    <div id=\"df-5f14fd96-e9cb-4b1d-a91c-b5708e09b331\">\n",
              "      <button class=\"colab-df-quickchart\" onclick=\"quickchart('df-5f14fd96-e9cb-4b1d-a91c-b5708e09b331')\"\n",
              "              title=\"Suggest charts.\"\n",
              "              style=\"display:none;\">\n",
              "\n",
              "<svg xmlns=\"http://www.w3.org/2000/svg\" height=\"24px\"viewBox=\"0 0 24 24\"\n",
              "     width=\"24px\">\n",
              "    <g>\n",
              "        <path d=\"M19 3H5c-1.1 0-2 .9-2 2v14c0 1.1.9 2 2 2h14c1.1 0 2-.9 2-2V5c0-1.1-.9-2-2-2zM9 17H7v-7h2v7zm4 0h-2V7h2v10zm4 0h-2v-4h2v4z\"/>\n",
              "    </g>\n",
              "</svg>\n",
              "      </button>\n",
              "    </div>\n",
              "\n",
              "<style>\n",
              "  .colab-df-quickchart {\n",
              "    background-color: #E8F0FE;\n",
              "    border: none;\n",
              "    border-radius: 50%;\n",
              "    cursor: pointer;\n",
              "    display: none;\n",
              "    fill: #1967D2;\n",
              "    height: 32px;\n",
              "    padding: 0 0 0 0;\n",
              "    width: 32px;\n",
              "  }\n",
              "\n",
              "  .colab-df-quickchart:hover {\n",
              "    background-color: #E2EBFA;\n",
              "    box-shadow: 0px 1px 2px rgba(60, 64, 67, 0.3), 0px 1px 3px 1px rgba(60, 64, 67, 0.15);\n",
              "    fill: #174EA6;\n",
              "  }\n",
              "\n",
              "  [theme=dark] .colab-df-quickchart {\n",
              "    background-color: #3B4455;\n",
              "    fill: #D2E3FC;\n",
              "  }\n",
              "\n",
              "  [theme=dark] .colab-df-quickchart:hover {\n",
              "    background-color: #434B5C;\n",
              "    box-shadow: 0px 1px 3px 1px rgba(0, 0, 0, 0.15);\n",
              "    filter: drop-shadow(0px 1px 2px rgba(0, 0, 0, 0.3));\n",
              "    fill: #FFFFFF;\n",
              "  }\n",
              "</style>\n",
              "\n",
              "    <script>\n",
              "      async function quickchart(key) {\n",
              "        const containerElement = document.querySelector('#' + key);\n",
              "        const charts = await google.colab.kernel.invokeFunction(\n",
              "            'suggestCharts', [key], {});\n",
              "      }\n",
              "    </script>\n",
              "\n",
              "      <script>\n",
              "\n",
              "function displayQuickchartButton(domScope) {\n",
              "  let quickchartButtonEl =\n",
              "    domScope.querySelector('#df-5f14fd96-e9cb-4b1d-a91c-b5708e09b331 button.colab-df-quickchart');\n",
              "  quickchartButtonEl.style.display =\n",
              "    google.colab.kernel.accessAllowed ? 'block' : 'none';\n",
              "}\n",
              "\n",
              "        displayQuickchartButton(document);\n",
              "      </script>\n",
              "      <style>\n",
              "    .colab-df-container {\n",
              "      display:flex;\n",
              "      flex-wrap:wrap;\n",
              "      gap: 12px;\n",
              "    }\n",
              "\n",
              "    .colab-df-convert {\n",
              "      background-color: #E8F0FE;\n",
              "      border: none;\n",
              "      border-radius: 50%;\n",
              "      cursor: pointer;\n",
              "      display: none;\n",
              "      fill: #1967D2;\n",
              "      height: 32px;\n",
              "      padding: 0 0 0 0;\n",
              "      width: 32px;\n",
              "    }\n",
              "\n",
              "    .colab-df-convert:hover {\n",
              "      background-color: #E2EBFA;\n",
              "      box-shadow: 0px 1px 2px rgba(60, 64, 67, 0.3), 0px 1px 3px 1px rgba(60, 64, 67, 0.15);\n",
              "      fill: #174EA6;\n",
              "    }\n",
              "\n",
              "    [theme=dark] .colab-df-convert {\n",
              "      background-color: #3B4455;\n",
              "      fill: #D2E3FC;\n",
              "    }\n",
              "\n",
              "    [theme=dark] .colab-df-convert:hover {\n",
              "      background-color: #434B5C;\n",
              "      box-shadow: 0px 1px 3px 1px rgba(0, 0, 0, 0.15);\n",
              "      filter: drop-shadow(0px 1px 2px rgba(0, 0, 0, 0.3));\n",
              "      fill: #FFFFFF;\n",
              "    }\n",
              "  </style>\n",
              "\n",
              "      <script>\n",
              "        const buttonEl =\n",
              "          document.querySelector('#df-7f0e482c-5acf-47f2-a6d1-a395d794a118 button.colab-df-convert');\n",
              "        buttonEl.style.display =\n",
              "          google.colab.kernel.accessAllowed ? 'block' : 'none';\n",
              "\n",
              "        async function convertToInteractive(key) {\n",
              "          const element = document.querySelector('#df-7f0e482c-5acf-47f2-a6d1-a395d794a118');\n",
              "          const dataTable =\n",
              "            await google.colab.kernel.invokeFunction('convertToInteractive',\n",
              "                                                     [key], {});\n",
              "          if (!dataTable) return;\n",
              "\n",
              "          const docLinkHtml = 'Like what you see? Visit the ' +\n",
              "            '<a target=\"_blank\" href=https://colab.research.google.com/notebooks/data_table.ipynb>data table notebook</a>'\n",
              "            + ' to learn more about interactive tables.';\n",
              "          element.innerHTML = '';\n",
              "          dataTable['output_type'] = 'display_data';\n",
              "          await google.colab.output.renderOutput(dataTable, element);\n",
              "          const docLink = document.createElement('div');\n",
              "          docLink.innerHTML = docLinkHtml;\n",
              "          element.appendChild(docLink);\n",
              "        }\n",
              "      </script>\n",
              "    </div>\n",
              "  </div>\n"
            ],
            "text/plain": [
              "       image_id  n_citi  bed  bath  sqft  predicted_std_from_mean\n",
              "13713     13713      21    3   3.0  1832                -0.513874\n",
              "14714     14714     372    5   4.0  3789                 2.945127\n",
              "2149       2149     330    3   1.1  1208                 0.373723\n",
              "6156       6156     185    4   3.0  2595                 0.950576\n",
              "6778       6778     141    6   4.0  3610                 1.413639\n",
              "...         ...     ...  ...   ...   ...                      ...\n",
              "11187     11187     294    3   2.0  1920                 1.610984\n",
              "5259       5259      87    5   5.1  5955                 0.518551\n",
              "12322     12322     320    2   1.0   997                 1.524582\n",
              "5613       5613     154    2   2.0  1432                 2.187195\n",
              "9297       9297     307    5   3.0  2544                 0.583003\n",
              "\n",
              "[2321 rows x 6 columns]"
            ]
          },
          "execution_count": 41,
          "metadata": {},
          "output_type": "execute_result"
        }
      ],
      "source": [
        "X_val"
      ]
    },
    {
      "cell_type": "code",
      "execution_count": null,
      "metadata": {
        "colab": {
          "base_uri": "https://localhost:8080/"
        },
        "id": "hILXi5VNlOjw",
        "outputId": "3cbf8e3b-e59a-4069-b87f-22af3044cc3c"
      },
      "outputs": [
        {
          "data": {
            "text/plain": [
              "13713    13.120363\n",
              "14714    14.220309\n",
              "2149     13.351888\n",
              "6156     13.005832\n",
              "6778     13.217494\n",
              "           ...    \n",
              "11187    12.428820\n",
              "5259     14.315680\n",
              "12322    13.337476\n",
              "5613     12.608202\n",
              "9297     13.027835\n",
              "Name: price, Length: 2321, dtype: float64"
            ]
          },
          "execution_count": 42,
          "metadata": {},
          "output_type": "execute_result"
        }
      ],
      "source": [
        "y_val"
      ]
    },
    {
      "cell_type": "code",
      "execution_count": null,
      "metadata": {
        "colab": {
          "base_uri": "https://localhost:8080/"
        },
        "id": "jXaX8munRpDN",
        "outputId": "9644eb6b-34ed-4467-e5b6-14ee2649cfc7"
      },
      "outputs": [
        {
          "data": {
            "text/plain": [
              "1218     12.803257\n",
              "10140    13.458823\n",
              "11036    14.496079\n",
              "13000    13.591117\n",
              "15454    13.704580\n",
              "           ...    \n",
              "13323    13.814511\n",
              "6341     13.028055\n",
              "8588     12.594731\n",
              "4439     13.560620\n",
              "4197     13.527830\n",
              "Name: price, Length: 10831, dtype: float64"
            ]
          },
          "execution_count": 43,
          "metadata": {},
          "output_type": "execute_result"
        }
      ],
      "source": [
        "y_train"
      ]
    },
    {
      "cell_type": "code",
      "execution_count": null,
      "metadata": {
        "colab": {
          "base_uri": "https://localhost:8080/"
        },
        "id": "F1X2tJa0RpF6",
        "outputId": "025074b5-fe72-4149-9d00-cac081127eb7"
      },
      "outputs": [
        {
          "data": {
            "text/plain": [
              "8321     12.429220\n",
              "11716    13.112315\n",
              "5559     12.464587\n",
              "6348     13.038984\n",
              "2747     13.697854\n",
              "           ...    \n",
              "5887     12.765406\n",
              "7264     13.422469\n",
              "9586     13.217675\n",
              "1170     12.807655\n",
              "4654     13.592367\n",
              "Name: price, Length: 2322, dtype: float64"
            ]
          },
          "execution_count": 44,
          "metadata": {},
          "output_type": "execute_result"
        }
      ],
      "source": [
        "y_test"
      ]
    },
    {
      "cell_type": "code",
      "execution_count": null,
      "metadata": {
        "id": "4TXMRnCNRpHe"
      },
      "outputs": [],
      "source": [
        "reg = ltb.LGBMRegressor(random_state=15)\n",
        "reg1 =XGBRegressor(random_state=15)\n",
        "reg2 = RandomForestRegressor(random_state = 15)"
      ]
    },
    {
      "cell_type": "code",
      "execution_count": null,
      "metadata": {
        "id": "alGStRyDRpKC"
      },
      "outputs": [],
      "source": [
        "search_space = {\n",
        "    \"num_leaves\":[32,40],\n",
        "    \"min_child_samples\":[15,25]\n",
        "}\n",
        "search_space1 = {\n",
        "    \"max_depth\":[1,9],\n",
        "    \"min_child_weight\":[1,5],\n",
        "    \"eta\":[0.1,0.5],\n",
        "    \"gamma\":[0,5]\n",
        "}\n",
        "search_space2 = {\n",
        "    \"min_samples_leaf\":[1,10],\n",
        "    \"min_samples_split\":[2,7],\n",
        "    \"n_estimators\":[40,50]\n",
        "\n",
        "}\n"
      ]
    },
    {
      "cell_type": "code",
      "execution_count": null,
      "metadata": {
        "colab": {
          "base_uri": "https://localhost:8080/",
          "height": 1000
        },
        "id": "ri6_574IRpMU",
        "outputId": "6169112e-f400-4ff3-ea31-6f26439a2902"
      },
      "outputs": [
        {
          "name": "stdout",
          "output_type": "stream",
          "text": [
            "Fitting 5 folds for each of 1 candidates, totalling 5 fits\n",
            "[CV 1/5] END min_child_samples=19, num_leaves=32;, score=0.925 total time=   0.2s\n",
            "[CV 2/5] END min_child_samples=19, num_leaves=32;, score=0.952 total time=   0.1s\n",
            "[CV 3/5] END min_child_samples=19, num_leaves=32;, score=0.948 total time=   0.1s\n",
            "[CV 4/5] END min_child_samples=19, num_leaves=32;, score=0.941 total time=   0.1s\n",
            "[CV 5/5] END min_child_samples=19, num_leaves=32;, score=0.942 total time=   0.1s\n",
            "Fitting 5 folds for each of 1 candidates, totalling 5 fits\n",
            "[CV 1/5] END min_child_samples=18, num_leaves=35;, score=0.930 total time=   0.2s\n",
            "[CV 2/5] END min_child_samples=18, num_leaves=35;, score=0.953 total time=   0.2s\n",
            "[CV 3/5] END min_child_samples=18, num_leaves=35;, score=0.948 total time=   0.1s\n",
            "[CV 4/5] END min_child_samples=18, num_leaves=35;, score=0.942 total time=   0.1s\n",
            "[CV 5/5] END min_child_samples=18, num_leaves=35;, score=0.942 total time=   0.1s\n",
            "Fitting 5 folds for each of 1 candidates, totalling 5 fits\n",
            "[CV 1/5] END min_child_samples=15, num_leaves=33;, score=0.927 total time=   0.1s\n",
            "[CV 2/5] END min_child_samples=15, num_leaves=33;, score=0.953 total time=   0.1s\n",
            "[CV 3/5] END min_child_samples=15, num_leaves=33;, score=0.944 total time=   0.1s\n",
            "[CV 4/5] END min_child_samples=15, num_leaves=33;, score=0.940 total time=   0.1s\n",
            "[CV 5/5] END min_child_samples=15, num_leaves=33;, score=0.944 total time=   0.1s\n",
            "Fitting 5 folds for each of 1 candidates, totalling 5 fits\n",
            "[CV 1/5] END min_child_samples=23, num_leaves=32;, score=0.926 total time=   0.1s\n",
            "[CV 2/5] END min_child_samples=23, num_leaves=32;, score=0.951 total time=   0.1s\n",
            "[CV 3/5] END min_child_samples=23, num_leaves=32;, score=0.947 total time=   0.1s\n",
            "[CV 4/5] END min_child_samples=23, num_leaves=32;, score=0.940 total time=   0.1s\n",
            "[CV 5/5] END min_child_samples=23, num_leaves=32;, score=0.941 total time=   0.1s\n",
            "Fitting 5 folds for each of 1 candidates, totalling 5 fits\n",
            "[CV 1/5] END min_child_samples=25, num_leaves=33;, score=0.922 total time=   0.1s\n",
            "[CV 2/5] END min_child_samples=25, num_leaves=33;, score=0.951 total time=   0.2s\n",
            "[CV 3/5] END min_child_samples=25, num_leaves=33;, score=0.946 total time=   0.1s\n",
            "[CV 4/5] END min_child_samples=25, num_leaves=33;, score=0.936 total time=   0.1s\n",
            "[CV 5/5] END min_child_samples=25, num_leaves=33;, score=0.943 total time=   0.1s\n",
            "Fitting 5 folds for each of 1 candidates, totalling 5 fits\n",
            "[CV 1/5] END min_child_samples=16, num_leaves=39;, score=0.928 total time=   0.1s\n",
            "[CV 2/5] END min_child_samples=16, num_leaves=39;, score=0.953 total time=   0.1s\n",
            "[CV 3/5] END min_child_samples=16, num_leaves=39;, score=0.948 total time=   0.1s\n",
            "[CV 4/5] END min_child_samples=16, num_leaves=39;, score=0.941 total time=   0.1s\n",
            "[CV 5/5] END min_child_samples=16, num_leaves=39;, score=0.943 total time=   0.2s\n",
            "Fitting 5 folds for each of 1 candidates, totalling 5 fits\n",
            "[CV 1/5] END min_child_samples=20, num_leaves=38;, score=0.925 total time=   0.2s\n",
            "[CV 2/5] END min_child_samples=20, num_leaves=38;, score=0.951 total time=   0.2s\n",
            "[CV 3/5] END min_child_samples=20, num_leaves=38;, score=0.947 total time=   2.4s\n",
            "[CV 4/5] END min_child_samples=20, num_leaves=38;, score=0.942 total time=   0.4s\n",
            "[CV 5/5] END min_child_samples=20, num_leaves=38;, score=0.943 total time=   0.1s\n",
            "Fitting 5 folds for each of 1 candidates, totalling 5 fits\n",
            "[CV 1/5] END min_child_samples=16, num_leaves=35;, score=0.929 total time=   0.1s\n",
            "[CV 2/5] END min_child_samples=16, num_leaves=35;, score=0.952 total time=   0.1s\n",
            "[CV 3/5] END min_child_samples=16, num_leaves=35;, score=0.949 total time=   0.1s\n",
            "[CV 4/5] END min_child_samples=16, num_leaves=35;, score=0.943 total time=   0.1s\n",
            "[CV 5/5] END min_child_samples=16, num_leaves=35;, score=0.943 total time=   0.1s\n",
            "Fitting 5 folds for each of 1 candidates, totalling 5 fits\n",
            "[CV 1/5] END min_child_samples=25, num_leaves=37;, score=0.925 total time=   0.1s\n",
            "[CV 2/5] END min_child_samples=25, num_leaves=37;, score=0.949 total time=   0.1s\n",
            "[CV 3/5] END min_child_samples=25, num_leaves=37;, score=0.946 total time=   0.1s\n",
            "[CV 4/5] END min_child_samples=25, num_leaves=37;, score=0.942 total time=   0.1s\n",
            "[CV 5/5] END min_child_samples=25, num_leaves=37;, score=0.942 total time=   0.1s\n",
            "Fitting 5 folds for each of 1 candidates, totalling 5 fits\n",
            "[CV 1/5] END min_child_samples=17, num_leaves=40;, score=0.926 total time=   0.2s\n",
            "[CV 2/5] END min_child_samples=17, num_leaves=40;, score=0.953 total time=   0.1s\n",
            "[CV 3/5] END min_child_samples=17, num_leaves=40;, score=0.949 total time=   0.1s\n",
            "[CV 4/5] END min_child_samples=17, num_leaves=40;, score=0.940 total time=   0.1s\n",
            "[CV 5/5] END min_child_samples=17, num_leaves=40;, score=0.944 total time=   0.2s\n",
            "Fitting 5 folds for each of 1 candidates, totalling 5 fits\n",
            "[CV 1/5] END min_child_samples=15, num_leaves=37;, score=0.932 total time=   0.2s\n",
            "[CV 2/5] END min_child_samples=15, num_leaves=37;, score=0.953 total time=   0.1s\n",
            "[CV 3/5] END min_child_samples=15, num_leaves=37;, score=0.950 total time=   0.1s\n",
            "[CV 4/5] END min_child_samples=15, num_leaves=37;, score=0.943 total time=   0.1s\n",
            "[CV 5/5] END min_child_samples=15, num_leaves=37;, score=0.944 total time=   0.1s\n",
            "Fitting 5 folds for each of 1 candidates, totalling 5 fits\n",
            "[CV 1/5] END min_child_samples=15, num_leaves=36;, score=0.931 total time=   0.2s\n",
            "[CV 2/5] END min_child_samples=15, num_leaves=36;, score=0.953 total time=   0.1s\n",
            "[CV 3/5] END min_child_samples=15, num_leaves=36;, score=0.946 total time=   0.1s\n",
            "[CV 4/5] END min_child_samples=15, num_leaves=36;, score=0.942 total time=   0.1s\n",
            "[CV 5/5] END min_child_samples=15, num_leaves=36;, score=0.944 total time=   0.1s\n",
            "Fitting 5 folds for each of 1 candidates, totalling 5 fits\n",
            "[CV 1/5] END min_child_samples=25, num_leaves=40;, score=0.924 total time=   0.3s\n",
            "[CV 2/5] END min_child_samples=25, num_leaves=40;, score=0.951 total time=   0.2s\n",
            "[CV 3/5] END min_child_samples=25, num_leaves=40;, score=0.950 total time=   0.1s\n",
            "[CV 4/5] END min_child_samples=25, num_leaves=40;, score=0.936 total time=   0.1s\n",
            "[CV 5/5] END min_child_samples=25, num_leaves=40;, score=0.943 total time=   0.2s\n",
            "Fitting 5 folds for each of 1 candidates, totalling 5 fits\n",
            "[CV 1/5] END min_child_samples=21, num_leaves=40;, score=0.925 total time=   0.2s\n",
            "[CV 2/5] END min_child_samples=21, num_leaves=40;, score=0.951 total time=   0.2s\n",
            "[CV 3/5] END min_child_samples=21, num_leaves=40;, score=0.949 total time=   0.2s\n",
            "[CV 4/5] END min_child_samples=21, num_leaves=40;, score=0.940 total time=   2.3s\n",
            "[CV 5/5] END min_child_samples=21, num_leaves=40;, score=0.944 total time=   0.5s\n",
            "Fitting 5 folds for each of 1 candidates, totalling 5 fits\n",
            "[CV 1/5] END min_child_samples=15, num_leaves=40;, score=0.928 total time=   0.2s\n",
            "[CV 2/5] END min_child_samples=15, num_leaves=40;, score=0.954 total time=   0.1s\n",
            "[CV 3/5] END min_child_samples=15, num_leaves=40;, score=0.950 total time=   0.1s\n",
            "[CV 4/5] END min_child_samples=15, num_leaves=40;, score=0.940 total time=   0.2s\n",
            "[CV 5/5] END min_child_samples=15, num_leaves=40;, score=0.944 total time=   0.2s\n"
          ]
        },
        {
          "name": "stderr",
          "output_type": "stream",
          "text": [
            "/usr/local/lib/python3.10/dist-packages/skopt/optimizer/optimizer.py:449: UserWarning: The objective has been evaluated at this point before.\n",
            "  warnings.warn(\"The objective has been evaluated \"\n"
          ]
        },
        {
          "name": "stdout",
          "output_type": "stream",
          "text": [
            "Fitting 5 folds for each of 1 candidates, totalling 5 fits\n",
            "[CV 1/5] END min_child_samples=15, num_leaves=37;, score=0.932 total time=   0.2s\n",
            "[CV 2/5] END min_child_samples=15, num_leaves=37;, score=0.953 total time=   0.1s\n",
            "[CV 3/5] END min_child_samples=15, num_leaves=37;, score=0.950 total time=   0.1s\n",
            "[CV 4/5] END min_child_samples=15, num_leaves=37;, score=0.943 total time=   0.1s\n",
            "[CV 5/5] END min_child_samples=15, num_leaves=37;, score=0.944 total time=   0.1s\n"
          ]
        },
        {
          "name": "stderr",
          "output_type": "stream",
          "text": [
            "/usr/local/lib/python3.10/dist-packages/skopt/optimizer/optimizer.py:449: UserWarning: The objective has been evaluated at this point before.\n",
            "  warnings.warn(\"The objective has been evaluated \"\n"
          ]
        },
        {
          "name": "stdout",
          "output_type": "stream",
          "text": [
            "Fitting 5 folds for each of 1 candidates, totalling 5 fits\n",
            "[CV 1/5] END min_child_samples=15, num_leaves=37;, score=0.932 total time=   0.2s\n",
            "[CV 2/5] END min_child_samples=15, num_leaves=37;, score=0.953 total time=   0.1s\n",
            "[CV 3/5] END min_child_samples=15, num_leaves=37;, score=0.950 total time=   0.1s\n",
            "[CV 4/5] END min_child_samples=15, num_leaves=37;, score=0.943 total time=   0.2s\n",
            "[CV 5/5] END min_child_samples=15, num_leaves=37;, score=0.944 total time=   0.1s\n",
            "Fitting 5 folds for each of 1 candidates, totalling 5 fits\n",
            "[CV 1/5] END min_child_samples=25, num_leaves=35;, score=0.925 total time=   0.2s\n",
            "[CV 2/5] END min_child_samples=25, num_leaves=35;, score=0.951 total time=   0.1s\n",
            "[CV 3/5] END min_child_samples=25, num_leaves=35;, score=0.947 total time=   0.1s\n",
            "[CV 4/5] END min_child_samples=25, num_leaves=35;, score=0.942 total time=   0.1s\n",
            "[CV 5/5] END min_child_samples=25, num_leaves=35;, score=0.942 total time=   0.2s\n",
            "Fitting 5 folds for each of 1 candidates, totalling 5 fits\n",
            "[CV 1/5] END min_child_samples=15, num_leaves=38;, score=0.926 total time=   0.2s\n",
            "[CV 2/5] END min_child_samples=15, num_leaves=38;, score=0.952 total time=   0.1s\n",
            "[CV 3/5] END min_child_samples=15, num_leaves=38;, score=0.948 total time=   0.1s\n",
            "[CV 4/5] END min_child_samples=15, num_leaves=38;, score=0.943 total time=   0.1s\n",
            "[CV 5/5] END min_child_samples=15, num_leaves=38;, score=0.943 total time=   0.2s\n",
            "Fitting 5 folds for each of 1 candidates, totalling 5 fits\n",
            "[CV 1/5] END min_child_samples=17, num_leaves=37;, score=0.926 total time=   2.6s\n",
            "[CV 2/5] END min_child_samples=17, num_leaves=37;, score=0.952 total time=   0.1s\n",
            "[CV 3/5] END min_child_samples=17, num_leaves=37;, score=0.949 total time=   0.2s\n",
            "[CV 4/5] END min_child_samples=17, num_leaves=37;, score=0.941 total time=   0.1s\n",
            "[CV 5/5] END min_child_samples=17, num_leaves=37;, score=0.944 total time=   0.1s\n"
          ]
        },
        {
          "data": {
            "text/html": [
              "<style>#sk-container-id-1 {color: black;background-color: white;}#sk-container-id-1 pre{padding: 0;}#sk-container-id-1 div.sk-toggleable {background-color: white;}#sk-container-id-1 label.sk-toggleable__label {cursor: pointer;display: block;width: 100%;margin-bottom: 0;padding: 0.3em;box-sizing: border-box;text-align: center;}#sk-container-id-1 label.sk-toggleable__label-arrow:before {content: \"▸\";float: left;margin-right: 0.25em;color: #696969;}#sk-container-id-1 label.sk-toggleable__label-arrow:hover:before {color: black;}#sk-container-id-1 div.sk-estimator:hover label.sk-toggleable__label-arrow:before {color: black;}#sk-container-id-1 div.sk-toggleable__content {max-height: 0;max-width: 0;overflow: hidden;text-align: left;background-color: #f0f8ff;}#sk-container-id-1 div.sk-toggleable__content pre {margin: 0.2em;color: black;border-radius: 0.25em;background-color: #f0f8ff;}#sk-container-id-1 input.sk-toggleable__control:checked~div.sk-toggleable__content {max-height: 200px;max-width: 100%;overflow: auto;}#sk-container-id-1 input.sk-toggleable__control:checked~label.sk-toggleable__label-arrow:before {content: \"▾\";}#sk-container-id-1 div.sk-estimator input.sk-toggleable__control:checked~label.sk-toggleable__label {background-color: #d4ebff;}#sk-container-id-1 div.sk-label input.sk-toggleable__control:checked~label.sk-toggleable__label {background-color: #d4ebff;}#sk-container-id-1 input.sk-hidden--visually {border: 0;clip: rect(1px 1px 1px 1px);clip: rect(1px, 1px, 1px, 1px);height: 1px;margin: -1px;overflow: hidden;padding: 0;position: absolute;width: 1px;}#sk-container-id-1 div.sk-estimator {font-family: monospace;background-color: #f0f8ff;border: 1px dotted black;border-radius: 0.25em;box-sizing: border-box;margin-bottom: 0.5em;}#sk-container-id-1 div.sk-estimator:hover {background-color: #d4ebff;}#sk-container-id-1 div.sk-parallel-item::after {content: \"\";width: 100%;border-bottom: 1px solid gray;flex-grow: 1;}#sk-container-id-1 div.sk-label:hover label.sk-toggleable__label {background-color: #d4ebff;}#sk-container-id-1 div.sk-serial::before {content: \"\";position: absolute;border-left: 1px solid gray;box-sizing: border-box;top: 0;bottom: 0;left: 50%;z-index: 0;}#sk-container-id-1 div.sk-serial {display: flex;flex-direction: column;align-items: center;background-color: white;padding-right: 0.2em;padding-left: 0.2em;position: relative;}#sk-container-id-1 div.sk-item {position: relative;z-index: 1;}#sk-container-id-1 div.sk-parallel {display: flex;align-items: stretch;justify-content: center;background-color: white;position: relative;}#sk-container-id-1 div.sk-item::before, #sk-container-id-1 div.sk-parallel-item::before {content: \"\";position: absolute;border-left: 1px solid gray;box-sizing: border-box;top: 0;bottom: 0;left: 50%;z-index: -1;}#sk-container-id-1 div.sk-parallel-item {display: flex;flex-direction: column;z-index: 1;position: relative;background-color: white;}#sk-container-id-1 div.sk-parallel-item:first-child::after {align-self: flex-end;width: 50%;}#sk-container-id-1 div.sk-parallel-item:last-child::after {align-self: flex-start;width: 50%;}#sk-container-id-1 div.sk-parallel-item:only-child::after {width: 0;}#sk-container-id-1 div.sk-dashed-wrapped {border: 1px dashed gray;margin: 0 0.4em 0.5em 0.4em;box-sizing: border-box;padding-bottom: 0.4em;background-color: white;}#sk-container-id-1 div.sk-label label {font-family: monospace;font-weight: bold;display: inline-block;line-height: 1.2em;}#sk-container-id-1 div.sk-label-container {text-align: center;}#sk-container-id-1 div.sk-container {/* jupyter's `normalize.less` sets `[hidden] { display: none; }` but bootstrap.min.css set `[hidden] { display: none !important; }` so we also need the `!important` here to be able to override the default hidden behavior on the sphinx rendered scikit-learn.org. See: https://github.com/scikit-learn/scikit-learn/issues/21755 */display: inline-block !important;position: relative;}#sk-container-id-1 div.sk-text-repr-fallback {display: none;}</style><div id=\"sk-container-id-1\" class=\"sk-top-container\"><div class=\"sk-text-repr-fallback\"><pre>BayesSearchCV(estimator=LGBMRegressor(random_state=15), n_iter=20,\n",
              "              search_spaces={&#x27;min_child_samples&#x27;: [15, 25],\n",
              "                             &#x27;num_leaves&#x27;: [32, 40]},\n",
              "              verbose=3)</pre><b>In a Jupyter environment, please rerun this cell to show the HTML representation or trust the notebook. <br />On GitHub, the HTML representation is unable to render, please try loading this page with nbviewer.org.</b></div><div class=\"sk-container\" hidden><div class=\"sk-item sk-dashed-wrapped\"><div class=\"sk-label-container\"><div class=\"sk-label sk-toggleable\"><input class=\"sk-toggleable__control sk-hidden--visually\" id=\"sk-estimator-id-1\" type=\"checkbox\" ><label for=\"sk-estimator-id-1\" class=\"sk-toggleable__label sk-toggleable__label-arrow\">BayesSearchCV</label><div class=\"sk-toggleable__content\"><pre>BayesSearchCV(estimator=LGBMRegressor(random_state=15), n_iter=20,\n",
              "              search_spaces={&#x27;min_child_samples&#x27;: [15, 25],\n",
              "                             &#x27;num_leaves&#x27;: [32, 40]},\n",
              "              verbose=3)</pre></div></div></div><div class=\"sk-parallel\"><div class=\"sk-parallel-item\"><div class=\"sk-item\"><div class=\"sk-label-container\"><div class=\"sk-label sk-toggleable\"><input class=\"sk-toggleable__control sk-hidden--visually\" id=\"sk-estimator-id-2\" type=\"checkbox\" ><label for=\"sk-estimator-id-2\" class=\"sk-toggleable__label sk-toggleable__label-arrow\">estimator: LGBMRegressor</label><div class=\"sk-toggleable__content\"><pre>LGBMRegressor(random_state=15)</pre></div></div></div><div class=\"sk-serial\"><div class=\"sk-item\"><div class=\"sk-estimator sk-toggleable\"><input class=\"sk-toggleable__control sk-hidden--visually\" id=\"sk-estimator-id-3\" type=\"checkbox\" ><label for=\"sk-estimator-id-3\" class=\"sk-toggleable__label sk-toggleable__label-arrow\">LGBMRegressor</label><div class=\"sk-toggleable__content\"><pre>LGBMRegressor(random_state=15)</pre></div></div></div></div></div></div></div></div></div></div>"
            ],
            "text/plain": [
              "BayesSearchCV(estimator=LGBMRegressor(random_state=15), n_iter=20,\n",
              "              search_spaces={'min_child_samples': [15, 25],\n",
              "                             'num_leaves': [32, 40]},\n",
              "              verbose=3)"
            ]
          },
          "execution_count": 47,
          "metadata": {},
          "output_type": "execute_result"
        }
      ],
      "source": [
        "bayeslgbm = BayesSearchCV(reg,search_spaces = search_space,n_iter = 20,verbose = 3)\n",
        "bayeslgbm.fit(X_train,y_train)"
      ]
    },
    {
      "cell_type": "code",
      "execution_count": null,
      "metadata": {
        "colab": {
          "base_uri": "https://localhost:8080/",
          "height": 1000
        },
        "id": "QOQ1xLBnRpOr",
        "outputId": "96afa356-756e-44da-fa8c-316ac4646da1"
      },
      "outputs": [
        {
          "name": "stdout",
          "output_type": "stream",
          "text": [
            "Fitting 5 folds for each of 1 candidates, totalling 5 fits\n",
            "[CV 1/5] END eta=0.4872822933198301, gamma=5, max_depth=7, min_child_weight=2;, score=0.830 total time=   1.0s\n",
            "[CV 2/5] END eta=0.4872822933198301, gamma=5, max_depth=7, min_child_weight=2;, score=0.887 total time=   0.9s\n",
            "[CV 3/5] END eta=0.4872822933198301, gamma=5, max_depth=7, min_child_weight=2;, score=0.894 total time=   0.8s\n",
            "[CV 4/5] END eta=0.4872822933198301, gamma=5, max_depth=7, min_child_weight=2;, score=0.872 total time=   0.9s\n",
            "[CV 5/5] END eta=0.4872822933198301, gamma=5, max_depth=7, min_child_weight=2;, score=0.837 total time=   0.9s\n",
            "Fitting 5 folds for each of 1 candidates, totalling 5 fits\n",
            "[CV 1/5] END eta=0.20745909517239314, gamma=4, max_depth=3, min_child_weight=3;, score=0.806 total time=   0.3s\n",
            "[CV 2/5] END eta=0.20745909517239314, gamma=4, max_depth=3, min_child_weight=3;, score=0.825 total time=   0.3s\n",
            "[CV 3/5] END eta=0.20745909517239314, gamma=4, max_depth=3, min_child_weight=3;, score=0.804 total time=   0.4s\n",
            "[CV 4/5] END eta=0.20745909517239314, gamma=4, max_depth=3, min_child_weight=3;, score=0.795 total time=   0.3s\n",
            "[CV 5/5] END eta=0.20745909517239314, gamma=4, max_depth=3, min_child_weight=3;, score=0.825 total time=   0.4s\n",
            "Fitting 5 folds for each of 1 candidates, totalling 5 fits\n",
            "[CV 1/5] END eta=0.22907502575886837, gamma=2, max_depth=3, min_child_weight=2;, score=0.863 total time=   0.4s\n",
            "[CV 2/5] END eta=0.22907502575886837, gamma=2, max_depth=3, min_child_weight=2;, score=0.854 total time=   0.4s\n",
            "[CV 3/5] END eta=0.22907502575886837, gamma=2, max_depth=3, min_child_weight=2;, score=0.876 total time=   0.3s\n",
            "[CV 4/5] END eta=0.22907502575886837, gamma=2, max_depth=3, min_child_weight=2;, score=0.880 total time=   0.4s\n",
            "[CV 5/5] END eta=0.22907502575886837, gamma=2, max_depth=3, min_child_weight=2;, score=0.887 total time=   0.3s\n",
            "Fitting 5 folds for each of 1 candidates, totalling 5 fits\n",
            "[CV 1/5] END eta=0.32879121785926335, gamma=0, max_depth=5, min_child_weight=2;, score=0.972 total time=   0.6s\n",
            "[CV 2/5] END eta=0.32879121785926335, gamma=0, max_depth=5, min_child_weight=2;, score=0.971 total time=   2.9s\n",
            "[CV 3/5] END eta=0.32879121785926335, gamma=0, max_depth=5, min_child_weight=2;, score=0.976 total time=   0.6s\n",
            "[CV 4/5] END eta=0.32879121785926335, gamma=0, max_depth=5, min_child_weight=2;, score=0.976 total time=   0.6s\n",
            "[CV 5/5] END eta=0.32879121785926335, gamma=0, max_depth=5, min_child_weight=2;, score=0.971 total time=   0.6s\n",
            "Fitting 5 folds for each of 1 candidates, totalling 5 fits\n",
            "[CV 1/5] END eta=0.38543613660425535, gamma=5, max_depth=6, min_child_weight=5;, score=0.853 total time=   0.7s\n",
            "[CV 2/5] END eta=0.38543613660425535, gamma=5, max_depth=6, min_child_weight=5;, score=0.865 total time=   0.7s\n",
            "[CV 3/5] END eta=0.38543613660425535, gamma=5, max_depth=6, min_child_weight=5;, score=0.842 total time=   0.6s\n",
            "[CV 4/5] END eta=0.38543613660425535, gamma=5, max_depth=6, min_child_weight=5;, score=0.875 total time=   0.7s\n",
            "[CV 5/5] END eta=0.38543613660425535, gamma=5, max_depth=6, min_child_weight=5;, score=0.853 total time=   0.7s\n",
            "Fitting 5 folds for each of 1 candidates, totalling 5 fits\n",
            "[CV 1/5] END eta=0.4340908630710819, gamma=3, max_depth=3, min_child_weight=5;, score=0.786 total time=   0.3s\n",
            "[CV 2/5] END eta=0.4340908630710819, gamma=3, max_depth=3, min_child_weight=5;, score=0.872 total time=   0.3s\n",
            "[CV 3/5] END eta=0.4340908630710819, gamma=3, max_depth=3, min_child_weight=5;, score=0.838 total time=   0.3s\n",
            "[CV 4/5] END eta=0.4340908630710819, gamma=3, max_depth=3, min_child_weight=5;, score=0.839 total time=   0.3s\n",
            "[CV 5/5] END eta=0.4340908630710819, gamma=3, max_depth=3, min_child_weight=5;, score=0.872 total time=   0.3s\n",
            "Fitting 5 folds for each of 1 candidates, totalling 5 fits\n",
            "[CV 1/5] END eta=0.34035983370525413, gamma=0, max_depth=8, min_child_weight=4;, score=0.972 total time=   1.0s\n",
            "[CV 2/5] END eta=0.34035983370525413, gamma=0, max_depth=8, min_child_weight=4;, score=0.969 total time=   0.9s\n",
            "[CV 3/5] END eta=0.34035983370525413, gamma=0, max_depth=8, min_child_weight=4;, score=0.966 total time=   0.9s\n",
            "[CV 4/5] END eta=0.34035983370525413, gamma=0, max_depth=8, min_child_weight=4;, score=0.977 total time=   3.2s\n",
            "[CV 5/5] END eta=0.34035983370525413, gamma=0, max_depth=8, min_child_weight=4;, score=0.976 total time=   1.0s\n",
            "Fitting 5 folds for each of 1 candidates, totalling 5 fits\n",
            "[CV 1/5] END eta=0.13531733456099532, gamma=2, max_depth=3, min_child_weight=2;, score=0.840 total time=   0.3s\n",
            "[CV 2/5] END eta=0.13531733456099532, gamma=2, max_depth=3, min_child_weight=2;, score=0.857 total time=   0.4s\n",
            "[CV 3/5] END eta=0.13531733456099532, gamma=2, max_depth=3, min_child_weight=2;, score=0.848 total time=   0.4s\n",
            "[CV 4/5] END eta=0.13531733456099532, gamma=2, max_depth=3, min_child_weight=2;, score=0.821 total time=   0.3s\n",
            "[CV 5/5] END eta=0.13531733456099532, gamma=2, max_depth=3, min_child_weight=2;, score=0.852 total time=   0.4s\n",
            "Fitting 5 folds for each of 1 candidates, totalling 5 fits\n",
            "[CV 1/5] END eta=0.21710925285878532, gamma=4, max_depth=2, min_child_weight=3;, score=0.739 total time=   0.2s\n",
            "[CV 2/5] END eta=0.21710925285878532, gamma=4, max_depth=2, min_child_weight=3;, score=0.757 total time=   0.2s\n",
            "[CV 3/5] END eta=0.21710925285878532, gamma=4, max_depth=2, min_child_weight=3;, score=0.770 total time=   0.3s\n",
            "[CV 4/5] END eta=0.21710925285878532, gamma=4, max_depth=2, min_child_weight=3;, score=0.695 total time=   0.2s\n",
            "[CV 5/5] END eta=0.21710925285878532, gamma=4, max_depth=2, min_child_weight=3;, score=0.764 total time=   0.2s\n",
            "Fitting 5 folds for each of 1 candidates, totalling 5 fits\n",
            "[CV 1/5] END eta=0.40889601548252896, gamma=2, max_depth=3, min_child_weight=1;, score=0.869 total time=   0.4s\n",
            "[CV 2/5] END eta=0.40889601548252896, gamma=2, max_depth=3, min_child_weight=1;, score=0.886 total time=   0.3s\n",
            "[CV 3/5] END eta=0.40889601548252896, gamma=2, max_depth=3, min_child_weight=1;, score=0.881 total time=   0.4s\n",
            "[CV 4/5] END eta=0.40889601548252896, gamma=2, max_depth=3, min_child_weight=1;, score=0.896 total time=   0.3s\n",
            "[CV 5/5] END eta=0.40889601548252896, gamma=2, max_depth=3, min_child_weight=1;, score=0.892 total time=   0.3s\n",
            "Fitting 5 folds for each of 1 candidates, totalling 5 fits\n",
            "[CV 1/5] END eta=0.5, gamma=0, max_depth=6, min_child_weight=1;, score=0.963 total time=   0.7s\n",
            "[CV 2/5] END eta=0.5, gamma=0, max_depth=6, min_child_weight=1;, score=0.967 total time=   0.7s\n",
            "[CV 3/5] END eta=0.5, gamma=0, max_depth=6, min_child_weight=1;, score=0.969 total time=   1.8s\n",
            "[CV 4/5] END eta=0.5, gamma=0, max_depth=6, min_child_weight=1;, score=0.974 total time=   2.0s\n",
            "[CV 5/5] END eta=0.5, gamma=0, max_depth=6, min_child_weight=1;, score=0.965 total time=   0.7s\n",
            "Fitting 5 folds for each of 1 candidates, totalling 5 fits\n",
            "[CV 1/5] END eta=0.1, gamma=0, max_depth=7, min_child_weight=5;, score=0.967 total time=   0.8s\n",
            "[CV 2/5] END eta=0.1, gamma=0, max_depth=7, min_child_weight=5;, score=0.974 total time=   0.8s\n",
            "[CV 3/5] END eta=0.1, gamma=0, max_depth=7, min_child_weight=5;, score=0.972 total time=   0.8s\n",
            "[CV 4/5] END eta=0.1, gamma=0, max_depth=7, min_child_weight=5;, score=0.977 total time=   0.8s\n",
            "[CV 5/5] END eta=0.1, gamma=0, max_depth=7, min_child_weight=5;, score=0.975 total time=   0.8s\n",
            "Fitting 5 folds for each of 1 candidates, totalling 5 fits\n",
            "[CV 1/5] END eta=0.5, gamma=0, max_depth=9, min_child_weight=1;, score=0.964 total time=   1.1s\n",
            "[CV 2/5] END eta=0.5, gamma=0, max_depth=9, min_child_weight=1;, score=0.968 total time=   3.4s\n",
            "[CV 3/5] END eta=0.5, gamma=0, max_depth=9, min_child_weight=1;, score=0.960 total time=   1.1s\n",
            "[CV 4/5] END eta=0.5, gamma=0, max_depth=9, min_child_weight=1;, score=0.970 total time=   1.1s\n",
            "[CV 5/5] END eta=0.5, gamma=0, max_depth=9, min_child_weight=1;, score=0.963 total time=   1.1s\n",
            "Fitting 5 folds for each of 1 candidates, totalling 5 fits\n",
            "[CV 1/5] END eta=0.5, gamma=0, max_depth=7, min_child_weight=5;, score=0.964 total time=   0.8s\n",
            "[CV 2/5] END eta=0.5, gamma=0, max_depth=7, min_child_weight=5;, score=0.967 total time=   0.8s\n",
            "[CV 3/5] END eta=0.5, gamma=0, max_depth=7, min_child_weight=5;, score=0.968 total time=   0.8s\n",
            "[CV 4/5] END eta=0.5, gamma=0, max_depth=7, min_child_weight=5;, score=0.971 total time=   0.8s\n",
            "[CV 5/5] END eta=0.5, gamma=0, max_depth=7, min_child_weight=5;, score=0.968 total time=   0.9s\n",
            "Fitting 5 folds for each of 1 candidates, totalling 5 fits\n",
            "[CV 1/5] END eta=0.1, gamma=0, max_depth=9, min_child_weight=1;, score=0.973 total time=   3.2s\n",
            "[CV 2/5] END eta=0.1, gamma=0, max_depth=9, min_child_weight=1;, score=0.971 total time=   1.1s\n",
            "[CV 3/5] END eta=0.1, gamma=0, max_depth=9, min_child_weight=1;, score=0.971 total time=   1.0s\n",
            "[CV 4/5] END eta=0.1, gamma=0, max_depth=9, min_child_weight=1;, score=0.978 total time=   1.0s\n",
            "[CV 5/5] END eta=0.1, gamma=0, max_depth=9, min_child_weight=1;, score=0.976 total time=   1.0s\n",
            "Fitting 5 folds for each of 1 candidates, totalling 5 fits\n",
            "[CV 1/5] END eta=0.1, gamma=0, max_depth=9, min_child_weight=5;, score=0.973 total time=   1.0s\n",
            "[CV 2/5] END eta=0.1, gamma=0, max_depth=9, min_child_weight=5;, score=0.972 total time=   1.0s\n",
            "[CV 3/5] END eta=0.1, gamma=0, max_depth=9, min_child_weight=5;, score=0.971 total time=   1.0s\n",
            "[CV 4/5] END eta=0.1, gamma=0, max_depth=9, min_child_weight=5;, score=0.978 total time=   3.4s\n",
            "[CV 5/5] END eta=0.1, gamma=0, max_depth=9, min_child_weight=5;, score=0.977 total time=   1.0s\n",
            "Fitting 5 folds for each of 1 candidates, totalling 5 fits\n",
            "[CV 1/5] END eta=0.5, gamma=0, max_depth=5, min_child_weight=5;, score=0.967 total time=   0.6s\n",
            "[CV 2/5] END eta=0.5, gamma=0, max_depth=5, min_child_weight=5;, score=0.966 total time=   0.6s\n",
            "[CV 3/5] END eta=0.5, gamma=0, max_depth=5, min_child_weight=5;, score=0.969 total time=   0.6s\n",
            "[CV 4/5] END eta=0.5, gamma=0, max_depth=5, min_child_weight=5;, score=0.975 total time=   0.6s\n",
            "[CV 5/5] END eta=0.5, gamma=0, max_depth=5, min_child_weight=5;, score=0.968 total time=   0.6s\n",
            "Fitting 5 folds for each of 1 candidates, totalling 5 fits\n",
            "[CV 1/5] END eta=0.1, gamma=2, max_depth=9, min_child_weight=5;, score=0.907 total time=   1.0s\n",
            "[CV 2/5] END eta=0.1, gamma=2, max_depth=9, min_child_weight=5;, score=0.916 total time=   1.0s\n",
            "[CV 3/5] END eta=0.1, gamma=2, max_depth=9, min_child_weight=5;, score=0.920 total time=   3.0s\n",
            "[CV 4/5] END eta=0.1, gamma=2, max_depth=9, min_child_weight=5;, score=0.915 total time=   1.2s\n",
            "[CV 5/5] END eta=0.1, gamma=2, max_depth=9, min_child_weight=5;, score=0.909 total time=   0.9s\n",
            "Fitting 5 folds for each of 1 candidates, totalling 5 fits\n",
            "[CV 1/5] END eta=0.1, gamma=0, max_depth=6, min_child_weight=1;, score=0.967 total time=   0.7s\n",
            "[CV 2/5] END eta=0.1, gamma=0, max_depth=6, min_child_weight=1;, score=0.970 total time=   0.7s\n",
            "[CV 3/5] END eta=0.1, gamma=0, max_depth=6, min_child_weight=1;, score=0.973 total time=   0.7s\n",
            "[CV 4/5] END eta=0.1, gamma=0, max_depth=6, min_child_weight=1;, score=0.973 total time=   0.7s\n",
            "[CV 5/5] END eta=0.1, gamma=0, max_depth=6, min_child_weight=1;, score=0.971 total time=   0.7s\n",
            "Fitting 5 folds for each of 1 candidates, totalling 5 fits\n",
            "[CV 1/5] END eta=0.1, gamma=0, max_depth=8, min_child_weight=1;, score=0.971 total time=   0.9s\n",
            "[CV 2/5] END eta=0.1, gamma=0, max_depth=8, min_child_weight=1;, score=0.977 total time=   2.1s\n",
            "[CV 3/5] END eta=0.1, gamma=0, max_depth=8, min_child_weight=1;, score=0.971 total time=   2.0s\n",
            "[CV 4/5] END eta=0.1, gamma=0, max_depth=8, min_child_weight=1;, score=0.978 total time=   0.9s\n",
            "[CV 5/5] END eta=0.1, gamma=0, max_depth=8, min_child_weight=1;, score=0.976 total time=   0.9s\n"
          ]
        },
        {
          "data": {
            "text/html": [
              "<style>#sk-container-id-2 {color: black;background-color: white;}#sk-container-id-2 pre{padding: 0;}#sk-container-id-2 div.sk-toggleable {background-color: white;}#sk-container-id-2 label.sk-toggleable__label {cursor: pointer;display: block;width: 100%;margin-bottom: 0;padding: 0.3em;box-sizing: border-box;text-align: center;}#sk-container-id-2 label.sk-toggleable__label-arrow:before {content: \"▸\";float: left;margin-right: 0.25em;color: #696969;}#sk-container-id-2 label.sk-toggleable__label-arrow:hover:before {color: black;}#sk-container-id-2 div.sk-estimator:hover label.sk-toggleable__label-arrow:before {color: black;}#sk-container-id-2 div.sk-toggleable__content {max-height: 0;max-width: 0;overflow: hidden;text-align: left;background-color: #f0f8ff;}#sk-container-id-2 div.sk-toggleable__content pre {margin: 0.2em;color: black;border-radius: 0.25em;background-color: #f0f8ff;}#sk-container-id-2 input.sk-toggleable__control:checked~div.sk-toggleable__content {max-height: 200px;max-width: 100%;overflow: auto;}#sk-container-id-2 input.sk-toggleable__control:checked~label.sk-toggleable__label-arrow:before {content: \"▾\";}#sk-container-id-2 div.sk-estimator input.sk-toggleable__control:checked~label.sk-toggleable__label {background-color: #d4ebff;}#sk-container-id-2 div.sk-label input.sk-toggleable__control:checked~label.sk-toggleable__label {background-color: #d4ebff;}#sk-container-id-2 input.sk-hidden--visually {border: 0;clip: rect(1px 1px 1px 1px);clip: rect(1px, 1px, 1px, 1px);height: 1px;margin: -1px;overflow: hidden;padding: 0;position: absolute;width: 1px;}#sk-container-id-2 div.sk-estimator {font-family: monospace;background-color: #f0f8ff;border: 1px dotted black;border-radius: 0.25em;box-sizing: border-box;margin-bottom: 0.5em;}#sk-container-id-2 div.sk-estimator:hover {background-color: #d4ebff;}#sk-container-id-2 div.sk-parallel-item::after {content: \"\";width: 100%;border-bottom: 1px solid gray;flex-grow: 1;}#sk-container-id-2 div.sk-label:hover label.sk-toggleable__label {background-color: #d4ebff;}#sk-container-id-2 div.sk-serial::before {content: \"\";position: absolute;border-left: 1px solid gray;box-sizing: border-box;top: 0;bottom: 0;left: 50%;z-index: 0;}#sk-container-id-2 div.sk-serial {display: flex;flex-direction: column;align-items: center;background-color: white;padding-right: 0.2em;padding-left: 0.2em;position: relative;}#sk-container-id-2 div.sk-item {position: relative;z-index: 1;}#sk-container-id-2 div.sk-parallel {display: flex;align-items: stretch;justify-content: center;background-color: white;position: relative;}#sk-container-id-2 div.sk-item::before, #sk-container-id-2 div.sk-parallel-item::before {content: \"\";position: absolute;border-left: 1px solid gray;box-sizing: border-box;top: 0;bottom: 0;left: 50%;z-index: -1;}#sk-container-id-2 div.sk-parallel-item {display: flex;flex-direction: column;z-index: 1;position: relative;background-color: white;}#sk-container-id-2 div.sk-parallel-item:first-child::after {align-self: flex-end;width: 50%;}#sk-container-id-2 div.sk-parallel-item:last-child::after {align-self: flex-start;width: 50%;}#sk-container-id-2 div.sk-parallel-item:only-child::after {width: 0;}#sk-container-id-2 div.sk-dashed-wrapped {border: 1px dashed gray;margin: 0 0.4em 0.5em 0.4em;box-sizing: border-box;padding-bottom: 0.4em;background-color: white;}#sk-container-id-2 div.sk-label label {font-family: monospace;font-weight: bold;display: inline-block;line-height: 1.2em;}#sk-container-id-2 div.sk-label-container {text-align: center;}#sk-container-id-2 div.sk-container {/* jupyter's `normalize.less` sets `[hidden] { display: none; }` but bootstrap.min.css set `[hidden] { display: none !important; }` so we also need the `!important` here to be able to override the default hidden behavior on the sphinx rendered scikit-learn.org. See: https://github.com/scikit-learn/scikit-learn/issues/21755 */display: inline-block !important;position: relative;}#sk-container-id-2 div.sk-text-repr-fallback {display: none;}</style><div id=\"sk-container-id-2\" class=\"sk-top-container\"><div class=\"sk-text-repr-fallback\"><pre>BayesSearchCV(estimator=XGBRegressor(base_score=None, booster=None,\n",
              "                                     callbacks=None, colsample_bylevel=None,\n",
              "                                     colsample_bynode=None,\n",
              "                                     colsample_bytree=None,\n",
              "                                     early_stopping_rounds=None,\n",
              "                                     enable_categorical=False, eval_metric=None,\n",
              "                                     feature_types=None, gamma=None,\n",
              "                                     gpu_id=None, grow_policy=None,\n",
              "                                     importance_type=None,\n",
              "                                     interaction_constraints=None,\n",
              "                                     learning_rate=None, max_b...\n",
              "                                     max_cat_threshold=None,\n",
              "                                     max_cat_to_onehot=None,\n",
              "                                     max_delta_step=None, max_depth=None,\n",
              "                                     max_leaves=None, min_child_weight=None,\n",
              "                                     missing=nan, monotone_constraints=None,\n",
              "                                     n_estimators=100, n_jobs=None,\n",
              "                                     num_parallel_tree=None, predictor=None,\n",
              "                                     random_state=15, ...),\n",
              "              n_iter=20,\n",
              "              search_spaces={&#x27;eta&#x27;: [0.1, 0.5], &#x27;gamma&#x27;: [0, 5],\n",
              "                             &#x27;max_depth&#x27;: [1, 9], &#x27;min_child_weight&#x27;: [1, 5]},\n",
              "              verbose=3)</pre><b>In a Jupyter environment, please rerun this cell to show the HTML representation or trust the notebook. <br />On GitHub, the HTML representation is unable to render, please try loading this page with nbviewer.org.</b></div><div class=\"sk-container\" hidden><div class=\"sk-item sk-dashed-wrapped\"><div class=\"sk-label-container\"><div class=\"sk-label sk-toggleable\"><input class=\"sk-toggleable__control sk-hidden--visually\" id=\"sk-estimator-id-4\" type=\"checkbox\" ><label for=\"sk-estimator-id-4\" class=\"sk-toggleable__label sk-toggleable__label-arrow\">BayesSearchCV</label><div class=\"sk-toggleable__content\"><pre>BayesSearchCV(estimator=XGBRegressor(base_score=None, booster=None,\n",
              "                                     callbacks=None, colsample_bylevel=None,\n",
              "                                     colsample_bynode=None,\n",
              "                                     colsample_bytree=None,\n",
              "                                     early_stopping_rounds=None,\n",
              "                                     enable_categorical=False, eval_metric=None,\n",
              "                                     feature_types=None, gamma=None,\n",
              "                                     gpu_id=None, grow_policy=None,\n",
              "                                     importance_type=None,\n",
              "                                     interaction_constraints=None,\n",
              "                                     learning_rate=None, max_b...\n",
              "                                     max_cat_threshold=None,\n",
              "                                     max_cat_to_onehot=None,\n",
              "                                     max_delta_step=None, max_depth=None,\n",
              "                                     max_leaves=None, min_child_weight=None,\n",
              "                                     missing=nan, monotone_constraints=None,\n",
              "                                     n_estimators=100, n_jobs=None,\n",
              "                                     num_parallel_tree=None, predictor=None,\n",
              "                                     random_state=15, ...),\n",
              "              n_iter=20,\n",
              "              search_spaces={&#x27;eta&#x27;: [0.1, 0.5], &#x27;gamma&#x27;: [0, 5],\n",
              "                             &#x27;max_depth&#x27;: [1, 9], &#x27;min_child_weight&#x27;: [1, 5]},\n",
              "              verbose=3)</pre></div></div></div><div class=\"sk-parallel\"><div class=\"sk-parallel-item\"><div class=\"sk-item\"><div class=\"sk-label-container\"><div class=\"sk-label sk-toggleable\"><input class=\"sk-toggleable__control sk-hidden--visually\" id=\"sk-estimator-id-5\" type=\"checkbox\" ><label for=\"sk-estimator-id-5\" class=\"sk-toggleable__label sk-toggleable__label-arrow\">estimator: XGBRegressor</label><div class=\"sk-toggleable__content\"><pre>XGBRegressor(base_score=None, booster=None, callbacks=None,\n",
              "             colsample_bylevel=None, colsample_bynode=None,\n",
              "             colsample_bytree=None, early_stopping_rounds=None,\n",
              "             enable_categorical=False, eval_metric=None, feature_types=None,\n",
              "             gamma=None, gpu_id=None, grow_policy=None, importance_type=None,\n",
              "             interaction_constraints=None, learning_rate=None, max_bin=None,\n",
              "             max_cat_threshold=None, max_cat_to_onehot=None,\n",
              "             max_delta_step=None, max_depth=None, max_leaves=None,\n",
              "             min_child_weight=None, missing=nan, monotone_constraints=None,\n",
              "             n_estimators=100, n_jobs=None, num_parallel_tree=None,\n",
              "             predictor=None, random_state=15, ...)</pre></div></div></div><div class=\"sk-serial\"><div class=\"sk-item\"><div class=\"sk-estimator sk-toggleable\"><input class=\"sk-toggleable__control sk-hidden--visually\" id=\"sk-estimator-id-6\" type=\"checkbox\" ><label for=\"sk-estimator-id-6\" class=\"sk-toggleable__label sk-toggleable__label-arrow\">XGBRegressor</label><div class=\"sk-toggleable__content\"><pre>XGBRegressor(base_score=None, booster=None, callbacks=None,\n",
              "             colsample_bylevel=None, colsample_bynode=None,\n",
              "             colsample_bytree=None, early_stopping_rounds=None,\n",
              "             enable_categorical=False, eval_metric=None, feature_types=None,\n",
              "             gamma=None, gpu_id=None, grow_policy=None, importance_type=None,\n",
              "             interaction_constraints=None, learning_rate=None, max_bin=None,\n",
              "             max_cat_threshold=None, max_cat_to_onehot=None,\n",
              "             max_delta_step=None, max_depth=None, max_leaves=None,\n",
              "             min_child_weight=None, missing=nan, monotone_constraints=None,\n",
              "             n_estimators=100, n_jobs=None, num_parallel_tree=None,\n",
              "             predictor=None, random_state=15, ...)</pre></div></div></div></div></div></div></div></div></div></div>"
            ],
            "text/plain": [
              "BayesSearchCV(estimator=XGBRegressor(base_score=None, booster=None,\n",
              "                                     callbacks=None, colsample_bylevel=None,\n",
              "                                     colsample_bynode=None,\n",
              "                                     colsample_bytree=None,\n",
              "                                     early_stopping_rounds=None,\n",
              "                                     enable_categorical=False, eval_metric=None,\n",
              "                                     feature_types=None, gamma=None,\n",
              "                                     gpu_id=None, grow_policy=None,\n",
              "                                     importance_type=None,\n",
              "                                     interaction_constraints=None,\n",
              "                                     learning_rate=None, max_b...\n",
              "                                     max_cat_threshold=None,\n",
              "                                     max_cat_to_onehot=None,\n",
              "                                     max_delta_step=None, max_depth=None,\n",
              "                                     max_leaves=None, min_child_weight=None,\n",
              "                                     missing=nan, monotone_constraints=None,\n",
              "                                     n_estimators=100, n_jobs=None,\n",
              "                                     num_parallel_tree=None, predictor=None,\n",
              "                                     random_state=15, ...),\n",
              "              n_iter=20,\n",
              "              search_spaces={'eta': [0.1, 0.5], 'gamma': [0, 5],\n",
              "                             'max_depth': [1, 9], 'min_child_weight': [1, 5]},\n",
              "              verbose=3)"
            ]
          },
          "execution_count": 48,
          "metadata": {},
          "output_type": "execute_result"
        }
      ],
      "source": [
        "bayesxgb = BayesSearchCV(reg1,search_spaces = search_space1, n_iter = 20,verbose = 3)\n",
        "bayesxgb.fit(X_train,y_train)"
      ]
    },
    {
      "cell_type": "code",
      "execution_count": null,
      "metadata": {
        "colab": {
          "base_uri": "https://localhost:8080/"
        },
        "id": "Jl5HfyUfRpQ7",
        "outputId": "b42699c3-421e-4e26-cc7f-ff86230a8554"
      },
      "outputs": [
        {
          "name": "stdout",
          "output_type": "stream",
          "text": [
            "Fitting 5 folds for each of 1 candidates, totalling 5 fits\n",
            "[CV 1/5] END min_samples_leaf=9, min_samples_split=6, n_estimators=50;, score=0.938 total time=   1.1s\n",
            "[CV 2/5] END min_samples_leaf=9, min_samples_split=6, n_estimators=50;, score=0.962 total time=   1.0s\n",
            "[CV 3/5] END min_samples_leaf=9, min_samples_split=6, n_estimators=50;, score=0.964 total time=   1.0s\n",
            "[CV 4/5] END min_samples_leaf=9, min_samples_split=6, n_estimators=50;, score=0.951 total time=   1.0s\n",
            "[CV 5/5] END min_samples_leaf=9, min_samples_split=6, n_estimators=50;, score=0.946 total time=   1.0s\n",
            "Fitting 5 folds for each of 1 candidates, totalling 5 fits\n",
            "[CV 1/5] END min_samples_leaf=9, min_samples_split=5, n_estimators=50;, score=0.938 total time=   1.2s\n",
            "[CV 2/5] END min_samples_leaf=9, min_samples_split=5, n_estimators=50;, score=0.962 total time=   1.5s\n",
            "[CV 3/5] END min_samples_leaf=9, min_samples_split=5, n_estimators=50;, score=0.964 total time=   1.6s\n",
            "[CV 4/5] END min_samples_leaf=9, min_samples_split=5, n_estimators=50;, score=0.951 total time=   1.2s\n",
            "[CV 5/5] END min_samples_leaf=9, min_samples_split=5, n_estimators=50;, score=0.946 total time=   1.0s\n",
            "Fitting 5 folds for each of 1 candidates, totalling 5 fits\n",
            "[CV 1/5] END min_samples_leaf=9, min_samples_split=2, n_estimators=41;, score=0.938 total time=   0.8s\n",
            "[CV 2/5] END min_samples_leaf=9, min_samples_split=2, n_estimators=41;, score=0.962 total time=   0.9s\n",
            "[CV 3/5] END min_samples_leaf=9, min_samples_split=2, n_estimators=41;, score=0.963 total time=   0.8s\n",
            "[CV 4/5] END min_samples_leaf=9, min_samples_split=2, n_estimators=41;, score=0.951 total time=   0.8s\n",
            "[CV 5/5] END min_samples_leaf=9, min_samples_split=2, n_estimators=41;, score=0.947 total time=   0.8s\n",
            "Fitting 5 folds for each of 1 candidates, totalling 5 fits\n",
            "[CV 1/5] END min_samples_leaf=9, min_samples_split=6, n_estimators=46;, score=0.938 total time=   0.9s\n",
            "[CV 2/5] END min_samples_leaf=9, min_samples_split=6, n_estimators=46;, score=0.962 total time=   0.9s\n",
            "[CV 3/5] END min_samples_leaf=9, min_samples_split=6, n_estimators=46;, score=0.964 total time=   0.9s\n",
            "[CV 4/5] END min_samples_leaf=9, min_samples_split=6, n_estimators=46;, score=0.951 total time=   0.9s\n",
            "[CV 5/5] END min_samples_leaf=9, min_samples_split=6, n_estimators=46;, score=0.946 total time=   1.2s\n",
            "Fitting 5 folds for each of 1 candidates, totalling 5 fits\n",
            "[CV 1/5] END min_samples_leaf=9, min_samples_split=7, n_estimators=47;, score=0.938 total time=   1.5s\n",
            "[CV 2/5] END min_samples_leaf=9, min_samples_split=7, n_estimators=47;, score=0.962 total time=   1.5s\n",
            "[CV 3/5] END min_samples_leaf=9, min_samples_split=7, n_estimators=47;, score=0.964 total time=   1.1s\n",
            "[CV 4/5] END min_samples_leaf=9, min_samples_split=7, n_estimators=47;, score=0.951 total time=   1.0s\n",
            "[CV 5/5] END min_samples_leaf=9, min_samples_split=7, n_estimators=47;, score=0.946 total time=   0.9s\n",
            "Fitting 5 folds for each of 1 candidates, totalling 5 fits\n",
            "[CV 1/5] END min_samples_leaf=3, min_samples_split=5, n_estimators=45;, score=0.946 total time=   1.1s\n",
            "[CV 2/5] END min_samples_leaf=3, min_samples_split=5, n_estimators=45;, score=0.974 total time=   1.1s\n",
            "[CV 3/5] END min_samples_leaf=3, min_samples_split=5, n_estimators=45;, score=0.968 total time=   1.1s\n",
            "[CV 4/5] END min_samples_leaf=3, min_samples_split=5, n_estimators=45;, score=0.958 total time=   1.1s\n",
            "[CV 5/5] END min_samples_leaf=3, min_samples_split=5, n_estimators=45;, score=0.955 total time=   1.1s\n",
            "Fitting 5 folds for each of 1 candidates, totalling 5 fits\n",
            "[CV 1/5] END min_samples_leaf=2, min_samples_split=6, n_estimators=47;, score=0.946 total time=   1.2s\n",
            "[CV 2/5] END min_samples_leaf=2, min_samples_split=6, n_estimators=47;, score=0.975 total time=   1.4s\n",
            "[CV 3/5] END min_samples_leaf=2, min_samples_split=6, n_estimators=47;, score=0.968 total time=   1.8s\n",
            "[CV 4/5] END min_samples_leaf=2, min_samples_split=6, n_estimators=47;, score=0.958 total time=   1.7s\n",
            "[CV 5/5] END min_samples_leaf=2, min_samples_split=6, n_estimators=47;, score=0.957 total time=   1.2s\n",
            "Fitting 5 folds for each of 1 candidates, totalling 5 fits\n",
            "[CV 1/5] END min_samples_leaf=5, min_samples_split=5, n_estimators=41;, score=0.944 total time=   0.9s\n",
            "[CV 2/5] END min_samples_leaf=5, min_samples_split=5, n_estimators=41;, score=0.970 total time=   0.9s\n",
            "[CV 3/5] END min_samples_leaf=5, min_samples_split=5, n_estimators=41;, score=0.967 total time=   0.9s\n",
            "[CV 4/5] END min_samples_leaf=5, min_samples_split=5, n_estimators=41;, score=0.956 total time=   0.9s\n",
            "[CV 5/5] END min_samples_leaf=5, min_samples_split=5, n_estimators=41;, score=0.953 total time=   0.9s\n",
            "Fitting 5 folds for each of 1 candidates, totalling 5 fits\n",
            "[CV 1/5] END min_samples_leaf=8, min_samples_split=3, n_estimators=46;, score=0.940 total time=   0.9s\n",
            "[CV 2/5] END min_samples_leaf=8, min_samples_split=3, n_estimators=46;, score=0.965 total time=   0.9s\n",
            "[CV 3/5] END min_samples_leaf=8, min_samples_split=3, n_estimators=46;, score=0.965 total time=   0.9s\n",
            "[CV 4/5] END min_samples_leaf=8, min_samples_split=3, n_estimators=46;, score=0.952 total time=   1.0s\n",
            "[CV 5/5] END min_samples_leaf=8, min_samples_split=3, n_estimators=46;, score=0.948 total time=   1.3s\n",
            "Fitting 5 folds for each of 1 candidates, totalling 5 fits\n",
            "[CV 1/5] END min_samples_leaf=6, min_samples_split=5, n_estimators=47;, score=0.943 total time=   1.6s\n",
            "[CV 2/5] END min_samples_leaf=6, min_samples_split=5, n_estimators=47;, score=0.968 total time=   1.4s\n",
            "[CV 3/5] END min_samples_leaf=6, min_samples_split=5, n_estimators=47;, score=0.966 total time=   1.0s\n",
            "[CV 4/5] END min_samples_leaf=6, min_samples_split=5, n_estimators=47;, score=0.955 total time=   1.0s\n",
            "[CV 5/5] END min_samples_leaf=6, min_samples_split=5, n_estimators=47;, score=0.951 total time=   1.0s\n",
            "Fitting 5 folds for each of 1 candidates, totalling 5 fits\n",
            "[CV 1/5] END min_samples_leaf=1, min_samples_split=2, n_estimators=40;, score=0.946 total time=   1.2s\n",
            "[CV 2/5] END min_samples_leaf=1, min_samples_split=2, n_estimators=40;, score=0.976 total time=   1.2s\n",
            "[CV 3/5] END min_samples_leaf=1, min_samples_split=2, n_estimators=40;, score=0.968 total time=   1.2s\n",
            "[CV 4/5] END min_samples_leaf=1, min_samples_split=2, n_estimators=40;, score=0.959 total time=   1.2s\n",
            "[CV 5/5] END min_samples_leaf=1, min_samples_split=2, n_estimators=40;, score=0.957 total time=   1.4s\n",
            "Fitting 5 folds for each of 1 candidates, totalling 5 fits\n",
            "[CV 1/5] END min_samples_leaf=3, min_samples_split=3, n_estimators=46;, score=0.946 total time=   1.7s\n",
            "[CV 2/5] END min_samples_leaf=3, min_samples_split=3, n_estimators=46;, score=0.974 total time=   1.4s\n",
            "[CV 3/5] END min_samples_leaf=3, min_samples_split=3, n_estimators=46;, score=0.968 total time=   1.1s\n",
            "[CV 4/5] END min_samples_leaf=3, min_samples_split=3, n_estimators=46;, score=0.958 total time=   1.1s\n",
            "[CV 5/5] END min_samples_leaf=3, min_samples_split=3, n_estimators=46;, score=0.955 total time=   1.1s\n",
            "Fitting 5 folds for each of 1 candidates, totalling 5 fits\n",
            "[CV 1/5] END min_samples_leaf=1, min_samples_split=7, n_estimators=40;, score=0.946 total time=   1.1s\n",
            "[CV 2/5] END min_samples_leaf=1, min_samples_split=7, n_estimators=40;, score=0.975 total time=   1.0s\n",
            "[CV 3/5] END min_samples_leaf=1, min_samples_split=7, n_estimators=40;, score=0.968 total time=   1.0s\n",
            "[CV 4/5] END min_samples_leaf=1, min_samples_split=7, n_estimators=40;, score=0.959 total time=   1.0s\n",
            "[CV 5/5] END min_samples_leaf=1, min_samples_split=7, n_estimators=40;, score=0.956 total time=   1.0s\n",
            "Fitting 5 folds for each of 1 candidates, totalling 5 fits\n",
            "[CV 1/5] END min_samples_leaf=10, min_samples_split=3, n_estimators=46;, score=0.936 total time=   1.4s\n",
            "[CV 2/5] END min_samples_leaf=10, min_samples_split=3, n_estimators=46;, score=0.961 total time=   1.4s\n",
            "[CV 3/5] END min_samples_leaf=10, min_samples_split=3, n_estimators=46;, score=0.963 total time=   1.0s\n",
            "[CV 4/5] END min_samples_leaf=10, min_samples_split=3, n_estimators=46;, score=0.949 total time=   0.9s\n",
            "[CV 5/5] END min_samples_leaf=10, min_samples_split=3, n_estimators=46;, score=0.945 total time=   0.9s\n",
            "Fitting 5 folds for each of 1 candidates, totalling 5 fits\n",
            "[CV 1/5] END min_samples_leaf=7, min_samples_split=6, n_estimators=42;, score=0.941 total time=   0.9s\n",
            "[CV 2/5] END min_samples_leaf=7, min_samples_split=6, n_estimators=42;, score=0.966 total time=   0.9s\n",
            "[CV 3/5] END min_samples_leaf=7, min_samples_split=6, n_estimators=42;, score=0.965 total time=   0.9s\n",
            "[CV 4/5] END min_samples_leaf=7, min_samples_split=6, n_estimators=42;, score=0.954 total time=   0.9s\n",
            "[CV 5/5] END min_samples_leaf=7, min_samples_split=6, n_estimators=42;, score=0.950 total time=   0.9s\n",
            "Fitting 5 folds for each of 1 candidates, totalling 5 fits\n",
            "[CV 1/5] END min_samples_leaf=4, min_samples_split=5, n_estimators=41;, score=0.945 total time=   1.0s\n",
            "[CV 2/5] END min_samples_leaf=4, min_samples_split=5, n_estimators=41;, score=0.972 total time=   1.2s\n",
            "[CV 3/5] END min_samples_leaf=4, min_samples_split=5, n_estimators=41;, score=0.968 total time=   1.5s\n",
            "[CV 4/5] END min_samples_leaf=4, min_samples_split=5, n_estimators=41;, score=0.957 total time=   1.4s\n",
            "[CV 5/5] END min_samples_leaf=4, min_samples_split=5, n_estimators=41;, score=0.954 total time=   1.0s\n",
            "Fitting 5 folds for each of 1 candidates, totalling 5 fits\n",
            "[CV 1/5] END min_samples_leaf=7, min_samples_split=5, n_estimators=48;, score=0.941 total time=   1.0s\n",
            "[CV 2/5] END min_samples_leaf=7, min_samples_split=5, n_estimators=48;, score=0.966 total time=   1.0s\n",
            "[CV 3/5] END min_samples_leaf=7, min_samples_split=5, n_estimators=48;, score=0.965 total time=   1.0s\n",
            "[CV 4/5] END min_samples_leaf=7, min_samples_split=5, n_estimators=48;, score=0.954 total time=   1.0s\n",
            "[CV 5/5] END min_samples_leaf=7, min_samples_split=5, n_estimators=48;, score=0.949 total time=   1.0s\n",
            "Fitting 5 folds for each of 1 candidates, totalling 5 fits\n",
            "[CV 1/5] END min_samples_leaf=4, min_samples_split=3, n_estimators=41;, score=0.945 total time=   1.0s\n",
            "[CV 2/5] END min_samples_leaf=4, min_samples_split=3, n_estimators=41;, score=0.972 total time=   0.9s\n",
            "[CV 3/5] END min_samples_leaf=4, min_samples_split=3, n_estimators=41;, score=0.968 total time=   0.9s\n",
            "[CV 4/5] END min_samples_leaf=4, min_samples_split=3, n_estimators=41;, score=0.957 total time=   1.4s\n",
            "[CV 5/5] END min_samples_leaf=4, min_samples_split=3, n_estimators=41;, score=0.954 total time=   1.4s\n",
            "Fitting 5 folds for each of 1 candidates, totalling 5 fits\n",
            "[CV 1/5] END min_samples_leaf=8, min_samples_split=3, n_estimators=44;, score=0.940 total time=   0.9s\n",
            "[CV 2/5] END min_samples_leaf=8, min_samples_split=3, n_estimators=44;, score=0.964 total time=   0.9s\n",
            "[CV 3/5] END min_samples_leaf=8, min_samples_split=3, n_estimators=44;, score=0.965 total time=   0.9s\n",
            "[CV 4/5] END min_samples_leaf=8, min_samples_split=3, n_estimators=44;, score=0.952 total time=   0.9s\n",
            "[CV 5/5] END min_samples_leaf=8, min_samples_split=3, n_estimators=44;, score=0.948 total time=   0.9s\n",
            "Fitting 5 folds for each of 1 candidates, totalling 5 fits\n",
            "[CV 1/5] END min_samples_leaf=9, min_samples_split=5, n_estimators=44;, score=0.938 total time=   1.0s\n",
            "[CV 2/5] END min_samples_leaf=9, min_samples_split=5, n_estimators=44;, score=0.962 total time=   0.9s\n",
            "[CV 3/5] END min_samples_leaf=9, min_samples_split=5, n_estimators=44;, score=0.964 total time=   0.9s\n",
            "[CV 4/5] END min_samples_leaf=9, min_samples_split=5, n_estimators=44;, score=0.951 total time=   0.9s\n",
            "[CV 5/5] END min_samples_leaf=9, min_samples_split=5, n_estimators=44;, score=0.946 total time=   0.9s\n"
          ]
        },
        {
          "name": "stderr",
          "output_type": "stream",
          "text": [
            "/usr/local/lib/python3.10/dist-packages/skopt/optimizer/optimizer.py:449: UserWarning: The objective has been evaluated at this point before.\n",
            "  warnings.warn(\"The objective has been evaluated \"\n"
          ]
        },
        {
          "name": "stdout",
          "output_type": "stream",
          "text": [
            "Fitting 5 folds for each of 1 candidates, totalling 5 fits\n",
            "[CV 1/5] END min_samples_leaf=1, min_samples_split=2, n_estimators=40;, score=0.946 total time=   1.9s\n",
            "[CV 2/5] END min_samples_leaf=1, min_samples_split=2, n_estimators=40;, score=0.976 total time=   1.5s\n",
            "[CV 3/5] END min_samples_leaf=1, min_samples_split=2, n_estimators=40;, score=0.968 total time=   1.2s\n",
            "[CV 4/5] END min_samples_leaf=1, min_samples_split=2, n_estimators=40;, score=0.959 total time=   1.2s\n",
            "[CV 5/5] END min_samples_leaf=1, min_samples_split=2, n_estimators=40;, score=0.957 total time=   1.2s\n",
            "Fitting 5 folds for each of 1 candidates, totalling 5 fits\n",
            "[CV 1/5] END min_samples_leaf=1, min_samples_split=3, n_estimators=40;, score=0.946 total time=   1.2s\n",
            "[CV 2/5] END min_samples_leaf=1, min_samples_split=3, n_estimators=40;, score=0.975 total time=   1.1s\n",
            "[CV 3/5] END min_samples_leaf=1, min_samples_split=3, n_estimators=40;, score=0.968 total time=   1.1s\n",
            "[CV 4/5] END min_samples_leaf=1, min_samples_split=3, n_estimators=40;, score=0.959 total time=   1.2s\n",
            "[CV 5/5] END min_samples_leaf=1, min_samples_split=3, n_estimators=40;, score=0.957 total time=   1.7s\n",
            "Fitting 5 folds for each of 1 candidates, totalling 5 fits\n",
            "[CV 1/5] END min_samples_leaf=2, min_samples_split=7, n_estimators=49;, score=0.946 total time=   1.6s\n",
            "[CV 2/5] END min_samples_leaf=2, min_samples_split=7, n_estimators=49;, score=0.974 total time=   1.2s\n",
            "[CV 3/5] END min_samples_leaf=2, min_samples_split=7, n_estimators=49;, score=0.968 total time=   1.2s\n",
            "[CV 4/5] END min_samples_leaf=2, min_samples_split=7, n_estimators=49;, score=0.958 total time=   1.2s\n",
            "[CV 5/5] END min_samples_leaf=2, min_samples_split=7, n_estimators=49;, score=0.956 total time=   1.2s\n",
            "Fitting 5 folds for each of 1 candidates, totalling 5 fits\n",
            "[CV 1/5] END min_samples_leaf=2, min_samples_split=6, n_estimators=43;, score=0.946 total time=   1.1s\n",
            "[CV 2/5] END min_samples_leaf=2, min_samples_split=6, n_estimators=43;, score=0.975 total time=   1.1s\n",
            "[CV 3/5] END min_samples_leaf=2, min_samples_split=6, n_estimators=43;, score=0.968 total time=   1.1s\n",
            "[CV 4/5] END min_samples_leaf=2, min_samples_split=6, n_estimators=43;, score=0.958 total time=   1.4s\n",
            "[CV 5/5] END min_samples_leaf=2, min_samples_split=6, n_estimators=43;, score=0.957 total time=   1.6s\n"
          ]
        },
        {
          "name": "stderr",
          "output_type": "stream",
          "text": [
            "/usr/local/lib/python3.10/dist-packages/skopt/optimizer/optimizer.py:449: UserWarning: The objective has been evaluated at this point before.\n",
            "  warnings.warn(\"The objective has been evaluated \"\n"
          ]
        },
        {
          "name": "stdout",
          "output_type": "stream",
          "text": [
            "Fitting 5 folds for each of 1 candidates, totalling 5 fits\n",
            "[CV 1/5] END min_samples_leaf=1, min_samples_split=2, n_estimators=40;, score=0.946 total time=   1.2s\n",
            "[CV 2/5] END min_samples_leaf=1, min_samples_split=2, n_estimators=40;, score=0.976 total time=   1.2s\n",
            "[CV 3/5] END min_samples_leaf=1, min_samples_split=2, n_estimators=40;, score=0.968 total time=   1.2s\n",
            "[CV 4/5] END min_samples_leaf=1, min_samples_split=2, n_estimators=40;, score=0.959 total time=   1.2s\n",
            "[CV 5/5] END min_samples_leaf=1, min_samples_split=2, n_estimators=40;, score=0.957 total time=   1.2s\n"
          ]
        },
        {
          "name": "stderr",
          "output_type": "stream",
          "text": [
            "/usr/local/lib/python3.10/dist-packages/skopt/optimizer/optimizer.py:449: UserWarning: The objective has been evaluated at this point before.\n",
            "  warnings.warn(\"The objective has been evaluated \"\n"
          ]
        },
        {
          "name": "stdout",
          "output_type": "stream",
          "text": [
            "Fitting 5 folds for each of 1 candidates, totalling 5 fits\n",
            "[CV 1/5] END min_samples_leaf=1, min_samples_split=2, n_estimators=40;, score=0.946 total time=   1.2s\n",
            "[CV 2/5] END min_samples_leaf=1, min_samples_split=2, n_estimators=40;, score=0.976 total time=   1.2s\n",
            "[CV 3/5] END min_samples_leaf=1, min_samples_split=2, n_estimators=40;, score=0.968 total time=   1.5s\n",
            "[CV 4/5] END min_samples_leaf=1, min_samples_split=2, n_estimators=40;, score=0.959 total time=   1.9s\n",
            "[CV 5/5] END min_samples_leaf=1, min_samples_split=2, n_estimators=40;, score=0.957 total time=   1.6s\n",
            "Fitting 5 folds for each of 1 candidates, totalling 5 fits\n",
            "[CV 1/5] END min_samples_leaf=3, min_samples_split=5, n_estimators=43;, score=0.946 total time=   1.1s\n",
            "[CV 2/5] END min_samples_leaf=3, min_samples_split=5, n_estimators=43;, score=0.974 total time=   1.0s\n",
            "[CV 3/5] END min_samples_leaf=3, min_samples_split=5, n_estimators=43;, score=0.968 total time=   1.0s\n",
            "[CV 4/5] END min_samples_leaf=3, min_samples_split=5, n_estimators=43;, score=0.958 total time=   1.0s\n",
            "[CV 5/5] END min_samples_leaf=3, min_samples_split=5, n_estimators=43;, score=0.956 total time=   1.0s\n",
            "Fitting 5 folds for each of 1 candidates, totalling 5 fits\n",
            "[CV 1/5] END min_samples_leaf=3, min_samples_split=2, n_estimators=46;, score=0.946 total time=   1.1s\n",
            "[CV 2/5] END min_samples_leaf=3, min_samples_split=2, n_estimators=46;, score=0.974 total time=   1.1s\n",
            "[CV 3/5] END min_samples_leaf=3, min_samples_split=2, n_estimators=46;, score=0.968 total time=   1.6s\n",
            "[CV 4/5] END min_samples_leaf=3, min_samples_split=2, n_estimators=46;, score=0.958 total time=   1.7s\n",
            "[CV 5/5] END min_samples_leaf=3, min_samples_split=2, n_estimators=46;, score=0.955 total time=   1.5s\n",
            "Fitting 5 folds for each of 1 candidates, totalling 5 fits\n",
            "[CV 1/5] END min_samples_leaf=9, min_samples_split=6, n_estimators=41;, score=0.938 total time=   0.8s\n",
            "[CV 2/5] END min_samples_leaf=9, min_samples_split=6, n_estimators=41;, score=0.962 total time=   0.8s\n",
            "[CV 3/5] END min_samples_leaf=9, min_samples_split=6, n_estimators=41;, score=0.963 total time=   0.8s\n",
            "[CV 4/5] END min_samples_leaf=9, min_samples_split=6, n_estimators=41;, score=0.951 total time=   0.8s\n",
            "[CV 5/5] END min_samples_leaf=9, min_samples_split=6, n_estimators=41;, score=0.947 total time=   0.8s\n"
          ]
        },
        {
          "name": "stderr",
          "output_type": "stream",
          "text": [
            "/usr/local/lib/python3.10/dist-packages/skopt/optimizer/optimizer.py:449: UserWarning: The objective has been evaluated at this point before.\n",
            "  warnings.warn(\"The objective has been evaluated \"\n"
          ]
        },
        {
          "name": "stdout",
          "output_type": "stream",
          "text": [
            "Fitting 5 folds for each of 1 candidates, totalling 5 fits\n",
            "[CV 1/5] END min_samples_leaf=1, min_samples_split=2, n_estimators=40;, score=0.946 total time=   1.2s\n",
            "[CV 2/5] END min_samples_leaf=1, min_samples_split=2, n_estimators=40;, score=0.976 total time=   1.2s\n",
            "[CV 3/5] END min_samples_leaf=1, min_samples_split=2, n_estimators=40;, score=0.968 total time=   1.3s\n",
            "[CV 4/5] END min_samples_leaf=1, min_samples_split=2, n_estimators=40;, score=0.959 total time=   1.9s\n",
            "[CV 5/5] END min_samples_leaf=1, min_samples_split=2, n_estimators=40;, score=0.957 total time=   1.9s\n"
          ]
        },
        {
          "name": "stderr",
          "output_type": "stream",
          "text": [
            "/usr/local/lib/python3.10/dist-packages/skopt/optimizer/optimizer.py:449: UserWarning: The objective has been evaluated at this point before.\n",
            "  warnings.warn(\"The objective has been evaluated \"\n"
          ]
        },
        {
          "name": "stdout",
          "output_type": "stream",
          "text": [
            "Fitting 5 folds for each of 1 candidates, totalling 5 fits\n",
            "[CV 1/5] END min_samples_leaf=1, min_samples_split=2, n_estimators=40;, score=0.946 total time=   1.2s\n",
            "[CV 2/5] END min_samples_leaf=1, min_samples_split=2, n_estimators=40;, score=0.976 total time=   1.3s\n",
            "[CV 3/5] END min_samples_leaf=1, min_samples_split=2, n_estimators=40;, score=0.968 total time=   1.2s\n",
            "[CV 4/5] END min_samples_leaf=1, min_samples_split=2, n_estimators=40;, score=0.959 total time=   1.2s\n",
            "[CV 5/5] END min_samples_leaf=1, min_samples_split=2, n_estimators=40;, score=0.957 total time=   1.2s\n",
            "Fitting 5 folds for each of 1 candidates, totalling 5 fits\n",
            "[CV 1/5] END min_samples_leaf=5, min_samples_split=3, n_estimators=49;, score=0.944 total time=   1.1s\n",
            "[CV 2/5] END min_samples_leaf=5, min_samples_split=3, n_estimators=49;, score=0.970 total time=   1.3s\n",
            "[CV 3/5] END min_samples_leaf=5, min_samples_split=3, n_estimators=49;, score=0.967 total time=   1.6s\n",
            "[CV 4/5] END min_samples_leaf=5, min_samples_split=3, n_estimators=49;, score=0.956 total time=   1.7s\n",
            "[CV 5/5] END min_samples_leaf=5, min_samples_split=3, n_estimators=49;, score=0.952 total time=   1.1s\n",
            "Fitting 5 folds for each of 1 candidates, totalling 5 fits\n",
            "[CV 1/5] END min_samples_leaf=2, min_samples_split=4, n_estimators=48;, score=0.946 total time=   1.3s\n",
            "[CV 2/5] END min_samples_leaf=2, min_samples_split=4, n_estimators=48;, score=0.975 total time=   1.2s\n",
            "[CV 3/5] END min_samples_leaf=2, min_samples_split=4, n_estimators=48;, score=0.968 total time=   1.3s\n",
            "[CV 4/5] END min_samples_leaf=2, min_samples_split=4, n_estimators=48;, score=0.958 total time=   1.3s\n",
            "[CV 5/5] END min_samples_leaf=2, min_samples_split=4, n_estimators=48;, score=0.957 total time=   1.2s\n"
          ]
        },
        {
          "name": "stderr",
          "output_type": "stream",
          "text": [
            "/usr/local/lib/python3.10/dist-packages/skopt/optimizer/optimizer.py:449: UserWarning: The objective has been evaluated at this point before.\n",
            "  warnings.warn(\"The objective has been evaluated \"\n"
          ]
        },
        {
          "name": "stdout",
          "output_type": "stream",
          "text": [
            "Fitting 5 folds for each of 1 candidates, totalling 5 fits\n",
            "[CV 1/5] END min_samples_leaf=1, min_samples_split=2, n_estimators=40;, score=0.946 total time=   1.7s\n",
            "[CV 2/5] END min_samples_leaf=1, min_samples_split=2, n_estimators=40;, score=0.976 total time=   1.9s\n",
            "[CV 3/5] END min_samples_leaf=1, min_samples_split=2, n_estimators=40;, score=0.968 total time=   1.4s\n",
            "[CV 4/5] END min_samples_leaf=1, min_samples_split=2, n_estimators=40;, score=0.959 total time=   1.2s\n",
            "[CV 5/5] END min_samples_leaf=1, min_samples_split=2, n_estimators=40;, score=0.957 total time=   1.2s\n"
          ]
        },
        {
          "name": "stderr",
          "output_type": "stream",
          "text": [
            "/usr/local/lib/python3.10/dist-packages/skopt/optimizer/optimizer.py:449: UserWarning: The objective has been evaluated at this point before.\n",
            "  warnings.warn(\"The objective has been evaluated \"\n"
          ]
        },
        {
          "name": "stdout",
          "output_type": "stream",
          "text": [
            "Fitting 5 folds for each of 1 candidates, totalling 5 fits\n",
            "[CV 1/5] END min_samples_leaf=1, min_samples_split=2, n_estimators=40;, score=0.946 total time=   1.2s\n",
            "[CV 2/5] END min_samples_leaf=1, min_samples_split=2, n_estimators=40;, score=0.976 total time=   1.2s\n",
            "[CV 3/5] END min_samples_leaf=1, min_samples_split=2, n_estimators=40;, score=0.968 total time=   1.2s\n",
            "[CV 4/5] END min_samples_leaf=1, min_samples_split=2, n_estimators=40;, score=0.959 total time=   1.2s\n",
            "[CV 5/5] END min_samples_leaf=1, min_samples_split=2, n_estimators=40;, score=0.957 total time=   1.3s\n",
            "Fitting 5 folds for each of 1 candidates, totalling 5 fits\n",
            "[CV 1/5] END min_samples_leaf=9, min_samples_split=3, n_estimators=45;, score=0.938 total time=   1.3s\n",
            "[CV 2/5] END min_samples_leaf=9, min_samples_split=3, n_estimators=45;, score=0.962 total time=   0.9s\n",
            "[CV 3/5] END min_samples_leaf=9, min_samples_split=3, n_estimators=45;, score=0.964 total time=   0.9s\n",
            "[CV 4/5] END min_samples_leaf=9, min_samples_split=3, n_estimators=45;, score=0.951 total time=   0.9s\n",
            "[CV 5/5] END min_samples_leaf=9, min_samples_split=3, n_estimators=45;, score=0.946 total time=   0.9s\n",
            "Fitting 5 folds for each of 1 candidates, totalling 5 fits\n",
            "[CV 1/5] END min_samples_leaf=8, min_samples_split=5, n_estimators=50;, score=0.940 total time=   1.1s\n",
            "[CV 2/5] END min_samples_leaf=8, min_samples_split=5, n_estimators=50;, score=0.964 total time=   1.0s\n",
            "[CV 3/5] END min_samples_leaf=8, min_samples_split=5, n_estimators=50;, score=0.965 total time=   1.0s\n",
            "[CV 4/5] END min_samples_leaf=8, min_samples_split=5, n_estimators=50;, score=0.952 total time=   1.0s\n",
            "[CV 5/5] END min_samples_leaf=8, min_samples_split=5, n_estimators=50;, score=0.948 total time=   1.1s\n",
            "Fitting 5 folds for each of 1 candidates, totalling 5 fits\n",
            "[CV 1/5] END min_samples_leaf=8, min_samples_split=4, n_estimators=44;, score=0.940 total time=   1.3s\n",
            "[CV 2/5] END min_samples_leaf=8, min_samples_split=4, n_estimators=44;, score=0.964 total time=   0.9s\n",
            "[CV 3/5] END min_samples_leaf=8, min_samples_split=4, n_estimators=44;, score=0.965 total time=   0.9s\n",
            "[CV 4/5] END min_samples_leaf=8, min_samples_split=4, n_estimators=44;, score=0.952 total time=   0.9s\n",
            "[CV 5/5] END min_samples_leaf=8, min_samples_split=4, n_estimators=44;, score=0.948 total time=   0.9s\n",
            "Fitting 5 folds for each of 1 candidates, totalling 5 fits\n",
            "[CV 1/5] END min_samples_leaf=5, min_samples_split=5, n_estimators=44;, score=0.944 total time=   1.0s\n",
            "[CV 2/5] END min_samples_leaf=5, min_samples_split=5, n_estimators=44;, score=0.970 total time=   1.0s\n",
            "[CV 3/5] END min_samples_leaf=5, min_samples_split=5, n_estimators=44;, score=0.967 total time=   1.0s\n",
            "[CV 4/5] END min_samples_leaf=5, min_samples_split=5, n_estimators=44;, score=0.957 total time=   1.0s\n",
            "[CV 5/5] END min_samples_leaf=5, min_samples_split=5, n_estimators=44;, score=0.952 total time=   1.0s\n",
            "Fitting 5 folds for each of 1 candidates, totalling 5 fits\n",
            "[CV 1/5] END min_samples_leaf=9, min_samples_split=5, n_estimators=46;, score=0.938 total time=   1.4s\n",
            "[CV 2/5] END min_samples_leaf=9, min_samples_split=5, n_estimators=46;, score=0.962 total time=   1.0s\n",
            "[CV 3/5] END min_samples_leaf=9, min_samples_split=5, n_estimators=46;, score=0.964 total time=   0.9s\n",
            "[CV 4/5] END min_samples_leaf=9, min_samples_split=5, n_estimators=46;, score=0.951 total time=   0.9s\n",
            "[CV 5/5] END min_samples_leaf=9, min_samples_split=5, n_estimators=46;, score=0.946 total time=   0.9s\n"
          ]
        },
        {
          "name": "stderr",
          "output_type": "stream",
          "text": [
            "/usr/local/lib/python3.10/dist-packages/skopt/optimizer/optimizer.py:449: UserWarning: The objective has been evaluated at this point before.\n",
            "  warnings.warn(\"The objective has been evaluated \"\n"
          ]
        },
        {
          "name": "stdout",
          "output_type": "stream",
          "text": [
            "Fitting 5 folds for each of 1 candidates, totalling 5 fits\n",
            "[CV 1/5] END min_samples_leaf=1, min_samples_split=2, n_estimators=40;, score=0.946 total time=   1.2s\n",
            "[CV 2/5] END min_samples_leaf=1, min_samples_split=2, n_estimators=40;, score=0.976 total time=   1.2s\n",
            "[CV 3/5] END min_samples_leaf=1, min_samples_split=2, n_estimators=40;, score=0.968 total time=   1.2s\n",
            "[CV 4/5] END min_samples_leaf=1, min_samples_split=2, n_estimators=40;, score=0.959 total time=   1.2s\n",
            "[CV 5/5] END min_samples_leaf=1, min_samples_split=2, n_estimators=40;, score=0.957 total time=   1.6s\n",
            "Fitting 5 folds for each of 1 candidates, totalling 5 fits\n",
            "[CV 1/5] END min_samples_leaf=3, min_samples_split=5, n_estimators=47;, score=0.946 total time=   1.2s\n",
            "[CV 2/5] END min_samples_leaf=3, min_samples_split=5, n_estimators=47;, score=0.974 total time=   1.1s\n",
            "[CV 3/5] END min_samples_leaf=3, min_samples_split=5, n_estimators=47;, score=0.968 total time=   1.1s\n",
            "[CV 4/5] END min_samples_leaf=3, min_samples_split=5, n_estimators=47;, score=0.958 total time=   1.1s\n",
            "[CV 5/5] END min_samples_leaf=3, min_samples_split=5, n_estimators=47;, score=0.955 total time=   1.1s\n",
            "Fitting 5 folds for each of 1 candidates, totalling 5 fits\n",
            "[CV 1/5] END min_samples_leaf=3, min_samples_split=6, n_estimators=42;, score=0.946 total time=   1.0s\n",
            "[CV 2/5] END min_samples_leaf=3, min_samples_split=6, n_estimators=42;, score=0.974 total time=   1.0s\n",
            "[CV 3/5] END min_samples_leaf=3, min_samples_split=6, n_estimators=42;, score=0.968 total time=   1.0s\n",
            "[CV 4/5] END min_samples_leaf=3, min_samples_split=6, n_estimators=42;, score=0.958 total time=   1.6s\n",
            "[CV 5/5] END min_samples_leaf=3, min_samples_split=6, n_estimators=42;, score=0.955 total time=   1.6s\n"
          ]
        },
        {
          "name": "stderr",
          "output_type": "stream",
          "text": [
            "/usr/local/lib/python3.10/dist-packages/skopt/optimizer/optimizer.py:449: UserWarning: The objective has been evaluated at this point before.\n",
            "  warnings.warn(\"The objective has been evaluated \"\n"
          ]
        },
        {
          "name": "stdout",
          "output_type": "stream",
          "text": [
            "Fitting 5 folds for each of 1 candidates, totalling 5 fits\n",
            "[CV 1/5] END min_samples_leaf=1, min_samples_split=2, n_estimators=40;, score=0.946 total time=   1.2s\n",
            "[CV 2/5] END min_samples_leaf=1, min_samples_split=2, n_estimators=40;, score=0.976 total time=   1.2s\n",
            "[CV 3/5] END min_samples_leaf=1, min_samples_split=2, n_estimators=40;, score=0.968 total time=   1.2s\n",
            "[CV 4/5] END min_samples_leaf=1, min_samples_split=2, n_estimators=40;, score=0.959 total time=   1.2s\n",
            "[CV 5/5] END min_samples_leaf=1, min_samples_split=2, n_estimators=40;, score=0.957 total time=   1.2s\n"
          ]
        },
        {
          "name": "stderr",
          "output_type": "stream",
          "text": [
            "/usr/local/lib/python3.10/dist-packages/skopt/optimizer/optimizer.py:449: UserWarning: The objective has been evaluated at this point before.\n",
            "  warnings.warn(\"The objective has been evaluated \"\n"
          ]
        },
        {
          "name": "stdout",
          "output_type": "stream",
          "text": [
            "Fitting 5 folds for each of 1 candidates, totalling 5 fits\n",
            "[CV 1/5] END min_samples_leaf=9, min_samples_split=6, n_estimators=41;, score=0.938 total time=   0.8s\n",
            "[CV 2/5] END min_samples_leaf=9, min_samples_split=6, n_estimators=41;, score=0.962 total time=   0.9s\n",
            "[CV 3/5] END min_samples_leaf=9, min_samples_split=6, n_estimators=41;, score=0.963 total time=   1.3s\n",
            "[CV 4/5] END min_samples_leaf=9, min_samples_split=6, n_estimators=41;, score=0.951 total time=   1.3s\n",
            "[CV 5/5] END min_samples_leaf=9, min_samples_split=6, n_estimators=41;, score=0.947 total time=   1.3s\n"
          ]
        },
        {
          "name": "stderr",
          "output_type": "stream",
          "text": [
            "/usr/local/lib/python3.10/dist-packages/skopt/optimizer/optimizer.py:449: UserWarning: The objective has been evaluated at this point before.\n",
            "  warnings.warn(\"The objective has been evaluated \"\n"
          ]
        },
        {
          "name": "stdout",
          "output_type": "stream",
          "text": [
            "Fitting 5 folds for each of 1 candidates, totalling 5 fits\n",
            "[CV 1/5] END min_samples_leaf=1, min_samples_split=2, n_estimators=40;, score=0.946 total time=   1.2s\n",
            "[CV 2/5] END min_samples_leaf=1, min_samples_split=2, n_estimators=40;, score=0.976 total time=   1.2s\n",
            "[CV 3/5] END min_samples_leaf=1, min_samples_split=2, n_estimators=40;, score=0.968 total time=   1.2s\n",
            "[CV 4/5] END min_samples_leaf=1, min_samples_split=2, n_estimators=40;, score=0.959 total time=   1.2s\n",
            "[CV 5/5] END min_samples_leaf=1, min_samples_split=2, n_estimators=40;, score=0.957 total time=   1.2s\n",
            "Fitting 5 folds for each of 1 candidates, totalling 5 fits\n",
            "[CV 1/5] END min_samples_leaf=4, min_samples_split=3, n_estimators=47;, score=0.945 total time=   1.1s\n",
            "[CV 2/5] END min_samples_leaf=4, min_samples_split=3, n_estimators=47;, score=0.972 total time=   1.6s\n",
            "[CV 3/5] END min_samples_leaf=4, min_samples_split=3, n_estimators=47;, score=0.968 total time=   1.7s\n",
            "[CV 4/5] END min_samples_leaf=4, min_samples_split=3, n_estimators=47;, score=0.957 total time=   1.4s\n",
            "[CV 5/5] END min_samples_leaf=4, min_samples_split=3, n_estimators=47;, score=0.953 total time=   1.1s\n",
            "Fitting 5 folds for each of 1 candidates, totalling 5 fits\n",
            "[CV 1/5] END min_samples_leaf=10, min_samples_split=3, n_estimators=42;, score=0.936 total time=   0.8s\n",
            "[CV 2/5] END min_samples_leaf=10, min_samples_split=3, n_estimators=42;, score=0.961 total time=   0.8s\n",
            "[CV 3/5] END min_samples_leaf=10, min_samples_split=3, n_estimators=42;, score=0.962 total time=   0.8s\n",
            "[CV 4/5] END min_samples_leaf=10, min_samples_split=3, n_estimators=42;, score=0.949 total time=   0.8s\n",
            "[CV 5/5] END min_samples_leaf=10, min_samples_split=3, n_estimators=42;, score=0.945 total time=   0.8s\n",
            "Fitting 5 folds for each of 1 candidates, totalling 5 fits\n",
            "[CV 1/5] END min_samples_leaf=5, min_samples_split=5, n_estimators=45;, score=0.944 total time=   1.1s\n",
            "[CV 2/5] END min_samples_leaf=5, min_samples_split=5, n_estimators=45;, score=0.970 total time=   1.5s\n",
            "[CV 3/5] END min_samples_leaf=5, min_samples_split=5, n_estimators=45;, score=0.967 total time=   1.5s\n",
            "[CV 4/5] END min_samples_leaf=5, min_samples_split=5, n_estimators=45;, score=0.957 total time=   1.3s\n",
            "[CV 5/5] END min_samples_leaf=5, min_samples_split=5, n_estimators=45;, score=0.952 total time=   1.0s\n",
            "Fitting 5 folds for each of 1 candidates, totalling 5 fits\n",
            "[CV 1/5] END min_samples_leaf=10, min_samples_split=6, n_estimators=42;, score=0.936 total time=   0.8s\n",
            "[CV 2/5] END min_samples_leaf=10, min_samples_split=6, n_estimators=42;, score=0.961 total time=   0.8s\n",
            "[CV 3/5] END min_samples_leaf=10, min_samples_split=6, n_estimators=42;, score=0.962 total time=   0.8s\n",
            "[CV 4/5] END min_samples_leaf=10, min_samples_split=6, n_estimators=42;, score=0.949 total time=   0.9s\n",
            "[CV 5/5] END min_samples_leaf=10, min_samples_split=6, n_estimators=42;, score=0.945 total time=   0.8s\n"
          ]
        },
        {
          "data": {
            "text/html": [
              "<style>#sk-container-id-3 {color: black;background-color: white;}#sk-container-id-3 pre{padding: 0;}#sk-container-id-3 div.sk-toggleable {background-color: white;}#sk-container-id-3 label.sk-toggleable__label {cursor: pointer;display: block;width: 100%;margin-bottom: 0;padding: 0.3em;box-sizing: border-box;text-align: center;}#sk-container-id-3 label.sk-toggleable__label-arrow:before {content: \"▸\";float: left;margin-right: 0.25em;color: #696969;}#sk-container-id-3 label.sk-toggleable__label-arrow:hover:before {color: black;}#sk-container-id-3 div.sk-estimator:hover label.sk-toggleable__label-arrow:before {color: black;}#sk-container-id-3 div.sk-toggleable__content {max-height: 0;max-width: 0;overflow: hidden;text-align: left;background-color: #f0f8ff;}#sk-container-id-3 div.sk-toggleable__content pre {margin: 0.2em;color: black;border-radius: 0.25em;background-color: #f0f8ff;}#sk-container-id-3 input.sk-toggleable__control:checked~div.sk-toggleable__content {max-height: 200px;max-width: 100%;overflow: auto;}#sk-container-id-3 input.sk-toggleable__control:checked~label.sk-toggleable__label-arrow:before {content: \"▾\";}#sk-container-id-3 div.sk-estimator input.sk-toggleable__control:checked~label.sk-toggleable__label {background-color: #d4ebff;}#sk-container-id-3 div.sk-label input.sk-toggleable__control:checked~label.sk-toggleable__label {background-color: #d4ebff;}#sk-container-id-3 input.sk-hidden--visually {border: 0;clip: rect(1px 1px 1px 1px);clip: rect(1px, 1px, 1px, 1px);height: 1px;margin: -1px;overflow: hidden;padding: 0;position: absolute;width: 1px;}#sk-container-id-3 div.sk-estimator {font-family: monospace;background-color: #f0f8ff;border: 1px dotted black;border-radius: 0.25em;box-sizing: border-box;margin-bottom: 0.5em;}#sk-container-id-3 div.sk-estimator:hover {background-color: #d4ebff;}#sk-container-id-3 div.sk-parallel-item::after {content: \"\";width: 100%;border-bottom: 1px solid gray;flex-grow: 1;}#sk-container-id-3 div.sk-label:hover label.sk-toggleable__label {background-color: #d4ebff;}#sk-container-id-3 div.sk-serial::before {content: \"\";position: absolute;border-left: 1px solid gray;box-sizing: border-box;top: 0;bottom: 0;left: 50%;z-index: 0;}#sk-container-id-3 div.sk-serial {display: flex;flex-direction: column;align-items: center;background-color: white;padding-right: 0.2em;padding-left: 0.2em;position: relative;}#sk-container-id-3 div.sk-item {position: relative;z-index: 1;}#sk-container-id-3 div.sk-parallel {display: flex;align-items: stretch;justify-content: center;background-color: white;position: relative;}#sk-container-id-3 div.sk-item::before, #sk-container-id-3 div.sk-parallel-item::before {content: \"\";position: absolute;border-left: 1px solid gray;box-sizing: border-box;top: 0;bottom: 0;left: 50%;z-index: -1;}#sk-container-id-3 div.sk-parallel-item {display: flex;flex-direction: column;z-index: 1;position: relative;background-color: white;}#sk-container-id-3 div.sk-parallel-item:first-child::after {align-self: flex-end;width: 50%;}#sk-container-id-3 div.sk-parallel-item:last-child::after {align-self: flex-start;width: 50%;}#sk-container-id-3 div.sk-parallel-item:only-child::after {width: 0;}#sk-container-id-3 div.sk-dashed-wrapped {border: 1px dashed gray;margin: 0 0.4em 0.5em 0.4em;box-sizing: border-box;padding-bottom: 0.4em;background-color: white;}#sk-container-id-3 div.sk-label label {font-family: monospace;font-weight: bold;display: inline-block;line-height: 1.2em;}#sk-container-id-3 div.sk-label-container {text-align: center;}#sk-container-id-3 div.sk-container {/* jupyter's `normalize.less` sets `[hidden] { display: none; }` but bootstrap.min.css set `[hidden] { display: none !important; }` so we also need the `!important` here to be able to override the default hidden behavior on the sphinx rendered scikit-learn.org. See: https://github.com/scikit-learn/scikit-learn/issues/21755 */display: inline-block !important;position: relative;}#sk-container-id-3 div.sk-text-repr-fallback {display: none;}</style><div id=\"sk-container-id-3\" class=\"sk-top-container\"><div class=\"sk-text-repr-fallback\"><pre>BayesSearchCV(estimator=RandomForestRegressor(random_state=15),\n",
              "              search_spaces={&#x27;min_samples_leaf&#x27;: [1, 10],\n",
              "                             &#x27;min_samples_split&#x27;: [2, 7],\n",
              "                             &#x27;n_estimators&#x27;: [40, 50]},\n",
              "              verbose=3)</pre><b>In a Jupyter environment, please rerun this cell to show the HTML representation or trust the notebook. <br />On GitHub, the HTML representation is unable to render, please try loading this page with nbviewer.org.</b></div><div class=\"sk-container\" hidden><div class=\"sk-item sk-dashed-wrapped\"><div class=\"sk-label-container\"><div class=\"sk-label sk-toggleable\"><input class=\"sk-toggleable__control sk-hidden--visually\" id=\"sk-estimator-id-7\" type=\"checkbox\" ><label for=\"sk-estimator-id-7\" class=\"sk-toggleable__label sk-toggleable__label-arrow\">BayesSearchCV</label><div class=\"sk-toggleable__content\"><pre>BayesSearchCV(estimator=RandomForestRegressor(random_state=15),\n",
              "              search_spaces={&#x27;min_samples_leaf&#x27;: [1, 10],\n",
              "                             &#x27;min_samples_split&#x27;: [2, 7],\n",
              "                             &#x27;n_estimators&#x27;: [40, 50]},\n",
              "              verbose=3)</pre></div></div></div><div class=\"sk-parallel\"><div class=\"sk-parallel-item\"><div class=\"sk-item\"><div class=\"sk-label-container\"><div class=\"sk-label sk-toggleable\"><input class=\"sk-toggleable__control sk-hidden--visually\" id=\"sk-estimator-id-8\" type=\"checkbox\" ><label for=\"sk-estimator-id-8\" class=\"sk-toggleable__label sk-toggleable__label-arrow\">estimator: RandomForestRegressor</label><div class=\"sk-toggleable__content\"><pre>RandomForestRegressor(random_state=15)</pre></div></div></div><div class=\"sk-serial\"><div class=\"sk-item\"><div class=\"sk-estimator sk-toggleable\"><input class=\"sk-toggleable__control sk-hidden--visually\" id=\"sk-estimator-id-9\" type=\"checkbox\" ><label for=\"sk-estimator-id-9\" class=\"sk-toggleable__label sk-toggleable__label-arrow\">RandomForestRegressor</label><div class=\"sk-toggleable__content\"><pre>RandomForestRegressor(random_state=15)</pre></div></div></div></div></div></div></div></div></div></div>"
            ],
            "text/plain": [
              "BayesSearchCV(estimator=RandomForestRegressor(random_state=15),\n",
              "              search_spaces={'min_samples_leaf': [1, 10],\n",
              "                             'min_samples_split': [2, 7],\n",
              "                             'n_estimators': [40, 50]},\n",
              "              verbose=3)"
            ]
          },
          "execution_count": 49,
          "metadata": {},
          "output_type": "execute_result"
        }
      ],
      "source": [
        "bayesrf = BayesSearchCV(reg2,search_spaces = search_space2,verbose=3) #perform bayes search on rf model to find best hyperparameters\n",
        "bayesrf.fit(X_train,y_train) #fit to train data"
      ]
    },
    {
      "cell_type": "code",
      "execution_count": null,
      "metadata": {
        "id": "G2mUugcXRpTb"
      },
      "outputs": [],
      "source": [
        "bestreg = bayeslgbm.best_estimator_ #get best estimator from bayessearch\n",
        "\n",
        "bestreg1 = bayesxgb.best_estimator_\n",
        "\n",
        "bestreg2 = bayesrf.best_estimator_\n"
      ]
    },
    {
      "cell_type": "code",
      "execution_count": null,
      "metadata": {
        "colab": {
          "base_uri": "https://localhost:8080/"
        },
        "id": "woyuiI8PnBNJ",
        "outputId": "2348667c-52c0-4153-a6f2-dafe1dfc92e9"
      },
      "outputs": [
        {
          "data": {
            "text/html": [
              "<style>#sk-container-id-4 {color: black;background-color: white;}#sk-container-id-4 pre{padding: 0;}#sk-container-id-4 div.sk-toggleable {background-color: white;}#sk-container-id-4 label.sk-toggleable__label {cursor: pointer;display: block;width: 100%;margin-bottom: 0;padding: 0.3em;box-sizing: border-box;text-align: center;}#sk-container-id-4 label.sk-toggleable__label-arrow:before {content: \"▸\";float: left;margin-right: 0.25em;color: #696969;}#sk-container-id-4 label.sk-toggleable__label-arrow:hover:before {color: black;}#sk-container-id-4 div.sk-estimator:hover label.sk-toggleable__label-arrow:before {color: black;}#sk-container-id-4 div.sk-toggleable__content {max-height: 0;max-width: 0;overflow: hidden;text-align: left;background-color: #f0f8ff;}#sk-container-id-4 div.sk-toggleable__content pre {margin: 0.2em;color: black;border-radius: 0.25em;background-color: #f0f8ff;}#sk-container-id-4 input.sk-toggleable__control:checked~div.sk-toggleable__content {max-height: 200px;max-width: 100%;overflow: auto;}#sk-container-id-4 input.sk-toggleable__control:checked~label.sk-toggleable__label-arrow:before {content: \"▾\";}#sk-container-id-4 div.sk-estimator input.sk-toggleable__control:checked~label.sk-toggleable__label {background-color: #d4ebff;}#sk-container-id-4 div.sk-label input.sk-toggleable__control:checked~label.sk-toggleable__label {background-color: #d4ebff;}#sk-container-id-4 input.sk-hidden--visually {border: 0;clip: rect(1px 1px 1px 1px);clip: rect(1px, 1px, 1px, 1px);height: 1px;margin: -1px;overflow: hidden;padding: 0;position: absolute;width: 1px;}#sk-container-id-4 div.sk-estimator {font-family: monospace;background-color: #f0f8ff;border: 1px dotted black;border-radius: 0.25em;box-sizing: border-box;margin-bottom: 0.5em;}#sk-container-id-4 div.sk-estimator:hover {background-color: #d4ebff;}#sk-container-id-4 div.sk-parallel-item::after {content: \"\";width: 100%;border-bottom: 1px solid gray;flex-grow: 1;}#sk-container-id-4 div.sk-label:hover label.sk-toggleable__label {background-color: #d4ebff;}#sk-container-id-4 div.sk-serial::before {content: \"\";position: absolute;border-left: 1px solid gray;box-sizing: border-box;top: 0;bottom: 0;left: 50%;z-index: 0;}#sk-container-id-4 div.sk-serial {display: flex;flex-direction: column;align-items: center;background-color: white;padding-right: 0.2em;padding-left: 0.2em;position: relative;}#sk-container-id-4 div.sk-item {position: relative;z-index: 1;}#sk-container-id-4 div.sk-parallel {display: flex;align-items: stretch;justify-content: center;background-color: white;position: relative;}#sk-container-id-4 div.sk-item::before, #sk-container-id-4 div.sk-parallel-item::before {content: \"\";position: absolute;border-left: 1px solid gray;box-sizing: border-box;top: 0;bottom: 0;left: 50%;z-index: -1;}#sk-container-id-4 div.sk-parallel-item {display: flex;flex-direction: column;z-index: 1;position: relative;background-color: white;}#sk-container-id-4 div.sk-parallel-item:first-child::after {align-self: flex-end;width: 50%;}#sk-container-id-4 div.sk-parallel-item:last-child::after {align-self: flex-start;width: 50%;}#sk-container-id-4 div.sk-parallel-item:only-child::after {width: 0;}#sk-container-id-4 div.sk-dashed-wrapped {border: 1px dashed gray;margin: 0 0.4em 0.5em 0.4em;box-sizing: border-box;padding-bottom: 0.4em;background-color: white;}#sk-container-id-4 div.sk-label label {font-family: monospace;font-weight: bold;display: inline-block;line-height: 1.2em;}#sk-container-id-4 div.sk-label-container {text-align: center;}#sk-container-id-4 div.sk-container {/* jupyter's `normalize.less` sets `[hidden] { display: none; }` but bootstrap.min.css set `[hidden] { display: none !important; }` so we also need the `!important` here to be able to override the default hidden behavior on the sphinx rendered scikit-learn.org. See: https://github.com/scikit-learn/scikit-learn/issues/21755 */display: inline-block !important;position: relative;}#sk-container-id-4 div.sk-text-repr-fallback {display: none;}</style><div id=\"sk-container-id-4\" class=\"sk-top-container\"><div class=\"sk-text-repr-fallback\"><pre>LGBMRegressor(min_child_samples=15, num_leaves=37, random_state=15)</pre><b>In a Jupyter environment, please rerun this cell to show the HTML representation or trust the notebook. <br />On GitHub, the HTML representation is unable to render, please try loading this page with nbviewer.org.</b></div><div class=\"sk-container\" hidden><div class=\"sk-item\"><div class=\"sk-estimator sk-toggleable\"><input class=\"sk-toggleable__control sk-hidden--visually\" id=\"sk-estimator-id-10\" type=\"checkbox\" checked><label for=\"sk-estimator-id-10\" class=\"sk-toggleable__label sk-toggleable__label-arrow\">LGBMRegressor</label><div class=\"sk-toggleable__content\"><pre>LGBMRegressor(min_child_samples=15, num_leaves=37, random_state=15)</pre></div></div></div></div></div>"
            ],
            "text/plain": [
              "LGBMRegressor(min_child_samples=15, num_leaves=37, random_state=15)"
            ]
          },
          "execution_count": 51,
          "metadata": {},
          "output_type": "execute_result"
        }
      ],
      "source": [
        "bestreg"
      ]
    },
    {
      "cell_type": "code",
      "execution_count": null,
      "metadata": {
        "colab": {
          "base_uri": "https://localhost:8080/"
        },
        "id": "5fX9fJ6TnV2b",
        "outputId": "2f90d1bf-95f9-4769-ae3c-441b9913c8e1"
      },
      "outputs": [
        {
          "data": {
            "text/html": [
              "<style>#sk-container-id-5 {color: black;background-color: white;}#sk-container-id-5 pre{padding: 0;}#sk-container-id-5 div.sk-toggleable {background-color: white;}#sk-container-id-5 label.sk-toggleable__label {cursor: pointer;display: block;width: 100%;margin-bottom: 0;padding: 0.3em;box-sizing: border-box;text-align: center;}#sk-container-id-5 label.sk-toggleable__label-arrow:before {content: \"▸\";float: left;margin-right: 0.25em;color: #696969;}#sk-container-id-5 label.sk-toggleable__label-arrow:hover:before {color: black;}#sk-container-id-5 div.sk-estimator:hover label.sk-toggleable__label-arrow:before {color: black;}#sk-container-id-5 div.sk-toggleable__content {max-height: 0;max-width: 0;overflow: hidden;text-align: left;background-color: #f0f8ff;}#sk-container-id-5 div.sk-toggleable__content pre {margin: 0.2em;color: black;border-radius: 0.25em;background-color: #f0f8ff;}#sk-container-id-5 input.sk-toggleable__control:checked~div.sk-toggleable__content {max-height: 200px;max-width: 100%;overflow: auto;}#sk-container-id-5 input.sk-toggleable__control:checked~label.sk-toggleable__label-arrow:before {content: \"▾\";}#sk-container-id-5 div.sk-estimator input.sk-toggleable__control:checked~label.sk-toggleable__label {background-color: #d4ebff;}#sk-container-id-5 div.sk-label input.sk-toggleable__control:checked~label.sk-toggleable__label {background-color: #d4ebff;}#sk-container-id-5 input.sk-hidden--visually {border: 0;clip: rect(1px 1px 1px 1px);clip: rect(1px, 1px, 1px, 1px);height: 1px;margin: -1px;overflow: hidden;padding: 0;position: absolute;width: 1px;}#sk-container-id-5 div.sk-estimator {font-family: monospace;background-color: #f0f8ff;border: 1px dotted black;border-radius: 0.25em;box-sizing: border-box;margin-bottom: 0.5em;}#sk-container-id-5 div.sk-estimator:hover {background-color: #d4ebff;}#sk-container-id-5 div.sk-parallel-item::after {content: \"\";width: 100%;border-bottom: 1px solid gray;flex-grow: 1;}#sk-container-id-5 div.sk-label:hover label.sk-toggleable__label {background-color: #d4ebff;}#sk-container-id-5 div.sk-serial::before {content: \"\";position: absolute;border-left: 1px solid gray;box-sizing: border-box;top: 0;bottom: 0;left: 50%;z-index: 0;}#sk-container-id-5 div.sk-serial {display: flex;flex-direction: column;align-items: center;background-color: white;padding-right: 0.2em;padding-left: 0.2em;position: relative;}#sk-container-id-5 div.sk-item {position: relative;z-index: 1;}#sk-container-id-5 div.sk-parallel {display: flex;align-items: stretch;justify-content: center;background-color: white;position: relative;}#sk-container-id-5 div.sk-item::before, #sk-container-id-5 div.sk-parallel-item::before {content: \"\";position: absolute;border-left: 1px solid gray;box-sizing: border-box;top: 0;bottom: 0;left: 50%;z-index: -1;}#sk-container-id-5 div.sk-parallel-item {display: flex;flex-direction: column;z-index: 1;position: relative;background-color: white;}#sk-container-id-5 div.sk-parallel-item:first-child::after {align-self: flex-end;width: 50%;}#sk-container-id-5 div.sk-parallel-item:last-child::after {align-self: flex-start;width: 50%;}#sk-container-id-5 div.sk-parallel-item:only-child::after {width: 0;}#sk-container-id-5 div.sk-dashed-wrapped {border: 1px dashed gray;margin: 0 0.4em 0.5em 0.4em;box-sizing: border-box;padding-bottom: 0.4em;background-color: white;}#sk-container-id-5 div.sk-label label {font-family: monospace;font-weight: bold;display: inline-block;line-height: 1.2em;}#sk-container-id-5 div.sk-label-container {text-align: center;}#sk-container-id-5 div.sk-container {/* jupyter's `normalize.less` sets `[hidden] { display: none; }` but bootstrap.min.css set `[hidden] { display: none !important; }` so we also need the `!important` here to be able to override the default hidden behavior on the sphinx rendered scikit-learn.org. See: https://github.com/scikit-learn/scikit-learn/issues/21755 */display: inline-block !important;position: relative;}#sk-container-id-5 div.sk-text-repr-fallback {display: none;}</style><div id=\"sk-container-id-5\" class=\"sk-top-container\"><div class=\"sk-text-repr-fallback\"><pre>XGBRegressor(base_score=None, booster=None, callbacks=None,\n",
              "             colsample_bylevel=None, colsample_bynode=None,\n",
              "             colsample_bytree=None, early_stopping_rounds=None,\n",
              "             enable_categorical=False, eta=0.1, eval_metric=None,\n",
              "             feature_types=None, gamma=0, gpu_id=None, grow_policy=None,\n",
              "             importance_type=None, interaction_constraints=None,\n",
              "             learning_rate=None, max_bin=None, max_cat_threshold=None,\n",
              "             max_cat_to_onehot=None, max_delta_step=None, max_depth=8,\n",
              "             max_leaves=None, min_child_weight=1, missing=nan,\n",
              "             monotone_constraints=None, n_estimators=100, n_jobs=None,\n",
              "             num_parallel_tree=None, predictor=None, ...)</pre><b>In a Jupyter environment, please rerun this cell to show the HTML representation or trust the notebook. <br />On GitHub, the HTML representation is unable to render, please try loading this page with nbviewer.org.</b></div><div class=\"sk-container\" hidden><div class=\"sk-item\"><div class=\"sk-estimator sk-toggleable\"><input class=\"sk-toggleable__control sk-hidden--visually\" id=\"sk-estimator-id-11\" type=\"checkbox\" checked><label for=\"sk-estimator-id-11\" class=\"sk-toggleable__label sk-toggleable__label-arrow\">XGBRegressor</label><div class=\"sk-toggleable__content\"><pre>XGBRegressor(base_score=None, booster=None, callbacks=None,\n",
              "             colsample_bylevel=None, colsample_bynode=None,\n",
              "             colsample_bytree=None, early_stopping_rounds=None,\n",
              "             enable_categorical=False, eta=0.1, eval_metric=None,\n",
              "             feature_types=None, gamma=0, gpu_id=None, grow_policy=None,\n",
              "             importance_type=None, interaction_constraints=None,\n",
              "             learning_rate=None, max_bin=None, max_cat_threshold=None,\n",
              "             max_cat_to_onehot=None, max_delta_step=None, max_depth=8,\n",
              "             max_leaves=None, min_child_weight=1, missing=nan,\n",
              "             monotone_constraints=None, n_estimators=100, n_jobs=None,\n",
              "             num_parallel_tree=None, predictor=None, ...)</pre></div></div></div></div></div>"
            ],
            "text/plain": [
              "XGBRegressor(base_score=None, booster=None, callbacks=None,\n",
              "             colsample_bylevel=None, colsample_bynode=None,\n",
              "             colsample_bytree=None, early_stopping_rounds=None,\n",
              "             enable_categorical=False, eta=0.1, eval_metric=None,\n",
              "             feature_types=None, gamma=0, gpu_id=None, grow_policy=None,\n",
              "             importance_type=None, interaction_constraints=None,\n",
              "             learning_rate=None, max_bin=None, max_cat_threshold=None,\n",
              "             max_cat_to_onehot=None, max_delta_step=None, max_depth=8,\n",
              "             max_leaves=None, min_child_weight=1, missing=nan,\n",
              "             monotone_constraints=None, n_estimators=100, n_jobs=None,\n",
              "             num_parallel_tree=None, predictor=None, ...)"
            ]
          },
          "execution_count": 52,
          "metadata": {},
          "output_type": "execute_result"
        }
      ],
      "source": [
        "bestreg1"
      ]
    },
    {
      "cell_type": "code",
      "execution_count": null,
      "metadata": {
        "colab": {
          "base_uri": "https://localhost:8080/"
        },
        "id": "9737eD4hnXBv",
        "outputId": "1fec16f1-0069-45a2-fa6f-26c1e4e4bf93"
      },
      "outputs": [
        {
          "data": {
            "text/html": [
              "<style>#sk-container-id-6 {color: black;background-color: white;}#sk-container-id-6 pre{padding: 0;}#sk-container-id-6 div.sk-toggleable {background-color: white;}#sk-container-id-6 label.sk-toggleable__label {cursor: pointer;display: block;width: 100%;margin-bottom: 0;padding: 0.3em;box-sizing: border-box;text-align: center;}#sk-container-id-6 label.sk-toggleable__label-arrow:before {content: \"▸\";float: left;margin-right: 0.25em;color: #696969;}#sk-container-id-6 label.sk-toggleable__label-arrow:hover:before {color: black;}#sk-container-id-6 div.sk-estimator:hover label.sk-toggleable__label-arrow:before {color: black;}#sk-container-id-6 div.sk-toggleable__content {max-height: 0;max-width: 0;overflow: hidden;text-align: left;background-color: #f0f8ff;}#sk-container-id-6 div.sk-toggleable__content pre {margin: 0.2em;color: black;border-radius: 0.25em;background-color: #f0f8ff;}#sk-container-id-6 input.sk-toggleable__control:checked~div.sk-toggleable__content {max-height: 200px;max-width: 100%;overflow: auto;}#sk-container-id-6 input.sk-toggleable__control:checked~label.sk-toggleable__label-arrow:before {content: \"▾\";}#sk-container-id-6 div.sk-estimator input.sk-toggleable__control:checked~label.sk-toggleable__label {background-color: #d4ebff;}#sk-container-id-6 div.sk-label input.sk-toggleable__control:checked~label.sk-toggleable__label {background-color: #d4ebff;}#sk-container-id-6 input.sk-hidden--visually {border: 0;clip: rect(1px 1px 1px 1px);clip: rect(1px, 1px, 1px, 1px);height: 1px;margin: -1px;overflow: hidden;padding: 0;position: absolute;width: 1px;}#sk-container-id-6 div.sk-estimator {font-family: monospace;background-color: #f0f8ff;border: 1px dotted black;border-radius: 0.25em;box-sizing: border-box;margin-bottom: 0.5em;}#sk-container-id-6 div.sk-estimator:hover {background-color: #d4ebff;}#sk-container-id-6 div.sk-parallel-item::after {content: \"\";width: 100%;border-bottom: 1px solid gray;flex-grow: 1;}#sk-container-id-6 div.sk-label:hover label.sk-toggleable__label {background-color: #d4ebff;}#sk-container-id-6 div.sk-serial::before {content: \"\";position: absolute;border-left: 1px solid gray;box-sizing: border-box;top: 0;bottom: 0;left: 50%;z-index: 0;}#sk-container-id-6 div.sk-serial {display: flex;flex-direction: column;align-items: center;background-color: white;padding-right: 0.2em;padding-left: 0.2em;position: relative;}#sk-container-id-6 div.sk-item {position: relative;z-index: 1;}#sk-container-id-6 div.sk-parallel {display: flex;align-items: stretch;justify-content: center;background-color: white;position: relative;}#sk-container-id-6 div.sk-item::before, #sk-container-id-6 div.sk-parallel-item::before {content: \"\";position: absolute;border-left: 1px solid gray;box-sizing: border-box;top: 0;bottom: 0;left: 50%;z-index: -1;}#sk-container-id-6 div.sk-parallel-item {display: flex;flex-direction: column;z-index: 1;position: relative;background-color: white;}#sk-container-id-6 div.sk-parallel-item:first-child::after {align-self: flex-end;width: 50%;}#sk-container-id-6 div.sk-parallel-item:last-child::after {align-self: flex-start;width: 50%;}#sk-container-id-6 div.sk-parallel-item:only-child::after {width: 0;}#sk-container-id-6 div.sk-dashed-wrapped {border: 1px dashed gray;margin: 0 0.4em 0.5em 0.4em;box-sizing: border-box;padding-bottom: 0.4em;background-color: white;}#sk-container-id-6 div.sk-label label {font-family: monospace;font-weight: bold;display: inline-block;line-height: 1.2em;}#sk-container-id-6 div.sk-label-container {text-align: center;}#sk-container-id-6 div.sk-container {/* jupyter's `normalize.less` sets `[hidden] { display: none; }` but bootstrap.min.css set `[hidden] { display: none !important; }` so we also need the `!important` here to be able to override the default hidden behavior on the sphinx rendered scikit-learn.org. See: https://github.com/scikit-learn/scikit-learn/issues/21755 */display: inline-block !important;position: relative;}#sk-container-id-6 div.sk-text-repr-fallback {display: none;}</style><div id=\"sk-container-id-6\" class=\"sk-top-container\"><div class=\"sk-text-repr-fallback\"><pre>RandomForestRegressor(n_estimators=40, random_state=15)</pre><b>In a Jupyter environment, please rerun this cell to show the HTML representation or trust the notebook. <br />On GitHub, the HTML representation is unable to render, please try loading this page with nbviewer.org.</b></div><div class=\"sk-container\" hidden><div class=\"sk-item\"><div class=\"sk-estimator sk-toggleable\"><input class=\"sk-toggleable__control sk-hidden--visually\" id=\"sk-estimator-id-12\" type=\"checkbox\" checked><label for=\"sk-estimator-id-12\" class=\"sk-toggleable__label sk-toggleable__label-arrow\">RandomForestRegressor</label><div class=\"sk-toggleable__content\"><pre>RandomForestRegressor(n_estimators=40, random_state=15)</pre></div></div></div></div></div>"
            ],
            "text/plain": [
              "RandomForestRegressor(n_estimators=40, random_state=15)"
            ]
          },
          "execution_count": 53,
          "metadata": {},
          "output_type": "execute_result"
        }
      ],
      "source": [
        "bestreg2"
      ]
    },
    {
      "cell_type": "code",
      "execution_count": null,
      "metadata": {
        "id": "J8oADsePRpVz"
      },
      "outputs": [],
      "source": [
        "estimators = [(\"lgbm\",bestreg),(\"xgb\",bestreg1),(\"rf\",bestreg2)] #estimators used in stackingregressor"
      ]
    },
    {
      "cell_type": "code",
      "execution_count": null,
      "metadata": {
        "id": "D08fYHPBRpX5"
      },
      "outputs": [],
      "source": [
        "stackedmodels = StackingRegressor(estimators = estimators, final_estimator = bestreg1) #stacking\n",
        "stackedmodels.fit(X_train,y_train)"
      ]
    },
    {
      "cell_type": "code",
      "execution_count": null,
      "metadata": {
        "id": "SRuNSW_jorFH"
      },
      "outputs": [],
      "source": []
    },
    {
      "cell_type": "code",
      "execution_count": null,
      "metadata": {
        "id": "MzzomBydPgsL"
      },
      "outputs": [],
      "source": [
        "final_preds = stackedmodels.predict(X_test)\n",
        "stackedscore =r2_score(y_test, final_preds)\n",
        "print('R2 score stacked xgb: ', stackedscore) #calculate r2 score for stackingregressor\n",
        "#0.953583 with xgb as final estimator\n",
        "#0.973125 while normalizing the distribution so less skew in data"
      ]
    },
    {
      "cell_type": "code",
      "execution_count": null,
      "metadata": {
        "id": "w6wD6wvQObgK"
      },
      "outputs": [],
      "source": [
        "mse = mean_squared_error(y_test, final_preds)\n",
        "\n",
        "print(\"Mean Squared Error:\", mse)"
      ]
    },
    {
      "cell_type": "code",
      "execution_count": null,
      "metadata": {
        "id": "e1eFSw72Felm"
      },
      "outputs": [],
      "source": [
        "rmse = np.sqrt(mean_squared_error(y_test, final_preds))\n",
        "\n",
        "print(\"Root Mean Squared Error:\", rmse)"
      ]
    },
    {
      "cell_type": "code",
      "execution_count": null,
      "metadata": {
        "id": "-B6_CsjWTF32"
      },
      "outputs": [],
      "source": [
        "test_preds = bayeslgbm.predict(X_test)\n",
        "test_preds"
      ]
    },
    {
      "cell_type": "code",
      "execution_count": null,
      "metadata": {
        "id": "0Tj7Ne1eTIil"
      },
      "outputs": [],
      "source": [
        "test_preds1 = bayesxgb.predict(X_test)\n",
        "test_preds1"
      ]
    },
    {
      "cell_type": "code",
      "execution_count": null,
      "metadata": {
        "colab": {
          "background_save": true
        },
        "id": "L554LUFjTIdv",
        "outputId": "30e93e72-bd10-4614-d5e1-d6a6c1005b85"
      },
      "outputs": [
        {
          "data": {
            "text/plain": [
              "array([12.38005126, 13.08914759, 12.52834046, ..., 13.1779149 ,\n",
              "       12.80845787, 13.63956501])"
            ]
          },
          "execution_count": 61,
          "metadata": {},
          "output_type": "execute_result"
        }
      ],
      "source": [
        "test_preds2 = bayesrf.predict(X_test)\n",
        "test_preds2"
      ]
    },
    {
      "cell_type": "code",
      "execution_count": null,
      "metadata": {
        "colab": {
          "background_save": true
        },
        "id": "DAYVaw2iTIbb",
        "outputId": "f78c2558-ddcd-4325-be19-0bcc5e3e88be"
      },
      "outputs": [
        {
          "name": "stdout",
          "output_type": "stream",
          "text": [
            "R2 score lgbm:  0.9523287593649667\n"
          ]
        }
      ],
      "source": [
        "lgbmscore = r2_score(y_test, test_preds) #calculate r2 score for lgbm model\n",
        "print('R2 score lgbm: ',lgbmscore)\n",
        "#0.914178 without hyperparameters\n",
        "#0.945087 with normalization applied to skewed data + hyperparams"
      ]
    },
    {
      "cell_type": "code",
      "execution_count": null,
      "metadata": {
        "colab": {
          "background_save": true
        },
        "id": "MuxhSqvkTIUx",
        "outputId": "5a9f8cdd-e6ed-4448-d801-801276a323b1"
      },
      "outputs": [
        {
          "name": "stdout",
          "output_type": "stream",
          "text": [
            "R2 score xgb:  0.9692889600083557\n"
          ]
        }
      ],
      "source": [
        "xgbscore =r2_score(y_test, test_preds1) #calculate r2 score for xgb model\n",
        "print('R2 score xgb: ', xgbscore)\n",
        "#0.9447651941 without hyperparameters\n",
        "#0.970013664 with normalization applied to skewed data + hyperparams"
      ]
    },
    {
      "cell_type": "code",
      "execution_count": null,
      "metadata": {
        "colab": {
          "background_save": true
        },
        "id": "ZQhUzOUGTIHL",
        "outputId": "ec289b83-98b3-4087-c94b-dd85baf7e1d9"
      },
      "outputs": [
        {
          "name": "stdout",
          "output_type": "stream",
          "text": [
            "R2 score rf:  0.9601228431022424\n"
          ]
        }
      ],
      "source": [
        "rfscore =r2_score(y_test, test_preds2) #calculate r2 score for rf model\n",
        "print('R2 score rf: ', rfscore)\n",
        "#0.9416806 without hyperparams\n",
        "#0.966731935 with normalization applied to skewed data + hyperparams"
      ]
    },
    {
      "cell_type": "code",
      "execution_count": null,
      "metadata": {
        "colab": {
          "background_save": true
        },
        "id": "T-oNYqzMtiam"
      },
      "outputs": [],
      "source": [
        "y_test = np.expm1(y_test)"
      ]
    },
    {
      "cell_type": "code",
      "execution_count": null,
      "metadata": {
        "colab": {
          "background_save": true
        },
        "id": "nYJ_cSoXwYnn",
        "outputId": "ff6be232-cc11-4bd5-cb89-30a7964eadea"
      },
      "outputs": [
        {
          "data": {
            "text/plain": [
              "8321     250000.0\n",
              "11716    495000.0\n",
              "5559     259000.0\n",
              "6348     460000.0\n",
              "2747     889000.0\n",
              "           ...   \n",
              "5887     349900.0\n",
              "7264     675000.0\n",
              "9586     550000.0\n",
              "1170     365000.0\n",
              "4654     799999.0\n",
              "Name: price, Length: 2322, dtype: float64"
            ]
          },
          "execution_count": 66,
          "metadata": {},
          "output_type": "execute_result"
        }
      ],
      "source": [
        "y_test"
      ]
    },
    {
      "cell_type": "code",
      "execution_count": null,
      "metadata": {
        "colab": {
          "background_save": true
        },
        "id": "Wp0CuUn2wtli"
      },
      "outputs": [],
      "source": [
        "final_preds = np.expm1(final_preds)"
      ]
    },
    {
      "cell_type": "code",
      "execution_count": null,
      "metadata": {
        "colab": {
          "background_save": true
        },
        "id": "bBSLeWrywwkm",
        "outputId": "536e528d-d9b2-433b-8df6-6106c4756b12"
      },
      "outputs": [
        {
          "data": {
            "text/plain": [
              "array([228688.9 , 479204.38, 269674.94, ..., 532682.8 , 370879.47,\n",
              "       829756.  ], dtype=float32)"
            ]
          },
          "execution_count": 68,
          "metadata": {},
          "output_type": "execute_result"
        }
      ],
      "source": [
        "final_preds"
      ]
    },
    {
      "cell_type": "code",
      "execution_count": null,
      "metadata": {
        "colab": {
          "background_save": true
        },
        "id": "WaDKVA6jP81K",
        "outputId": "10d153f4-7b8b-42db-909a-7a34dc679d88"
      },
      "outputs": [
        {
          "name": "stdout",
          "output_type": "stream",
          "text": [
            "Mean Squared Error: 7046817536.044087\n"
          ]
        }
      ],
      "source": [
        "mse = mean_squared_error(y_test, final_preds)\n",
        "\n",
        "print(\"Mean Squared Error:\", mse)"
      ]
    },
    {
      "cell_type": "code",
      "execution_count": null,
      "metadata": {
        "colab": {
          "background_save": true
        },
        "id": "Ntj-VGUxOT8g",
        "outputId": "b29f3de2-a6d4-4220-f97d-6fa93a30964a"
      },
      "outputs": [
        {
          "name": "stdout",
          "output_type": "stream",
          "text": [
            "Root Mean Squared Error: 83945.32468246274\n"
          ]
        }
      ],
      "source": [
        "rmse = np.sqrt(mse)\n",
        "print(\"Root Mean Squared Error:\", rmse)"
      ]
    },
    {
      "cell_type": "code",
      "execution_count": null,
      "metadata": {
        "colab": {
          "background_save": true
        },
        "id": "CbUzCSQeYyBj",
        "outputId": "a6215d5e-ee0f-44f1-899f-96ac38897e16"
      },
      "outputs": [
        {
          "name": "stdout",
          "output_type": "stream",
          "text": [
            "Mean Absolute Error: 38700.63594826656\n"
          ]
        }
      ],
      "source": [
        "from sklearn.metrics import mean_absolute_error\n",
        "mae = mean_absolute_error(y_test,final_preds)\n",
        "print(\"Mean Absolute Error:\", mae)"
      ]
    },
    {
      "cell_type": "code",
      "execution_count": null,
      "metadata": {
        "colab": {
          "background_save": true
        },
        "id": "DSbygenaQHqq",
        "outputId": "e6c8aa20-0338-4ff9-fc4c-bacb8fd6f77c"
      },
      "outputs": [
        {
          "name": "stdout",
          "output_type": "stream",
          "text": [
            "R2 score stacked xgb:  0.9520410193227871\n"
          ]
        }
      ],
      "source": [
        "stackedscore =r2_score(y_test, final_preds)\n",
        "print('R2 score stacked xgb: ', stackedscore)"
      ]
    },
    {
      "cell_type": "code",
      "execution_count": null,
      "metadata": {
        "colab": {
          "background_save": true
        },
        "id": "6v6SNiJ1OGeb",
        "outputId": "8e80c62b-3192-40bc-8fc1-c8dee7bd6c4c"
      },
      "outputs": [
        {
          "data": {
            "text/plain": [
              "8321     250000.0\n",
              "11716    495000.0\n",
              "5559     259000.0\n",
              "6348     460000.0\n",
              "2747     889000.0\n",
              "           ...   \n",
              "5887     349900.0\n",
              "7264     675000.0\n",
              "9586     550000.0\n",
              "1170     365000.0\n",
              "4654     799999.0\n",
              "Name: price, Length: 2322, dtype: float64"
            ]
          },
          "execution_count": 73,
          "metadata": {},
          "output_type": "execute_result"
        }
      ],
      "source": [
        "y_test"
      ]
    },
    {
      "cell_type": "code",
      "execution_count": null,
      "metadata": {
        "colab": {
          "background_save": true
        },
        "id": "yPCxJcwDOzKp",
        "outputId": "32af83ea-7c40-4e67-b912-9553b204725b"
      },
      "outputs": [
        {
          "data": {
            "text/plain": [
              "array([228688.9 , 479204.38, 269674.94, ..., 532682.8 , 370879.47,\n",
              "       829756.  ], dtype=float32)"
            ]
          },
          "execution_count": 74,
          "metadata": {},
          "output_type": "execute_result"
        }
      ],
      "source": [
        "final_preds"
      ]
    },
    {
      "cell_type": "code",
      "execution_count": null,
      "metadata": {
        "colab": {
          "background_save": true
        },
        "id": "uc-ZSaBFpYF9",
        "outputId": "c1e07428-913a-4b81-d39a-cda9c7ae08c7"
      },
      "outputs": [
        {
          "data": {
            "image/png": "[encoded data removed]",
            "text/plain": [
              "<Figure size 800x600 with 1 Axes>"
            ]
          },
          "metadata": {},
          "output_type": "display_data"
        }
      ],
      "source": [
        "import seaborn as sns\n",
        "import matplotlib.pyplot as plt\n",
        "\n",
        "# Assuming final_preds and y_test are 1D numpy arrays or Python lists\n",
        "# Calculate the differences between final_preds and y_test\n",
        "differences = (final_preds - y_test)/y_test\n",
        "\n",
        "# Create a scatter plot for y_test (actual values)\n",
        "plt.figure(figsize=(8, 6))\n",
        "sns.lineplot(x= range(len(y_test)), y = differences*100, color='blue', label='y_test (Actual)')\n",
        "#sns.lineplot(x = range(len(final_preds)), y = final_preds, color='red', label='final_preds (Predicted)')\n",
        "plt.axhline(y=0, color='black', linestyle='--')  # Add a horizontal line at y=0 for reference\n",
        "plt.xlabel('Data Point Index')\n",
        "plt.ylabel('Percentage away from actual value')\n",
        "plt.title('Actual vs. Predicted Values')\n",
        "plt.legend()\n",
        "plt.show()"
      ]
    },
    {
      "cell_type": "code",
      "execution_count": null,
      "metadata": {
        "colab": {
          "background_save": true
        },
        "id": "F9Sm6U77UIuJ",
        "outputId": "4384043e-f250-4300-b0d3-3c0d3ed8c9a4"
      },
      "outputs": [
        {
          "data": {
            "text/plain": [
              "array([[ 0.12959806, -0.65202051, -0.49302484, -0.47273377, -0.84894545,\n",
              "        -0.42467172],\n",
              "       [ 0.89078289,  0.52854908, -0.49302484, -0.47273377, -0.50693267,\n",
              "        -0.29240291],\n",
              "       [-0.48966335, -1.02483196, -0.49302484, -0.47273377, -0.66001488,\n",
              "         2.5052989 ],\n",
              "       ...,\n",
              "       [ 0.41322068, -0.86505562,  2.43404554,  1.60017141,  1.45988299,\n",
              "        -0.2996385 ],\n",
              "       [-1.47371053, -0.20819736,  0.48266528,  0.56371882, -0.41585845,\n",
              "        -0.62385598],\n",
              "       [-0.69257123,  0.37764921, -0.49302484, -0.47273377, -0.3373796 ,\n",
              "        -0.59003341]])"
            ]
          },
          "execution_count": 76,
          "metadata": {},
          "output_type": "execute_result"
        }
      ],
      "source": [
        "X_test"
      ]
    },
    {
      "cell_type": "code",
      "execution_count": null,
      "metadata": {
        "colab": {
          "background_save": true
        },
        "id": "OImuhOHVXKOe",
        "outputId": "972ec2bb-1293-44fc-fc60-4712ab556965"
      },
      "outputs": [
        {
          "data": {
            "text/plain": [
              "array([228688.9 , 479204.38, 269674.94, ..., 532682.8 , 370879.47,\n",
              "       829756.  ], dtype=float32)"
            ]
          },
          "execution_count": 77,
          "metadata": {},
          "output_type": "execute_result"
        }
      ],
      "source": [
        "final_preds"
      ]
    },
    {
      "cell_type": "code",
      "execution_count": null,
      "metadata": {
        "colab": {
          "background_save": true
        },
        "id": "RChLJeRIV2V2",
        "outputId": "37f87f09-0e16-4200-9703-7797365c3b3f"
      },
      "outputs": [
        {
          "data": {
            "text/plain": [
              "array([[ 8.3210000e+03,  1.4300000e+02,  3.0000000e+00,  2.0000000e+00,\n",
              "         1.3000000e+03, -1.6022170e-01],\n",
              "       [ 1.1716000e+04,  2.7600000e+02,  3.0000000e+00,  2.0000000e+00,\n",
              "         1.6530000e+03, -4.7480933e-02],\n",
              "       [ 5.5590000e+03,  1.0100000e+02,  3.0000000e+00,  2.0000000e+00,\n",
              "         1.4950000e+03,  2.3371708e+00],\n",
              "       ...,\n",
              "       [ 9.5860000e+03,  1.1900000e+02,  6.0000000e+00,  4.0000000e+00,\n",
              "         3.6830000e+03, -5.3648263e-02],\n",
              "       [ 1.1700000e+03,  1.9300000e+02,  4.0000000e+00,  3.0000000e+00,\n",
              "         1.7470000e+03, -3.2999858e-01],\n",
              "       [ 4.6540000e+03,  2.5900000e+02,  3.0000000e+00,  2.0000000e+00,\n",
              "         1.8280000e+03, -3.0116954e-01]])"
            ]
          },
          "execution_count": 78,
          "metadata": {},
          "output_type": "execute_result"
        }
      ],
      "source": [
        "X_test = scaler.inverse_transform(X_test)\n",
        "X_test"
      ]
    },
    {
      "cell_type": "code",
      "execution_count": null,
      "metadata": {
        "colab": {
          "background_save": true
        },
        "id": "bU6cynnCYCsN",
        "outputId": "a0657003-9f20-4ec5-98a2-c3b4c7d4ac3e"
      },
      "outputs": [
        {
          "data": {
            "text/plain": [
              "array(['image_id', 'n_citi', 'bed', 'bath', 'sqft', 'price',\n",
              "       'predicted_std_from_mean'], dtype=object)"
            ]
          },
          "execution_count": 79,
          "metadata": {},
          "output_type": "execute_result"
        }
      ],
      "source": [
        "df.columns.values"
      ]
    },
    {
      "cell_type": "code",
      "execution_count": null,
      "metadata": {
        "colab": {
          "background_save": true
        },
        "id": "JjvoKBTgXXL5"
      },
      "outputs": [],
      "source": [
        "X_test = pd.DataFrame(X_test)"
      ]
    },
    {
      "cell_type": "code",
      "execution_count": null,
      "metadata": {
        "colab": {
          "background_save": true
        },
        "id": "GhCs6INCXZ2R",
        "outputId": "380919d2-c066-4e96-c1df-183cc965aaea"
      },
      "outputs": [
        {
          "data": {
            "text/html": [
              "\n",
              "\n",
              "  <div id=\"df-2cb9dc53-1e98-4d5a-857c-be6060420d2f\">\n",
              "    <div class=\"colab-df-container\">\n",
              "      <div>\n",
              "<style scoped>\n",
              "    .dataframe tbody tr th:only-of-type {\n",
              "        vertical-align: middle;\n",
              "    }\n",
              "\n",
              "    .dataframe tbody tr th {\n",
              "        vertical-align: top;\n",
              "    }\n",
              "\n",
              "    .dataframe thead th {\n",
              "        text-align: right;\n",
              "    }\n",
              "</style>\n",
              "<table border=\"1\" class=\"dataframe\">\n",
              "  <thead>\n",
              "    <tr style=\"text-align: right;\">\n",
              "      <th></th>\n",
              "      <th>0</th>\n",
              "      <th>1</th>\n",
              "      <th>2</th>\n",
              "      <th>3</th>\n",
              "      <th>4</th>\n",
              "      <th>5</th>\n",
              "    </tr>\n",
              "  </thead>\n",
              "  <tbody>\n",
              "    <tr>\n",
              "      <th>0</th>\n",
              "      <td>8321.0</td>\n",
              "      <td>143.0</td>\n",
              "      <td>3.0</td>\n",
              "      <td>2.0</td>\n",
              "      <td>1300.0</td>\n",
              "      <td>-0.160222</td>\n",
              "    </tr>\n",
              "    <tr>\n",
              "      <th>1</th>\n",
              "      <td>11716.0</td>\n",
              "      <td>276.0</td>\n",
              "      <td>3.0</td>\n",
              "      <td>2.0</td>\n",
              "      <td>1653.0</td>\n",
              "      <td>-0.047481</td>\n",
              "    </tr>\n",
              "    <tr>\n",
              "      <th>2</th>\n",
              "      <td>5559.0</td>\n",
              "      <td>101.0</td>\n",
              "      <td>3.0</td>\n",
              "      <td>2.0</td>\n",
              "      <td>1495.0</td>\n",
              "      <td>2.337171</td>\n",
              "    </tr>\n",
              "    <tr>\n",
              "      <th>3</th>\n",
              "      <td>6348.0</td>\n",
              "      <td>185.0</td>\n",
              "      <td>4.0</td>\n",
              "      <td>3.1</td>\n",
              "      <td>3208.0</td>\n",
              "      <td>0.046480</td>\n",
              "    </tr>\n",
              "    <tr>\n",
              "      <th>4</th>\n",
              "      <td>2747.0</td>\n",
              "      <td>167.0</td>\n",
              "      <td>2.0</td>\n",
              "      <td>1.0</td>\n",
              "      <td>1084.0</td>\n",
              "      <td>1.693512</td>\n",
              "    </tr>\n",
              "    <tr>\n",
              "      <th>...</th>\n",
              "      <td>...</td>\n",
              "      <td>...</td>\n",
              "      <td>...</td>\n",
              "      <td>...</td>\n",
              "      <td>...</td>\n",
              "      <td>...</td>\n",
              "    </tr>\n",
              "    <tr>\n",
              "      <th>2317</th>\n",
              "      <td>5887.0</td>\n",
              "      <td>233.0</td>\n",
              "      <td>2.0</td>\n",
              "      <td>2.0</td>\n",
              "      <td>1606.0</td>\n",
              "      <td>0.507758</td>\n",
              "    </tr>\n",
              "    <tr>\n",
              "      <th>2318</th>\n",
              "      <td>7264.0</td>\n",
              "      <td>265.0</td>\n",
              "      <td>4.0</td>\n",
              "      <td>3.0</td>\n",
              "      <td>2456.0</td>\n",
              "      <td>1.087134</td>\n",
              "    </tr>\n",
              "    <tr>\n",
              "      <th>2319</th>\n",
              "      <td>9586.0</td>\n",
              "      <td>119.0</td>\n",
              "      <td>6.0</td>\n",
              "      <td>4.0</td>\n",
              "      <td>3683.0</td>\n",
              "      <td>-0.053648</td>\n",
              "    </tr>\n",
              "    <tr>\n",
              "      <th>2320</th>\n",
              "      <td>1170.0</td>\n",
              "      <td>193.0</td>\n",
              "      <td>4.0</td>\n",
              "      <td>3.0</td>\n",
              "      <td>1747.0</td>\n",
              "      <td>-0.329999</td>\n",
              "    </tr>\n",
              "    <tr>\n",
              "      <th>2321</th>\n",
              "      <td>4654.0</td>\n",
              "      <td>259.0</td>\n",
              "      <td>3.0</td>\n",
              "      <td>2.0</td>\n",
              "      <td>1828.0</td>\n",
              "      <td>-0.301170</td>\n",
              "    </tr>\n",
              "  </tbody>\n",
              "</table>\n",
              "<p>2322 rows × 6 columns</p>\n",
              "</div>\n",
              "      <button class=\"colab-df-convert\" onclick=\"convertToInteractive('df-2cb9dc53-1e98-4d5a-857c-be6060420d2f')\"\n",
              "              title=\"Convert this dataframe to an interactive table.\"\n",
              "              style=\"display:none;\">\n",
              "\n",
              "  <svg xmlns=\"http://www.w3.org/2000/svg\" height=\"24px\"viewBox=\"0 0 24 24\"\n",
              "       width=\"24px\">\n",
              "    <path d=\"M0 0h24v24H0V0z\" fill=\"none\"/>\n",
              "    <path d=\"M18.56 5.44l.94 2.06.94-2.06 2.06-.94-2.06-.94-.94-2.06-.94 2.06-2.06.94zm-11 1L8.5 8.5l.94-2.06 2.06-.94-2.06-.94L8.5 2.5l-.94 2.06-2.06.94zm10 10l.94 2.06.94-2.06 2.06-.94-2.06-.94-.94-2.06-.94 2.06-2.06.94z\"/><path d=\"M17.41 7.96l-1.37-1.37c-.4-.4-.92-.59-1.43-.59-.52 0-1.04.2-1.43.59L10.3 9.45l-7.72 7.72c-.78.78-.78 2.05 0 2.83L4 21.41c.39.39.9.59 1.41.59.51 0 1.02-.2 1.41-.59l7.78-7.78 2.81-2.81c.8-.78.8-2.07 0-2.86zM5.41 20L4 18.59l7.72-7.72 1.47 1.35L5.41 20z\"/>\n",
              "  </svg>\n",
              "      </button>\n",
              "\n",
              "\n",
              "\n",
              "    <div id=\"df-d0f06afe-72b8-4379-80b9-39f558033b81\">\n",
              "      <button class=\"colab-df-quickchart\" onclick=\"quickchart('df-d0f06afe-72b8-4379-80b9-39f558033b81')\"\n",
              "              title=\"Suggest charts.\"\n",
              "              style=\"display:none;\">\n",
              "\n",
              "<svg xmlns=\"http://www.w3.org/2000/svg\" height=\"24px\"viewBox=\"0 0 24 24\"\n",
              "     width=\"24px\">\n",
              "    <g>\n",
              "        <path d=\"M19 3H5c-1.1 0-2 .9-2 2v14c0 1.1.9 2 2 2h14c1.1 0 2-.9 2-2V5c0-1.1-.9-2-2-2zM9 17H7v-7h2v7zm4 0h-2V7h2v10zm4 0h-2v-4h2v4z\"/>\n",
              "    </g>\n",
              "</svg>\n",
              "      </button>\n",
              "    </div>\n",
              "\n",
              "<style>\n",
              "  .colab-df-quickchart {\n",
              "    background-color: #E8F0FE;\n",
              "    border: none;\n",
              "    border-radius: 50%;\n",
              "    cursor: pointer;\n",
              "    display: none;\n",
              "    fill: #1967D2;\n",
              "    height: 32px;\n",
              "    padding: 0 0 0 0;\n",
              "    width: 32px;\n",
              "  }\n",
              "\n",
              "  .colab-df-quickchart:hover {\n",
              "    background-color: #E2EBFA;\n",
              "    box-shadow: 0px 1px 2px rgba(60, 64, 67, 0.3), 0px 1px 3px 1px rgba(60, 64, 67, 0.15);\n",
              "    fill: #174EA6;\n",
              "  }\n",
              "\n",
              "  [theme=dark] .colab-df-quickchart {\n",
              "    background-color: #3B4455;\n",
              "    fill: #D2E3FC;\n",
              "  }\n",
              "\n",
              "  [theme=dark] .colab-df-quickchart:hover {\n",
              "    background-color: #434B5C;\n",
              "    box-shadow: 0px 1px 3px 1px rgba(0, 0, 0, 0.15);\n",
              "    filter: drop-shadow(0px 1px 2px rgba(0, 0, 0, 0.3));\n",
              "    fill: #FFFFFF;\n",
              "  }\n",
              "</style>\n",
              "\n",
              "    <script>\n",
              "      async function quickchart(key) {\n",
              "        const containerElement = document.querySelector('#' + key);\n",
              "        const charts = await google.colab.kernel.invokeFunction(\n",
              "            'suggestCharts', [key], {});\n",
              "      }\n",
              "    </script>\n",
              "\n",
              "      <script>\n",
              "\n",
              "function displayQuickchartButton(domScope) {\n",
              "  let quickchartButtonEl =\n",
              "    domScope.querySelector('#df-d0f06afe-72b8-4379-80b9-39f558033b81 button.colab-df-quickchart');\n",
              "  quickchartButtonEl.style.display =\n",
              "    google.colab.kernel.accessAllowed ? 'block' : 'none';\n",
              "}\n",
              "\n",
              "        displayQuickchartButton(document);\n",
              "      </script>\n",
              "      <style>\n",
              "    .colab-df-container {\n",
              "      display:flex;\n",
              "      flex-wrap:wrap;\n",
              "      gap: 12px;\n",
              "    }\n",
              "\n",
              "    .colab-df-convert {\n",
              "      background-color: #E8F0FE;\n",
              "      border: none;\n",
              "      border-radius: 50%;\n",
              "      cursor: pointer;\n",
              "      display: none;\n",
              "      fill: #1967D2;\n",
              "      height: 32px;\n",
              "      padding: 0 0 0 0;\n",
              "      width: 32px;\n",
              "    }\n",
              "\n",
              "    .colab-df-convert:hover {\n",
              "      background-color: #E2EBFA;\n",
              "      box-shadow: 0px 1px 2px rgba(60, 64, 67, 0.3), 0px 1px 3px 1px rgba(60, 64, 67, 0.15);\n",
              "      fill: #174EA6;\n",
              "    }\n",
              "\n",
              "    [theme=dark] .colab-df-convert {\n",
              "      background-color: #3B4455;\n",
              "      fill: #D2E3FC;\n",
              "    }\n",
              "\n",
              "    [theme=dark] .colab-df-convert:hover {\n",
              "      background-color: #434B5C;\n",
              "      box-shadow: 0px 1px 3px 1px rgba(0, 0, 0, 0.15);\n",
              "      filter: drop-shadow(0px 1px 2px rgba(0, 0, 0, 0.3));\n",
              "      fill: #FFFFFF;\n",
              "    }\n",
              "  </style>\n",
              "\n",
              "      <script>\n",
              "        const buttonEl =\n",
              "          document.querySelector('#df-2cb9dc53-1e98-4d5a-857c-be6060420d2f button.colab-df-convert');\n",
              "        buttonEl.style.display =\n",
              "          google.colab.kernel.accessAllowed ? 'block' : 'none';\n",
              "\n",
              "        async function convertToInteractive(key) {\n",
              "          const element = document.querySelector('#df-2cb9dc53-1e98-4d5a-857c-be6060420d2f');\n",
              "          const dataTable =\n",
              "            await google.colab.kernel.invokeFunction('convertToInteractive',\n",
              "                                                     [key], {});\n",
              "          if (!dataTable) return;\n",
              "\n",
              "          const docLinkHtml = 'Like what you see? Visit the ' +\n",
              "            '<a target=\"_blank\" href=https://colab.research.google.com/notebooks/data_table.ipynb>data table notebook</a>'\n",
              "            + ' to learn more about interactive tables.';\n",
              "          element.innerHTML = '';\n",
              "          dataTable['output_type'] = 'display_data';\n",
              "          await google.colab.output.renderOutput(dataTable, element);\n",
              "          const docLink = document.createElement('div');\n",
              "          docLink.innerHTML = docLinkHtml;\n",
              "          element.appendChild(docLink);\n",
              "        }\n",
              "      </script>\n",
              "    </div>\n",
              "  </div>\n"
            ],
            "text/plain": [
              "            0      1    2    3       4         5\n",
              "0      8321.0  143.0  3.0  2.0  1300.0 -0.160222\n",
              "1     11716.0  276.0  3.0  2.0  1653.0 -0.047481\n",
              "2      5559.0  101.0  3.0  2.0  1495.0  2.337171\n",
              "3      6348.0  185.0  4.0  3.1  3208.0  0.046480\n",
              "4      2747.0  167.0  2.0  1.0  1084.0  1.693512\n",
              "...       ...    ...  ...  ...     ...       ...\n",
              "2317   5887.0  233.0  2.0  2.0  1606.0  0.507758\n",
              "2318   7264.0  265.0  4.0  3.0  2456.0  1.087134\n",
              "2319   9586.0  119.0  6.0  4.0  3683.0 -0.053648\n",
              "2320   1170.0  193.0  4.0  3.0  1747.0 -0.329999\n",
              "2321   4654.0  259.0  3.0  2.0  1828.0 -0.301170\n",
              "\n",
              "[2322 rows x 6 columns]"
            ]
          },
          "execution_count": 81,
          "metadata": {},
          "output_type": "execute_result"
        }
      ],
      "source": [
        "X_test"
      ]
    },
    {
      "cell_type": "code",
      "execution_count": null,
      "metadata": {
        "colab": {
          "background_save": true
        },
        "id": "oWPkNCAiOFQ6"
      },
      "outputs": [],
      "source": []
    },
    {
      "cell_type": "code",
      "execution_count": null,
      "metadata": {
        "colab": {
          "background_save": true
        },
        "id": "MByL1-tiRbeR",
        "outputId": "b9daed43-27a4-4eda-8a0d-1ba5f7d8305c"
      },
      "outputs": [
        {
          "ename": "KeyError",
          "evalue": "ignored",
          "output_type": "error",
          "traceback": [
            "\u001b[0;31m---------------------------------------------------------------------------\u001b[0m",
            "\u001b[0;31mKeyError\u001b[0m                                  Traceback (most recent call last)",
            "\u001b[0;32m<ipython-input-82-33a8842e7afa>\u001b[0m in \u001b[0;36m<cell line: 1>\u001b[0;34m()\u001b[0m\n\u001b[1;32m      3\u001b[0m   \u001b[0;32mfor\u001b[0m \u001b[0mpreds\u001b[0m \u001b[0;32min\u001b[0m \u001b[0mfinal_preds\u001b[0m\u001b[0;34m:\u001b[0m\u001b[0;34m\u001b[0m\u001b[0;34m\u001b[0m\u001b[0m\n\u001b[1;32m      4\u001b[0m     \u001b[0;32mif\u001b[0m \u001b[0;34m(\u001b[0m\u001b[0;34m(\u001b[0m\u001b[0mpreds\u001b[0m \u001b[0;34m-\u001b[0m \u001b[0mtest\u001b[0m\u001b[0;34m)\u001b[0m\u001b[0;34m/\u001b[0m\u001b[0mtest\u001b[0m \u001b[0;34m>\u001b[0m\u001b[0;36m0.5\u001b[0m\u001b[0;34m)\u001b[0m\u001b[0;34m:\u001b[0m\u001b[0;34m\u001b[0m\u001b[0;34m\u001b[0m\u001b[0m\n\u001b[0;32m----> 5\u001b[0;31m       \u001b[0mprint\u001b[0m\u001b[0;34m(\u001b[0m\u001b[0mX_test\u001b[0m\u001b[0;34m[\u001b[0m\u001b[0mpreds\u001b[0m\u001b[0;34m]\u001b[0m\u001b[0;34m)\u001b[0m\u001b[0;34m\u001b[0m\u001b[0;34m\u001b[0m\u001b[0m\n\u001b[0m",
            "\u001b[0;32m/usr/local/lib/python3.10/dist-packages/pandas/core/frame.py\u001b[0m in \u001b[0;36m__getitem__\u001b[0;34m(self, key)\u001b[0m\n\u001b[1;32m   3805\u001b[0m             \u001b[0;32mif\u001b[0m \u001b[0mself\u001b[0m\u001b[0;34m.\u001b[0m\u001b[0mcolumns\u001b[0m\u001b[0;34m.\u001b[0m\u001b[0mnlevels\u001b[0m \u001b[0;34m>\u001b[0m \u001b[0;36m1\u001b[0m\u001b[0;34m:\u001b[0m\u001b[0;34m\u001b[0m\u001b[0;34m\u001b[0m\u001b[0m\n\u001b[1;32m   3806\u001b[0m                 \u001b[0;32mreturn\u001b[0m \u001b[0mself\u001b[0m\u001b[0;34m.\u001b[0m\u001b[0m_getitem_multilevel\u001b[0m\u001b[0;34m(\u001b[0m\u001b[0mkey\u001b[0m\u001b[0;34m)\u001b[0m\u001b[0;34m\u001b[0m\u001b[0;34m\u001b[0m\u001b[0m\n\u001b[0;32m-> 3807\u001b[0;31m             \u001b[0mindexer\u001b[0m \u001b[0;34m=\u001b[0m \u001b[0mself\u001b[0m\u001b[0;34m.\u001b[0m\u001b[0mcolumns\u001b[0m\u001b[0;34m.\u001b[0m\u001b[0mget_loc\u001b[0m\u001b[0;34m(\u001b[0m\u001b[0mkey\u001b[0m\u001b[0;34m)\u001b[0m\u001b[0;34m\u001b[0m\u001b[0;34m\u001b[0m\u001b[0m\n\u001b[0m\u001b[1;32m   3808\u001b[0m             \u001b[0;32mif\u001b[0m \u001b[0mis_integer\u001b[0m\u001b[0;34m(\u001b[0m\u001b[0mindexer\u001b[0m\u001b[0;34m)\u001b[0m\u001b[0;34m:\u001b[0m\u001b[0;34m\u001b[0m\u001b[0;34m\u001b[0m\u001b[0m\n\u001b[1;32m   3809\u001b[0m                 \u001b[0mindexer\u001b[0m \u001b[0;34m=\u001b[0m \u001b[0;34m[\u001b[0m\u001b[0mindexer\u001b[0m\u001b[0;34m]\u001b[0m\u001b[0;34m\u001b[0m\u001b[0;34m\u001b[0m\u001b[0m\n",
            "\u001b[0;32m/usr/local/lib/python3.10/dist-packages/pandas/core/indexes/range.py\u001b[0m in \u001b[0;36mget_loc\u001b[0;34m(self, key, method, tolerance)\u001b[0m\n\u001b[1;32m    393\u001b[0m                     \u001b[0;32mraise\u001b[0m \u001b[0mKeyError\u001b[0m\u001b[0;34m(\u001b[0m\u001b[0mkey\u001b[0m\u001b[0;34m)\u001b[0m \u001b[0;32mfrom\u001b[0m \u001b[0merr\u001b[0m\u001b[0;34m\u001b[0m\u001b[0;34m\u001b[0m\u001b[0m\n\u001b[1;32m    394\u001b[0m             \u001b[0mself\u001b[0m\u001b[0;34m.\u001b[0m\u001b[0m_check_indexing_error\u001b[0m\u001b[0;34m(\u001b[0m\u001b[0mkey\u001b[0m\u001b[0;34m)\u001b[0m\u001b[0;34m\u001b[0m\u001b[0;34m\u001b[0m\u001b[0m\n\u001b[0;32m--> 395\u001b[0;31m             \u001b[0;32mraise\u001b[0m \u001b[0mKeyError\u001b[0m\u001b[0;34m(\u001b[0m\u001b[0mkey\u001b[0m\u001b[0;34m)\u001b[0m\u001b[0;34m\u001b[0m\u001b[0;34m\u001b[0m\u001b[0m\n\u001b[0m\u001b[1;32m    396\u001b[0m         \u001b[0;32mreturn\u001b[0m \u001b[0msuper\u001b[0m\u001b[0;34m(\u001b[0m\u001b[0;34m)\u001b[0m\u001b[0;34m.\u001b[0m\u001b[0mget_loc\u001b[0m\u001b[0;34m(\u001b[0m\u001b[0mkey\u001b[0m\u001b[0;34m,\u001b[0m \u001b[0mmethod\u001b[0m\u001b[0;34m=\u001b[0m\u001b[0mmethod\u001b[0m\u001b[0;34m,\u001b[0m \u001b[0mtolerance\u001b[0m\u001b[0;34m=\u001b[0m\u001b[0mtolerance\u001b[0m\u001b[0;34m)\u001b[0m\u001b[0;34m\u001b[0m\u001b[0;34m\u001b[0m\u001b[0m\n\u001b[1;32m    397\u001b[0m \u001b[0;34m\u001b[0m\u001b[0m\n",
            "\u001b[0;31mKeyError\u001b[0m: 479204.38"
          ]
        }
      ],
      "source": [
        "for test in y_test:\n",
        "\n",
        "  for preds in final_preds:\n",
        "    if ((preds - test)/test >0.5):\n",
        "      print(X_test[preds])"
      ]
    },
    {
      "cell_type": "code",
      "execution_count": null,
      "metadata": {
        "colab": {
          "background_save": true
        },
        "id": "ScfO5-EtRIOG"
      },
      "outputs": [],
      "source": []
    },
    {
      "cell_type": "code",
      "execution_count": null,
      "metadata": {
        "colab": {
          "background_save": true
        },
        "id": "P8cpfFt_WeWz"
      },
      "outputs": [],
      "source": [
        "import torch\n",
        "from torch import nn\n",
        "import torchvision\n",
        "import torch.nn.functional as F\n",
        "from torchvision import datasets, transforms\n",
        "import torch.optim as optim\n",
        "import os\n",
        "import cv2\n",
        "import io\n",
        "import pandas as pd\n",
        "import numpy as np\n",
        "import matplotlib.pyplot as plt\n",
        "from sklearn.model_selection import train_test_split\n",
        "from google.colab.patches import cv2_imshow\n",
        "import tensorflow as tf\n",
        "from tensorflow.keras.callbacks import EarlyStopping\n",
        "from tensorflow.keras.layers import Input, Conv2D, MaxPooling2D, Dropout, Flatten, Dense, Rescaling, BatchNormalization, Concatenate\n",
        "from tensorflow.keras.models import Model\n",
        "from torch.utils.data import Dataset"
      ]
    },
    {
      "cell_type": "code",
      "execution_count": null,
      "metadata": {
        "colab": {
          "background_save": true
        },
        "id": "daQlfmrPvgxV"
      },
      "outputs": [],
      "source": []
    },
    {
      "cell_type": "code",
      "execution_count": null,
      "metadata": {
        "colab": {
          "background_save": true
        },
        "id": "uxy5vZQlWhze"
      },
      "outputs": [],
      "source": [
        "img_dir = '/content/drive/MyDrive/real_estate_data/socal_data/socal2/socal_pics'\n",
        "\n",
        "img_height = 64\n",
        "img_width = 64\n",
        "\n",
        "files = os.listdir(img_dir)\n",
        "files.sort(key=lambda x: int(x.split('.')[0]))\n",
        "\n",
        "img_list = []\n",
        "std_dev_from_mean_list = []\n",
        "\n",
        "imageid_to_std_dev_from_mean = dict(zip(df[\"image_id\"], df[\"std_dev_from_mean\"]))\n",
        "for file in files:\n",
        "    img_id = int(file.split('.')[0])\n",
        "    std_dev_from_mean = imageid_to_std_dev_from_mean[img_id]\n",
        "    img = cv2.imread(os.path.join(img_dir, file))\n",
        "    img = cv2.resize(img,(img_height, img_width))\n",
        "    img = img.astype('float64') / 255.0 #normalize the data\n",
        "    img_list.append(img)\n",
        "    std_dev_from_mean_list.append(std_dev_from_mean)\n",
        "    #prices = np.asarray(price_list)\n",
        "\n",
        "\n",
        "img_features = np.asarray(img_list)\n",
        "\n"
      ]
    },
    {
      "cell_type": "code",
      "execution_count": null,
      "metadata": {
        "colab": {
          "background_save": true
        },
        "id": "ArLJtQmctGtN"
      },
      "outputs": [],
      "source": [
        "len(img_list)"
      ]
    },
    {
      "cell_type": "code",
      "execution_count": null,
      "metadata": {
        "colab": {
          "background_save": true
        },
        "id": "VUwkbv5UHEKg"
      },
      "outputs": [],
      "source": [
        "img_features"
      ]
    },
    {
      "cell_type": "code",
      "execution_count": null,
      "metadata": {
        "colab": {
          "background_save": true
        },
        "id": "RQtJJEMkHbH_"
      },
      "outputs": [],
      "source": [
        "std_dev_from_mean_list"
      ]
    },
    {
      "cell_type": "code",
      "execution_count": null,
      "metadata": {
        "colab": {
          "background_save": true
        },
        "id": "_q8XWDR4DQRI"
      },
      "outputs": [],
      "source": [
        "\n"
      ]
    },
    {
      "cell_type": "code",
      "execution_count": null,
      "metadata": {
        "colab": {
          "background_save": true
        },
        "id": "w0qDmylJDEHY"
      },
      "outputs": [],
      "source": []
    },
    {
      "cell_type": "code",
      "execution_count": null,
      "metadata": {
        "colab": {
          "background_save": true
        },
        "id": "5yzkk3_k3MsA"
      },
      "outputs": [],
      "source": [
        "img_features"
      ]
    },
    {
      "cell_type": "code",
      "execution_count": null,
      "metadata": {
        "colab": {
          "background_save": true
        },
        "id": "8AjvXzyaWv-K"
      },
      "outputs": [],
      "source": []
    },
    {
      "cell_type": "code",
      "execution_count": null,
      "metadata": {
        "colab": {
          "background_save": true
        },
        "id": "CRgB7yBRAkf3"
      },
      "outputs": [],
      "source": [
        "img_features[1]"
      ]
    },
    {
      "cell_type": "code",
      "execution_count": null,
      "metadata": {
        "colab": {
          "background_save": true
        },
        "id": "eWM1cWAgWhw5"
      },
      "outputs": [],
      "source": [
        "img_rgb = cv2.cvtColor(img_features[1], cv2.COLOR_BGR2RGB) #swap bgr to rgb"
      ]
    },
    {
      "cell_type": "code",
      "execution_count": null,
      "metadata": {
        "colab": {
          "background_save": true
        },
        "id": "y4lphA5-Whuk"
      },
      "outputs": [],
      "source": [
        "plt.imshow(img_rgb)"
      ]
    },
    {
      "cell_type": "code",
      "execution_count": null,
      "metadata": {
        "colab": {
          "background_save": true
        },
        "id": "LjSGLd5MWhsR"
      },
      "outputs": [],
      "source": [
        "size = len(img_features)\n",
        "size"
      ]
    },
    {
      "cell_type": "code",
      "execution_count": null,
      "metadata": {
        "colab": {
          "background_save": true
        },
        "id": "MxDMqF43hkiy"
      },
      "outputs": [],
      "source": [
        "std_dev_from_mean_list"
      ]
    },
    {
      "cell_type": "code",
      "execution_count": null,
      "metadata": {
        "colab": {
          "background_save": true
        },
        "id": "KJa7-6rKnsip"
      },
      "outputs": [],
      "source": [
        "\n",
        "import os\n",
        "import pandas as pd\n",
        "from torchvision.io import read_image\n",
        "\n",
        "class RealEstateDataset(Dataset):\n",
        "    def __init__(self, images, img_labels, transform=None, target_transform=None,):\n",
        "        self.img_labels = img_labels\n",
        "        self.images = images\n",
        "        self.transform = transform\n",
        "        self.target_transform = target_transform\n",
        "\n",
        "\n",
        "    def __len__(self):\n",
        "        return len(self.img_labels)\n",
        "\n",
        "    def __getitem__(self,idx):\n",
        "        image = self.images[idx]\n",
        "        # img_path = os.path.join(self.images, self.img_labels[idx])\n",
        "        # image = read_image(img_path)\n",
        "        label = self.img_labels[idx]\n",
        "        if self.transform:\n",
        "            image = self.transform(image)\n",
        "        if self.target_transform:\n",
        "            label = self.target_transform(label)\n",
        "        image = np.float64(image)\n",
        "        label = np.float64(label)\n",
        "        return image,label"
      ]
    },
    {
      "cell_type": "code",
      "execution_count": null,
      "metadata": {
        "colab": {
          "background_save": true
        },
        "id": "r8ptOjB1L8j4"
      },
      "outputs": [],
      "source": [
        "len(std_dev_from_mean_list)"
      ]
    },
    {
      "cell_type": "code",
      "execution_count": null,
      "metadata": {
        "colab": {
          "background_save": true
        },
        "id": "uGu8tWJuy_KZ"
      },
      "outputs": [],
      "source": []
    },
    {
      "cell_type": "code",
      "execution_count": null,
      "metadata": {
        "colab": {
          "background_save": true
        },
        "id": "zYmh7atDL9u5"
      },
      "outputs": [],
      "source": [
        "\n",
        "\n",
        "# Now, you can use the dataset with DataLoader to efficiently load the data during training\n"
      ]
    },
    {
      "cell_type": "code",
      "execution_count": null,
      "metadata": {
        "colab": {
          "background_save": true
        },
        "id": "p-0LcywgqpIt"
      },
      "outputs": [],
      "source": []
    },
    {
      "cell_type": "code",
      "execution_count": null,
      "metadata": {
        "colab": {
          "background_save": true
        },
        "id": "7E6IhO_gz2Uz"
      },
      "outputs": [],
      "source": [
        "X = img_features\n",
        "y = std_dev_from_mean_list"
      ]
    },
    {
      "cell_type": "code",
      "execution_count": null,
      "metadata": {
        "colab": {
          "background_save": true
        },
        "id": "HXIYFAh0iS68"
      },
      "outputs": [],
      "source": [
        "X_img_train, X_img_val, Y_img_train,Y_img_val = train_test_split(X,y,test_size = 0.3, random_state = 0)"
      ]
    },
    {
      "cell_type": "code",
      "execution_count": null,
      "metadata": {
        "colab": {
          "background_save": true
        },
        "id": "8XVhP6wW13s3"
      },
      "outputs": [],
      "source": [
        "len(X_img_train)"
      ]
    },
    {
      "cell_type": "code",
      "execution_count": null,
      "metadata": {
        "colab": {
          "background_save": true
        },
        "id": "v26WiObO15PE"
      },
      "outputs": [],
      "source": [
        "len(X_img_val)"
      ]
    },
    {
      "cell_type": "code",
      "execution_count": null,
      "metadata": {
        "colab": {
          "background_save": true
        },
        "id": "YVS8_3Hx17gg"
      },
      "outputs": [],
      "source": [
        "len(Y_img_train)"
      ]
    },
    {
      "cell_type": "code",
      "execution_count": null,
      "metadata": {
        "colab": {
          "background_save": true
        },
        "id": "vaq52Jh41_dr"
      },
      "outputs": [],
      "source": [
        "len(Y_img_val)"
      ]
    },
    {
      "cell_type": "code",
      "execution_count": null,
      "metadata": {
        "colab": {
          "background_save": true
        },
        "id": "Fp20M62gzFsT"
      },
      "outputs": [],
      "source": [
        "X_img_val,X_img_test,Y_img_val,Y_img_test= train_test_split(X_img_val,Y_img_val, test_size = 0.5, random_state = 0)"
      ]
    },
    {
      "cell_type": "code",
      "execution_count": null,
      "metadata": {
        "colab": {
          "background_save": true
        },
        "id": "RdBbn0hj2IXe"
      },
      "outputs": [],
      "source": [
        "len(X_img_test)"
      ]
    },
    {
      "cell_type": "code",
      "execution_count": null,
      "metadata": {
        "colab": {
          "background_save": true
        },
        "id": "Zb3g2Og62IVl"
      },
      "outputs": [],
      "source": [
        "len(Y_img_test)"
      ]
    },
    {
      "cell_type": "code",
      "execution_count": null,
      "metadata": {
        "colab": {
          "background_save": true
        },
        "id": "bfQfXHGK2ITL"
      },
      "outputs": [],
      "source": [
        "len(X_img_val)"
      ]
    },
    {
      "cell_type": "code",
      "execution_count": null,
      "metadata": {
        "colab": {
          "background_save": true
        },
        "id": "8j5-5waK2IQi"
      },
      "outputs": [],
      "source": [
        "len(Y_img_val)"
      ]
    },
    {
      "cell_type": "code",
      "execution_count": null,
      "metadata": {
        "colab": {
          "background_save": true
        },
        "id": "jPaPHyyI2IOc"
      },
      "outputs": [],
      "source": []
    },
    {
      "cell_type": "code",
      "execution_count": null,
      "metadata": {
        "colab": {
          "background_save": true
        },
        "id": "DBCi6ICk2IL2"
      },
      "outputs": [],
      "source": []
    },
    {
      "cell_type": "code",
      "execution_count": null,
      "metadata": {
        "colab": {
          "background_save": true
        },
        "id": "t-m-BcqQ2IKA"
      },
      "outputs": [],
      "source": [
        "import torch"
      ]
    },
    {
      "cell_type": "code",
      "execution_count": null,
      "metadata": {
        "colab": {
          "background_save": true
        },
        "id": "Btm6EFuf2Hxy"
      },
      "outputs": [],
      "source": [
        "from torchvision.transforms import ToTensor, Lambda"
      ]
    },
    {
      "cell_type": "code",
      "execution_count": null,
      "metadata": {
        "colab": {
          "background_save": true
        },
        "id": "_TUOIZYcgG3N"
      },
      "outputs": [],
      "source": []
    },
    {
      "cell_type": "code",
      "execution_count": null,
      "metadata": {
        "colab": {
          "background_save": true
        },
        "id": "q0XqdCTRL9so"
      },
      "outputs": [],
      "source": [
        "from tables.tests.test_suite import test\n",
        "from torch.utils.data import DataLoader\n",
        "train_dataset = RealEstateDataset(images = X_img_train, img_labels = Y_img_train, transform = None, target_transform = None)\n",
        "test_dataset = RealEstateDataset(images = X_img_test, img_labels = Y_img_val, transform = None,target_transform = None)\n",
        "val_dataset = RealEstateDataset(images = X_img_val, img_labels = Y_img_test, transform =None,target_transform = None)"
      ]
    },
    {
      "cell_type": "code",
      "execution_count": null,
      "metadata": {
        "colab": {
          "background_save": true
        },
        "id": "ElZ-La9xgLgG"
      },
      "outputs": [],
      "source": [
        "len(train_dataset)"
      ]
    },
    {
      "cell_type": "code",
      "execution_count": null,
      "metadata": {
        "colab": {
          "background_save": true
        },
        "id": "LOVIbaDZ938v"
      },
      "outputs": [],
      "source": [
        "\n",
        "train_dataloader = DataLoader(train_dataset, batch_size=64, shuffle=True)\n",
        "val_dataloader = DataLoader(val_dataset,batch_size = 64, shuffle = True)\n",
        "test_dataloader = DataLoader(test_dataset, batch_size=64, shuffle=True)"
      ]
    },
    {
      "cell_type": "code",
      "execution_count": null,
      "metadata": {
        "colab": {
          "background_save": true
        },
        "id": "gYz8-JwggO7N"
      },
      "outputs": [],
      "source": [
        "len(train_dataloader)"
      ]
    },
    {
      "cell_type": "code",
      "execution_count": null,
      "metadata": {
        "colab": {
          "background_save": true
        },
        "id": "zg-apOCDkSM6"
      },
      "outputs": [],
      "source": [
        "iterator=iter(train_dataloader)"
      ]
    },
    {
      "cell_type": "code",
      "execution_count": null,
      "metadata": {
        "colab": {
          "background_save": true
        },
        "id": "qtAvb34711An"
      },
      "outputs": [],
      "source": []
    },
    {
      "cell_type": "code",
      "execution_count": null,
      "metadata": {
        "colab": {
          "background_save": true
        },
        "id": "ctnOUEwvvWXQ"
      },
      "outputs": [],
      "source": [
        "print(next(iterator))"
      ]
    },
    {
      "cell_type": "code",
      "execution_count": null,
      "metadata": {
        "colab": {
          "background_save": true
        },
        "id": "LUpu7mHNkUMv"
      },
      "outputs": [],
      "source": [
        "train_features,train_labels = next((iterator))"
      ]
    },
    {
      "cell_type": "code",
      "execution_count": null,
      "metadata": {
        "colab": {
          "background_save": true
        },
        "id": "AfmpoJRL794M"
      },
      "outputs": [],
      "source": [
        "train_features"
      ]
    },
    {
      "cell_type": "code",
      "execution_count": null,
      "metadata": {
        "colab": {
          "background_save": true
        },
        "id": "dbuyJbT-7khy"
      },
      "outputs": [],
      "source": [
        "train_labels"
      ]
    },
    {
      "cell_type": "code",
      "execution_count": null,
      "metadata": {
        "colab": {
          "background_save": true
        },
        "id": "I1JWDDzLfbQf"
      },
      "outputs": [],
      "source": []
    },
    {
      "cell_type": "code",
      "execution_count": null,
      "metadata": {
        "colab": {
          "background_save": true
        },
        "id": "gbEtMCZipEXL"
      },
      "outputs": [],
      "source": []
    },
    {
      "cell_type": "code",
      "execution_count": null,
      "metadata": {
        "colab": {
          "background_save": true
        },
        "id": "1xO1XcUAf3iM"
      },
      "outputs": [],
      "source": [
        "train_labels.shape"
      ]
    },
    {
      "cell_type": "code",
      "execution_count": null,
      "metadata": {
        "colab": {
          "background_save": true
        },
        "id": "lYqollHTfyPX"
      },
      "outputs": [],
      "source": [
        "len(train_dataloader)"
      ]
    },
    {
      "cell_type": "code",
      "execution_count": null,
      "metadata": {
        "colab": {
          "background_save": true
        },
        "id": "qDAsPx9F6Bku"
      },
      "outputs": [],
      "source": [
        "len(train_features)"
      ]
    },
    {
      "cell_type": "code",
      "execution_count": null,
      "metadata": {
        "colab": {
          "background_save": true
        },
        "id": "PMCbD6Wyj29K"
      },
      "outputs": [],
      "source": [
        "len(train_labels)"
      ]
    },
    {
      "cell_type": "code",
      "execution_count": null,
      "metadata": {
        "colab": {
          "background_save": true
        },
        "id": "H5lKzPioL9p5"
      },
      "outputs": [],
      "source": [
        "\n",
        "print(f\"Feature batch shape: {train_features.size()}\")\n",
        "print(f\"Labels batch shape: {train_labels.size()}\")\n",
        "img = train_features[0].squeeze()\n",
        "label = train_labels[0]\n",
        "\n",
        "plt.imshow(img)\n",
        "\n",
        "print(f\"Label: {label}\")"
      ]
    },
    {
      "cell_type": "code",
      "execution_count": null,
      "metadata": {
        "colab": {
          "background_save": true
        },
        "id": "jeEAwYIGL9nl"
      },
      "outputs": [],
      "source": [
        "print(img)"
      ]
    },
    {
      "cell_type": "code",
      "execution_count": null,
      "metadata": {
        "colab": {
          "background_save": true
        },
        "id": "XK6oifnmdf3N"
      },
      "outputs": [],
      "source": [
        "train_features.size()"
      ]
    },
    {
      "cell_type": "code",
      "execution_count": null,
      "metadata": {
        "colab": {
          "background_save": true
        },
        "id": "bcjWm_bhdhi5"
      },
      "outputs": [],
      "source": [
        "train_labels.size()"
      ]
    },
    {
      "cell_type": "code",
      "execution_count": null,
      "metadata": {
        "colab": {
          "background_save": true
        },
        "id": "qL6u1ZMIdvSH"
      },
      "outputs": [],
      "source": [
        "train_labels.size()"
      ]
    },
    {
      "cell_type": "code",
      "execution_count": null,
      "metadata": {
        "colab": {
          "background_save": true
        },
        "id": "foSpbSt5L9lR"
      },
      "outputs": [],
      "source": [
        "# Wout = (W - F)/S + 1\n",
        "# W is width of the matrix you apply the filter to\n",
        "# F is the width of the filter/pool\n",
        "# S is the stride length (for pooling the stride length is the same as F)\n",
        "from torch import nn\n",
        "class ConvNet(nn.Module):\n",
        "  def __init__(self):\n",
        "    super(ConvNet, self).__init__()\n",
        "    self.conv1 = nn.Conv2d(3, 32, 3, 1)\n",
        "    # 1 input (1 image at a time), 32 outputs (send image to 32 filters), 3x3 filter, 1 stride\n",
        "    self.conv2 = nn.Conv2d(32, 64, 3, 1)\n",
        "    # 32 inputs (grab 32 activation maps), 64 outputs (send image to 64 filters), 3x3 filter, 1 stride\n",
        "    #self.dropout = nn.Dropout(0.25) # randomly ignores 25% of the feature maps,\n",
        "    #                                 only updates the randomly picked 75% in backprop\n",
        "    self.fc1 = nn.Linear(64 *14 *14,32)\n",
        "    self.fc2 = nn.Linear(32, 1)\n",
        "\n",
        "\n",
        "  def forward(self, x):\n",
        "    #x = x.view(64, 64, 64, 3) # reshape into a 28 x 28 matrix\n",
        "    #print(\"Input into forward pass\"+str(x.size()))\n",
        "    x = self.conv1(x)\n",
        "    #print(\"Conv1:\"+str(x.size()))\n",
        "    # Wout = (64 - 3)/1 + 1 = 62\n",
        "    x = F.relu(x)\n",
        "    x = F.max_pool2d(x, 2)\n",
        "    #print(\"Maxpool1:\"+str(x.size()))\n",
        "    # Wout = (62 - 2)/2 + 1 = 31\n",
        "    x = self.conv2(x)\n",
        "    #print(\"Conv2:\"+str(x.size()))\n",
        "    # Wout = (31 - 3)/1 + 1 = 29\n",
        "    x = F.relu(x)\n",
        "    x = F.max_pool2d(x, 2)\n",
        "    # Wout = (29 - 2)/2 + 1 = 14\n",
        "    #x = self.dropout(x)\n",
        "    x = torch.flatten(x, 1)\n",
        "    # var = len(x)\n",
        "    x = self.fc1(x)\n",
        "    x = F.relu(x)\n",
        "    x = self.fc2(x)\n",
        "    #x = x.view(64)\n",
        "    output = x\n",
        "\n",
        "    return output"
      ]
    },
    {
      "cell_type": "code",
      "execution_count": null,
      "metadata": {
        "colab": {
          "background_save": true
        },
        "id": "QHnRM2Z8L9i2"
      },
      "outputs": [],
      "source": [
        "model = ConvNet()"
      ]
    },
    {
      "cell_type": "code",
      "execution_count": null,
      "metadata": {
        "colab": {
          "background_save": true
        },
        "id": "8d5Oou19L9gT"
      },
      "outputs": [],
      "source": [
        "loss_fn = nn.MSELoss()\n",
        "optimizer = optim.Adam(model.parameters(), lr=0.001)"
      ]
    },
    {
      "cell_type": "code",
      "execution_count": null,
      "metadata": {
        "colab": {
          "background_save": true
        },
        "id": "imsfQ13Dlktc"
      },
      "outputs": [],
      "source": [
        "train_labels.size()"
      ]
    },
    {
      "cell_type": "code",
      "execution_count": null,
      "metadata": {
        "colab": {
          "background_save": true
        },
        "id": "h8A4zSDImJ_6"
      },
      "outputs": [],
      "source": [
        "train_features.size()"
      ]
    },
    {
      "cell_type": "code",
      "execution_count": null,
      "metadata": {
        "colab": {
          "background_save": true
        },
        "id": "AnyWpoaBdWXv"
      },
      "outputs": [],
      "source": [
        "train_labels.size()"
      ]
    },
    {
      "cell_type": "code",
      "execution_count": null,
      "metadata": {
        "colab": {
          "background_save": true
        },
        "id": "vDyDIXCYeg-5"
      },
      "outputs": [],
      "source": [
        "type(train_labels)"
      ]
    },
    {
      "cell_type": "code",
      "execution_count": null,
      "metadata": {
        "colab": {
          "background_save": true
        },
        "id": "9-oa6uzXgRjW"
      },
      "outputs": [],
      "source": [
        "train_labels = train_labels.unsqueeze(1)"
      ]
    },
    {
      "cell_type": "code",
      "execution_count": null,
      "metadata": {
        "colab": {
          "background_save": true
        },
        "id": "TK5fob7bgWIk"
      },
      "outputs": [],
      "source": []
    },
    {
      "cell_type": "code",
      "execution_count": null,
      "metadata": {
        "colab": {
          "background_save": true
        },
        "id": "x2kFGINRf4oT"
      },
      "outputs": [],
      "source": [
        "train_labels.size()"
      ]
    },
    {
      "cell_type": "code",
      "execution_count": null,
      "metadata": {
        "colab": {
          "background_save": true
        },
        "id": "n5JiN2QJgdbb"
      },
      "outputs": [],
      "source": [
        "train_features.size()"
      ]
    },
    {
      "cell_type": "code",
      "execution_count": null,
      "metadata": {
        "colab": {
          "background_save": true
        },
        "id": "MIfpiZmyghAJ"
      },
      "outputs": [],
      "source": [
        "train_labels = train_labels.unsqueeze(1)"
      ]
    },
    {
      "cell_type": "code",
      "execution_count": null,
      "metadata": {
        "colab": {
          "background_save": true
        },
        "id": "UTzaeJvrgm6h"
      },
      "outputs": [],
      "source": [
        "train_labels.size()"
      ]
    },
    {
      "cell_type": "code",
      "execution_count": null,
      "metadata": {
        "colab": {
          "background_save": true
        },
        "id": "8fGBNhkBL9d-"
      },
      "outputs": [],
      "source": [
        "epochs = 5\n",
        "for epoch in range(epochs):\n",
        "  running_loss = 0.0\n",
        "  for train_features, train_labels in train_dataloader:\n",
        "    optimizer.zero_grad()\n",
        "    train_features = train_features.float().permute(0,3,1,2)\n",
        "    inputs = train_features\n",
        "    outputs = model(inputs)\n",
        "    outputs = outputs.to(torch.float64)\n",
        "    loss = loss_fn(outputs, train_labels.unsqueeze(1))\n",
        "    running_loss += loss.item()\n",
        "    loss.backward() # backprop\n",
        "    optimizer.step() # update weights\n",
        "\n",
        "  print(\"Outputs:\"+str(outputs))\n",
        "  print(\"Train labels\"+str(train_labels))\n",
        "  print(f\"Epoch: {epoch+1} / {epochs}, Loss: {running_loss/len(train_dataloader)}\")\n",
        "  #print(inputs,outputs)\n",
        "  print(\"Loss\"+str(loss))\n"
      ]
    },
    {
      "cell_type": "code",
      "execution_count": null,
      "metadata": {
        "colab": {
          "background_save": true
        },
        "id": "She7gJBcDr-6"
      },
      "outputs": [],
      "source": []
    },
    {
      "cell_type": "code",
      "execution_count": null,
      "metadata": {
        "colab": {
          "background_save": true
        },
        "id": "H3VJJ_rxL9Zz"
      },
      "outputs": [],
      "source": [
        "print(inputs.shape)"
      ]
    },
    {
      "cell_type": "code",
      "execution_count": null,
      "metadata": {
        "colab": {
          "background_save": true
        },
        "id": "UbnOZ7RpDDY0"
      },
      "outputs": [],
      "source": [
        "print(outputs.shape)"
      ]
    },
    {
      "cell_type": "code",
      "execution_count": null,
      "metadata": {
        "colab": {
          "background_save": true
        },
        "id": "VMiupd16Kg3V"
      },
      "outputs": [],
      "source": [
        "X_img_train, X_img_val, X_img_test = np.split(img_features, [X, y])"
      ]
    },
    {
      "cell_type": "code",
      "execution_count": null,
      "metadata": {
        "colab": {
          "background_save": true
        },
        "id": "nNtc6nUQKp4K"
      },
      "outputs": [],
      "source": []
    },
    {
      "cell_type": "code",
      "execution_count": null,
      "metadata": {
        "colab": {
          "background_save": true
        },
        "id": "-rJrVFj-JEY3"
      },
      "outputs": [],
      "source": [
        "from torch.utils.data import DataLoader\n",
        "\n",
        "train_dataloader = DataLoader(X_img_train, batch_size=64, shuffle=True)\n",
        "test_dataloader = DataLoader(X_img_test, batch_size=64, shuffle=True)"
      ]
    },
    {
      "cell_type": "code",
      "execution_count": null,
      "metadata": {
        "colab": {
          "background_save": true
        },
        "id": "QChI55RyKm8-"
      },
      "outputs": [],
      "source": [
        "train_dataloader"
      ]
    },
    {
      "cell_type": "code",
      "execution_count": null,
      "metadata": {
        "colab": {
          "background_save": true
        },
        "id": "tpJ--TL3K8DK"
      },
      "outputs": [],
      "source": [
        "batch_size = 32  # Set the appropriate batch size you used in creating the DataLoader\n",
        "\n",
        "# Now, get a batch from the 'train_dataloader'\n",
        "for batch in train_dataloader:\n",
        "    train_features, train_labels = batch\n",
        "    break  # Break after processing one batch\n",
        "\n",
        "print(f\"Feature batch shape: {train_features.size()}\")\n",
        "print(f\"Labels batch shape: {train_labels.size()}\")\n",
        "\n",
        "# Continue with the rest of your code to visualize the data\n",
        "img = train_features[0].squeeze()\n",
        "label = train_labels[0]\n",
        "plt.imshow(img, cmap=\"gray\")\n",
        "plt.show()\n",
        "print(f\"Label: {label}\")"
      ]
    },
    {
      "cell_type": "code",
      "execution_count": null,
      "metadata": {
        "colab": {
          "background_save": true
        },
        "id": "-8H3DCDkJUBL"
      },
      "outputs": [],
      "source": [
        "train_features, train_labels = next(iter(train_dataloader))\n",
        "print(f\"Feature batch shape: {train_features.size()}\")\n",
        "print(f\"Labels batch shape: {train_labels.size()}\")\n",
        "img = train_features[0].squeeze()\n",
        "label = train_labels[0]\n",
        "plt.imshow(img, cmap=\"gray\")\n",
        "plt.show()\n",
        "print(f\"Label: {label}\")"
      ]
    },
    {
      "cell_type": "code",
      "execution_count": null,
      "metadata": {
        "colab": {
          "background_save": true
        },
        "id": "DYfNOfJuWhqE"
      },
      "outputs": [],
      "source": []
    },
    {
      "cell_type": "code",
      "execution_count": null,
      "metadata": {
        "colab": {
          "background_save": true
        },
        "id": "2a65j0_KWhne"
      },
      "outputs": [],
      "source": []
    },
    {
      "cell_type": "code",
      "execution_count": null,
      "metadata": {
        "colab": {
          "background_save": true
        },
        "id": "w37lt--5Whka"
      },
      "outputs": [],
      "source": [
        "input_img = Input((img_height, img_width, 3))\n",
        "x_img = Rescaling(1./255)(input_img)\n",
        "x_img = Conv2D(64, 3, padding='same', activation='relu')(x_img)\n",
        "x_img = Conv2D(64, 3, padding='same', activation='relu')(x_img)\n",
        "x_img = MaxPooling2D(padding='same')(x_img)\n",
        "x_img = BatchNormalization()(x_img)\n",
        "x_img = Conv2D(128, 3, padding='same', activation='relu')(x_img)\n",
        "x_img = Conv2D(128, 3, padding='same', activation='relu')(x_img)\n",
        "x_img = MaxPooling2D(padding='same')(x_img)\n",
        "x_img = BatchNormalization()(x_img)\n",
        "x_img = Conv2D(256, 3, padding='same', activation='relu')(x_img)\n",
        "x_img = Conv2D(256, 3, padding='same', activation='relu')(x_img)\n",
        "x_img = Conv2D(256, 3, padding='same', activation='relu')(x_img)\n",
        "x_img = MaxPooling2D(padding='same')(x_img)\n",
        "x_img = BatchNormalization()(x_img)\n",
        "x_img = Conv2D(512, 3, padding='same', activation='relu')(x_img)\n",
        "x_img = Conv2D(512, 3, padding='same', activation='relu')(x_img)\n",
        "x_img = Conv2D(512, 3, padding='same', activation='relu')(x_img)\n",
        "x_img = MaxPooling2D(padding='same')(x_img)\n",
        "x_img = BatchNormalization()(x_img)\n",
        "x_img = Conv2D(1024, 3, padding='same', activation='relu')(x_img)\n",
        "x_img = Conv2D(1024, 3, padding='same', activation='relu')(x_img)\n",
        "x_img = Conv2D(1024, 3, padding='same', activation='relu')(x_img)\n",
        "x_img = MaxPooling2D(padding='same')(x_img)\n",
        "x_img = BatchNormalization()(x_img)\n",
        "x_img = Dropout(0.25)(x_img)\n",
        "x_img = Flatten()(x_img)\n",
        "x_img = Dense(1024, activation='relu')(x_img)\n",
        "x_img = Dense(1024, activation='relu')(x_img)\n",
        "\n",
        "model_img = Model(input_img, x_img)"
      ]
    },
    {
      "cell_type": "code",
      "execution_count": null,
      "metadata": {
        "colab": {
          "background_save": true
        },
        "id": "FjDjJ3HFWhhu"
      },
      "outputs": [],
      "source": [
        "extracted_features = model_img.predict(img_features)"
      ]
    },
    {
      "cell_type": "code",
      "execution_count": null,
      "metadata": {
        "colab": {
          "background_save": true
        },
        "id": "f3-tjHRBksag"
      },
      "outputs": [],
      "source": [
        "len(final_preds)"
      ]
    },
    {
      "cell_type": "code",
      "execution_count": null,
      "metadata": {
        "colab": {
          "background_save": true
        },
        "id": "GvqqeGphWhYa"
      },
      "outputs": [],
      "source": [
        "features"
      ]
    },
    {
      "cell_type": "code",
      "execution_count": null,
      "metadata": {
        "colab": {
          "background_save": true
        },
        "id": "WaSXXu_Ii9Ti"
      },
      "outputs": [],
      "source": [
        "final_preds=tf.transpose(final_preds, perm=[2, 0])"
      ]
    },
    {
      "cell_type": "code",
      "execution_count": null,
      "metadata": {
        "colab": {
          "background_save": true
        },
        "id": "okQ_DTM-ZS0_"
      },
      "outputs": [],
      "source": [
        "combined_features = tf.keras.layers.concatenate([extracted_features, final_preds.reshape(-1,1)],axis=1)"
      ]
    },
    {
      "cell_type": "code",
      "execution_count": null,
      "metadata": {
        "colab": {
          "background_save": true
        },
        "id": "S-R12VODZTi4"
      },
      "outputs": [],
      "source": []
    },
    {
      "cell_type": "code",
      "execution_count": null,
      "metadata": {
        "colab": {
          "background_save": true
        },
        "id": "logGmQlOZTgq"
      },
      "outputs": [],
      "source": [
        "#HOUSE PRICES"
      ]
    },
    {
      "cell_type": "code",
      "execution_count": null,
      "metadata": {
        "colab": {
          "background_save": true
        },
        "id": "FQQEg8_SZTeA"
      },
      "outputs": [],
      "source": [
        "df = pd.read_csv(\"/content/drive/MyDrive/usahouseprices/realtor-data.csv\")"
      ]
    },
    {
      "cell_type": "code",
      "execution_count": null,
      "metadata": {
        "colab": {
          "background_save": true
        },
        "id": "ww_UbvdkZTbs"
      },
      "outputs": [],
      "source": []
    },
    {
      "cell_type": "code",
      "execution_count": null,
      "metadata": {
        "colab": {
          "background_save": true
        },
        "id": "DCoHHfo7ZTYB"
      },
      "outputs": [],
      "source": [
        "df\n"
      ]
    },
    {
      "cell_type": "code",
      "execution_count": null,
      "metadata": {
        "colab": {
          "background_save": true
        },
        "id": "Ai3qZH_FZTWA"
      },
      "outputs": [],
      "source": []
    },
    {
      "cell_type": "code",
      "execution_count": null,
      "metadata": {
        "colab": {
          "background_save": true
        },
        "id": "kr85UJdaBoOV"
      },
      "outputs": [],
      "source": [
        "df.isnull().sum()"
      ]
    },
    {
      "cell_type": "code",
      "execution_count": null,
      "metadata": {
        "colab": {
          "background_save": true
        },
        "id": "kh2_PrdvBjqA"
      },
      "outputs": [],
      "source": [
        "df[\"price\"].fillna(value = df[\"price\"].median(),inplace=True)"
      ]
    },
    {
      "cell_type": "code",
      "execution_count": null,
      "metadata": {
        "colab": {
          "background_save": true
        },
        "id": "CJfvv-txEapk"
      },
      "outputs": [],
      "source": [
        "df[\"bed\"].fillna(value = df[\"bed\"].median(),inplace=True)"
      ]
    },
    {
      "cell_type": "code",
      "execution_count": null,
      "metadata": {
        "colab": {
          "background_save": true
        },
        "id": "AbIsfqtXEbju"
      },
      "outputs": [],
      "source": [
        "df[\"bath\"].fillna(value = df[\"bath\"].median(),inplace=True)"
      ]
    },
    {
      "cell_type": "code",
      "execution_count": null,
      "metadata": {
        "colab": {
          "background_save": true
        },
        "id": "MBtdS8c_G10a"
      },
      "outputs": [],
      "source": [
        "df[\"house_size\"].fillna(value = df[\"house_size\"].median(),inplace = True)"
      ]
    },
    {
      "cell_type": "code",
      "execution_count": null,
      "metadata": {
        "colab": {
          "background_save": true
        },
        "id": "s4vpWF2AHN65"
      },
      "outputs": [],
      "source": [
        "column_to_check = 'city'\n",
        "df.dropna(subset=[column_to_check], inplace = True)"
      ]
    },
    {
      "cell_type": "code",
      "execution_count": null,
      "metadata": {
        "colab": {
          "background_save": true
        },
        "id": "EueAsYu-IZ2R"
      },
      "outputs": [],
      "source": [
        "df"
      ]
    },
    {
      "cell_type": "code",
      "execution_count": null,
      "metadata": {
        "colab": {
          "background_save": true
        },
        "id": "n7roiMTAG_sn"
      },
      "outputs": [],
      "source": [
        "df.isnull().sum()"
      ]
    },
    {
      "cell_type": "code",
      "execution_count": null,
      "metadata": {
        "colab": {
          "background_save": true
        },
        "id": "ZUX6w-0FEb75"
      },
      "outputs": [],
      "source": [
        "column_to_check = \"acre_lot\"\n",
        "df.dropna(subset=[column_to_check], inplace = True)"
      ]
    },
    {
      "cell_type": "code",
      "execution_count": null,
      "metadata": {
        "colab": {
          "background_save": true
        },
        "id": "VruqBmL8GSZr"
      },
      "outputs": [],
      "source": [
        "df.drop(columns = \"street\", inplace = True)"
      ]
    },
    {
      "cell_type": "code",
      "execution_count": null,
      "metadata": {
        "colab": {
          "background_save": true
        },
        "id": "NNXqo23mGZ6s"
      },
      "outputs": [],
      "source": [
        "df.drop(columns = \"full_address\", inplace = True)"
      ]
    },
    {
      "cell_type": "code",
      "execution_count": null,
      "metadata": {
        "colab": {
          "background_save": true
        },
        "id": "Tw6vGbmUGeyY"
      },
      "outputs": [],
      "source": [
        "df.drop(columns = \"status\", inplace = True)"
      ]
    },
    {
      "cell_type": "code",
      "execution_count": null,
      "metadata": {
        "colab": {
          "background_save": true
        },
        "id": "zf7celaBGr0Z"
      },
      "outputs": [],
      "source": [
        "df.drop(columns = \"sold_date\", inplace = True)"
      ]
    },
    {
      "cell_type": "code",
      "execution_count": null,
      "metadata": {
        "colab": {
          "background_save": true
        },
        "id": "6Fg7kkNYHI8z"
      },
      "outputs": [],
      "source": [
        "column_to_check = \"zip_code\"\n",
        "df.dropna(subset=[column_to_check], inplace = True)"
      ]
    },
    {
      "cell_type": "code",
      "execution_count": null,
      "metadata": {
        "colab": {
          "background_save": true
        },
        "id": "SmZR5ywrGEUO"
      },
      "outputs": [],
      "source": [
        "df"
      ]
    },
    {
      "cell_type": "code",
      "execution_count": null,
      "metadata": {
        "colab": {
          "background_save": true
        },
        "id": "XGlDM-MaFRSj"
      },
      "outputs": [],
      "source": [
        "sns.heatmap(data =df.corr(),annot = True)"
      ]
    },
    {
      "cell_type": "code",
      "execution_count": null,
      "metadata": {
        "colab": {
          "background_save": true
        },
        "id": "NyDVYvdUEQUq"
      },
      "outputs": [],
      "source": [
        "df.isnull().sum()"
      ]
    },
    {
      "cell_type": "code",
      "execution_count": null,
      "metadata": {
        "colab": {
          "background_save": true
        },
        "id": "q2gKWOnsL0_h"
      },
      "outputs": [],
      "source": [
        "from sklearn.preprocessing import LabelEncoder\n",
        "le = LabelEncoder() #label encoder can be used to transform non numerical values into numerical values\n",
        "\n",
        "transformcols = [\"city\",\"state\"]\n",
        "df.info()\n",
        "for col in transformcols:\n",
        "    df[col] = le.fit_transform(df[col]) #fit and transform data\n",
        "    print(le.classes_)"
      ]
    },
    {
      "cell_type": "code",
      "execution_count": null,
      "metadata": {
        "colab": {
          "background_save": true
        },
        "id": "Z3CnHfPrL3Ut"
      },
      "outputs": [],
      "source": [
        "df.sort_values(by=\"state\")"
      ]
    },
    {
      "cell_type": "code",
      "execution_count": null,
      "metadata": {
        "colab": {
          "background_save": true
        },
        "id": "M8BygoQ-JTJ-"
      },
      "outputs": [],
      "source": [
        "X = df.drop(columns = \"price\")\n",
        "y = df[\"price\"]"
      ]
    },
    {
      "cell_type": "code",
      "execution_count": null,
      "metadata": {
        "colab": {
          "background_save": true
        },
        "id": "TqlXseEmJn4p"
      },
      "outputs": [],
      "source": [
        "X"
      ]
    },
    {
      "cell_type": "code",
      "execution_count": null,
      "metadata": {
        "colab": {
          "background_save": true
        },
        "id": "O9ZKrplRJoQx"
      },
      "outputs": [],
      "source": [
        "y"
      ]
    },
    {
      "cell_type": "code",
      "execution_count": null,
      "metadata": {
        "colab": {
          "background_save": true
        },
        "id": "HumGllS7J075"
      },
      "outputs": [],
      "source": [
        "sns.distplot(y , fit=norm);"
      ]
    },
    {
      "cell_type": "code",
      "execution_count": null,
      "metadata": {
        "colab": {
          "background_save": true
        },
        "id": "GX7B5h8BJp6q"
      },
      "outputs": [],
      "source": [
        "y = np.log1p(y)\n",
        "sns.distplot(y , fit=norm);"
      ]
    },
    {
      "cell_type": "code",
      "execution_count": null,
      "metadata": {
        "colab": {
          "background_save": true
        },
        "id": "K8SzUCqhKtS2"
      },
      "outputs": [],
      "source": []
    },
    {
      "cell_type": "code",
      "execution_count": null,
      "metadata": {
        "colab": {
          "background_save": true
        },
        "id": "j_nQEdwXK8Np"
      },
      "outputs": [],
      "source": []
    },
    {
      "cell_type": "code",
      "execution_count": null,
      "metadata": {
        "colab": {
          "background_save": true
        },
        "id": "0-436q5vLGoR"
      },
      "outputs": [],
      "source": [
        "df"
      ]
    },
    {
      "cell_type": "code",
      "execution_count": null,
      "metadata": {
        "colab": {
          "background_save": true
        },
        "id": "HiroHLkrJp4C"
      },
      "outputs": [],
      "source": [
        "X_train, X_val, y_train, y_val = train_test_split(X, y, test_size=0.3)"
      ]
    },
    {
      "cell_type": "code",
      "execution_count": null,
      "metadata": {
        "colab": {
          "background_save": true
        },
        "id": "8eLbZbYaJp1Z"
      },
      "outputs": [],
      "source": [
        "X_val, X_test, y_val, y_test = train_test_split(X,y,test_size = 0.5)"
      ]
    },
    {
      "cell_type": "code",
      "execution_count": null,
      "metadata": {
        "colab": {
          "background_save": true
        },
        "id": "U0m0isZxKeaC"
      },
      "outputs": [],
      "source": [
        "X_train"
      ]
    },
    {
      "cell_type": "code",
      "execution_count": null,
      "metadata": {
        "colab": {
          "background_save": true
        },
        "id": "UAcpYGI3Jpyo"
      },
      "outputs": [],
      "source": [
        "y_train"
      ]
    },
    {
      "cell_type": "code",
      "execution_count": null,
      "metadata": {
        "colab": {
          "background_save": true
        },
        "id": "2QxOdc_PJpvm"
      },
      "outputs": [],
      "source": [
        "X_val"
      ]
    },
    {
      "cell_type": "code",
      "execution_count": null,
      "metadata": {
        "colab": {
          "background_save": true
        },
        "id": "A10WSijsJpsq"
      },
      "outputs": [],
      "source": [
        "y_val"
      ]
    },
    {
      "cell_type": "code",
      "execution_count": null,
      "metadata": {
        "colab": {
          "background_save": true
        },
        "id": "A-gpDTozMOLc"
      },
      "outputs": [],
      "source": [
        "X_test"
      ]
    },
    {
      "cell_type": "code",
      "execution_count": null,
      "metadata": {
        "colab": {
          "background_save": true
        },
        "id": "jKdpcONXML3a"
      },
      "outputs": [],
      "source": [
        "X_val"
      ]
    },
    {
      "cell_type": "code",
      "execution_count": null,
      "metadata": {
        "colab": {
          "background_save": true
        },
        "id": "wo9THytwJppl"
      },
      "outputs": [],
      "source": [
        "scaler = StandardScaler()\n",
        "X_train = scaler.fit_transform(X_train)\n",
        "X_val = scaler.transform(X_val)\n",
        "X_test = scaler.transform(X_test)"
      ]
    },
    {
      "cell_type": "code",
      "execution_count": null,
      "metadata": {
        "colab": {
          "background_save": true
        },
        "id": "zcKRZb4iJpm1"
      },
      "outputs": [],
      "source": []
    },
    {
      "cell_type": "code",
      "execution_count": null,
      "metadata": {
        "colab": {
          "background_save": true
        },
        "id": "LUxhh6DJMpVV"
      },
      "outputs": [],
      "source": [
        "reg = ltb.LGBMRegressor(random_state=15)\n",
        "reg1 =XGBRegressor(random_state=15)\n",
        "reg2 = RandomForestRegressor(random_state = 15)"
      ]
    },
    {
      "cell_type": "code",
      "execution_count": null,
      "metadata": {
        "colab": {
          "background_save": true
        },
        "id": "xJnAWI8JMpVn"
      },
      "outputs": [],
      "source": [
        "search_space = {\n",
        "    \"num_leaves\":[32,40],\n",
        "    \"min_child_samples\":[15,25]\n",
        "}\n",
        "search_space1 = {\n",
        "    \"max_depth\":[1,9],\n",
        "    \"min_child_weight\":[1,5],\n",
        "    \"eta\":[0.1,0.5],\n",
        "    \"gamma\":[0,5]\n",
        "}\n",
        "search_space2 = {\n",
        "    \"min_samples_leaf\":[1,10],\n",
        "    \"min_samples_split\":[2,7],\n",
        "    \"n_estimators\":[40,50]\n",
        "\n",
        "}\n"
      ]
    },
    {
      "cell_type": "code",
      "execution_count": null,
      "metadata": {
        "colab": {
          "background_save": true
        },
        "id": "dx3_LNu6MpVn"
      },
      "outputs": [],
      "source": [
        "bayeslgbm = BayesSearchCV(reg,search_spaces = search_space,n_iter = 20,verbose = 3)\n",
        "bayeslgbm.fit(X_train,y_train)"
      ]
    },
    {
      "cell_type": "code",
      "execution_count": null,
      "metadata": {
        "colab": {
          "background_save": true
        },
        "id": "T-agzuUzMpVo"
      },
      "outputs": [],
      "source": [
        "bayesxgb = BayesSearchCV(reg1,search_spaces = search_space1, n_iter = 1,verbose = 3)\n",
        "bayesxgb.fit(X_train,y_train)"
      ]
    },
    {
      "cell_type": "code",
      "execution_count": null,
      "metadata": {
        "colab": {
          "background_save": true
        },
        "id": "rcSXy8O5MpVo"
      },
      "outputs": [],
      "source": [
        "bayesrf = BayesSearchCV(reg2,search_spaces = search_space2,verbose=3, n_iter = 1) #perform bayes search on rf model to find best hyperparameters\n",
        "bayesrf.fit(X_train,y_train) #fit to train data"
      ]
    },
    {
      "cell_type": "code",
      "execution_count": null,
      "metadata": {
        "colab": {
          "background_save": true
        },
        "id": "AlaUO0rxMpVo"
      },
      "outputs": [],
      "source": [
        "bestreg = bayeslgbm.best_estimator_ #get best estimator from bayessearch\n",
        "\n",
        "bestreg1 = bayesxgb.best_estimator_\n",
        "\n",
        "bestreg2 = bayesrf.best_estimator_\n"
      ]
    },
    {
      "cell_type": "code",
      "execution_count": null,
      "metadata": {
        "colab": {
          "background_save": true
        },
        "id": "h9x-GQIIMpVp"
      },
      "outputs": [],
      "source": [
        "estimators = [(\"lgbm\",bestreg),(\"xgb\",bestreg1),(\"rf\",bestreg2)] #estimators used in stackingregressor"
      ]
    },
    {
      "cell_type": "code",
      "execution_count": null,
      "metadata": {
        "colab": {
          "background_save": true
        },
        "id": "1fmBSbhLMpVp"
      },
      "outputs": [],
      "source": [
        "stackedmodels = StackingRegressor(estimators = estimators, final_estimator = bestreg1) #stacking\n",
        "stackedmodels.fit(X_train,y_train)"
      ]
    },
    {
      "cell_type": "code",
      "execution_count": null,
      "metadata": {
        "colab": {
          "background_save": true
        },
        "id": "q5QJqPNHMpVp"
      },
      "outputs": [],
      "source": [
        "final_preds = stackedmodels.predict(X_test)\n",
        "stackedscore =r2_score(y_test, final_preds)\n",
        "print('R2 score stacked xgb: ', stackedscore) #calculate r2 score for stackingregressor\n",
        "#0.953583 with xgb as final estimator\n",
        "#0.973125 while normalizing the distribution so less skew in data"
      ]
    },
    {
      "cell_type": "code",
      "execution_count": null,
      "metadata": {
        "colab": {
          "background_save": true
        },
        "id": "PfFLSHzuXdW-"
      },
      "outputs": [],
      "source": [
        "final_preds"
      ]
    },
    {
      "cell_type": "code",
      "execution_count": null,
      "metadata": {
        "colab": {
          "background_save": true
        },
        "id": "pIhN0sZAX-so"
      },
      "outputs": [],
      "source": [
        "y_test"
      ]
    },
    {
      "cell_type": "code",
      "execution_count": null,
      "metadata": {
        "colab": {
          "background_save": true
        },
        "id": "aVlOnhM5MpVq"
      },
      "outputs": [],
      "source": [
        "import seaborn as sns\n",
        "import matplotlib.pyplot as plt\n",
        "\n",
        "# Assuming final_preds and y_test are 1D numpy arrays or Python lists\n",
        "# Calculate the differences between final_preds and y_test\n",
        "differences = (final_preds - y_test)/y_test\n",
        "\n",
        "# Create a scatter plot for y_test (actual values)\n",
        "plt.figure(figsize=(8, 6))\n",
        "sns.lineplot(x= range(len(y_test)), y = differences*100, color='blue', label='y_test (Actual)')\n",
        "#sns.lineplot(x = range(len(final_preds)), y = final_preds, color='red', label='final_preds (Predicted)')\n",
        "plt.axhline(y=0, color='black', linestyle='--')  # Add a horizontal line at y=0 for reference\n",
        "plt.xlabel('Data Point Index')\n",
        "plt.ylabel('Percentage away from actual value')\n",
        "plt.title('Actual vs. Predicted Values')\n",
        "plt.legend()\n",
        "plt.show()\n",
        "\n"
      ]
    },
    {
      "cell_type": "code",
      "execution_count": null,
      "metadata": {
        "colab": {
          "background_save": true
        },
        "id": "XWsZw6zpJpkX"
      },
      "outputs": [],
      "source": [
        "mse = mean_squared_error(y_test, final_preds)\n",
        "\n",
        "print(\"Mean Squared Error:\", mse)"
      ]
    },
    {
      "cell_type": "code",
      "execution_count": null,
      "metadata": {
        "colab": {
          "background_save": true
        },
        "id": "LPduHApuJphS"
      },
      "outputs": [],
      "source": []
    },
    {
      "cell_type": "code",
      "execution_count": null,
      "metadata": {
        "colab": {
          "background_save": true
        },
        "id": "5mjONoLaJpeO"
      },
      "outputs": [],
      "source": []
    },
    {
      "cell_type": "code",
      "execution_count": null,
      "metadata": {
        "colab": {
          "background_save": true
        },
        "id": "lZWPjWiEJpbl"
      },
      "outputs": [],
      "source": []
    },
    {
      "cell_type": "code",
      "execution_count": null,
      "metadata": {
        "colab": {
          "background_save": true
        },
        "id": "GdfhSYvbJpY3"
      },
      "outputs": [],
      "source": []
    },
    {
      "cell_type": "code",
      "execution_count": null,
      "metadata": {
        "colab": {
          "background_save": true
        },
        "id": "fDY8jX5vJpWV"
      },
      "outputs": [],
      "source": []
    },
    {
      "cell_type": "code",
      "execution_count": null,
      "metadata": {
        "colab": {
          "background_save": true
        },
        "id": "Wd0_11SFJpTz"
      },
      "outputs": [],
      "source": []
    },
    {
      "cell_type": "code",
      "execution_count": null,
      "metadata": {
        "colab": {
          "background_save": true
        },
        "id": "W8e0JDC5JpRa"
      },
      "outputs": [],
      "source": []
    },
    {
      "cell_type": "code",
      "execution_count": null,
      "metadata": {
        "colab": {
          "background_save": true
        },
        "id": "CarLCv-JJpPJ"
      },
      "outputs": [],
      "source": []
    },
    {
      "cell_type": "code",
      "execution_count": null,
      "metadata": {
        "colab": {
          "background_save": true
        },
        "id": "QE_m9IG6JpMj"
      },
      "outputs": [],
      "source": []
    },
    {
      "cell_type": "code",
      "execution_count": null,
      "metadata": {
        "colab": {
          "background_save": true
        },
        "id": "9f6ZlHugJpKX"
      },
      "outputs": [],
      "source": []
    },
    {
      "cell_type": "code",
      "execution_count": null,
      "metadata": {
        "colab": {
          "background_save": true
        },
        "id": "YClHWCA6JpFk"
      },
      "outputs": [],
      "source": []
    }
  ],
  "metadata": {
    "accelerator": "GPU",
    "colab": {
      "provenance": []
    },
    "kernelspec": {
      "display_name": "Python 3",
      "name": "python3"
    },
    "language_info": {
      "name": "python"
    }
  },
  "nbformat": 4,
  "nbformat_minor": 0
}